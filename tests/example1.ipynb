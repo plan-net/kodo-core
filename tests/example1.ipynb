{
 "cells": [
  {
   "cell_type": "markdown",
   "id": "1ccabf2a-815c-43cf-8776-d9bd228223fd",
   "metadata": {},
   "source": [
    "## Introduction\n",
    "\n",
    "This guide demonstrates the setup and interactions of a `node`, `registry`, and `provider` service using the `kodo` framework. These services are used to manage distributed flows and registries in a modular and scalable architecture. A `node` provides agentic flows and connects to a `registry`, which brokers the nodes and flows. Additionally, a `hybrid` service acts as both a `node` and a `provider`, enabling more complex workflows by integrating its flows while maintaining independent operations. \n",
    "\n",
    "The examples below detail how to configure and start each component, including their connections and expected behaviors, illustrated with logging output."
   ]
  },
  {
   "cell_type": "code",
   "execution_count": 4,
   "id": "2eaa3fe2-60c6-4dc3-8806-8661b1531600",
   "metadata": {},
   "outputs": [
    {
     "ename": "ImportError",
     "evalue": "module run_service not in sys.modules",
     "output_type": "error",
     "traceback": [
      "\u001b[0;31m---------------------------------------------------------------------------\u001b[0m",
      "\u001b[0;31mImportError\u001b[0m                               Traceback (most recent call last)",
      "Cell \u001b[0;32mIn[4], line 8\u001b[0m\n\u001b[1;32m      4\u001b[0m \u001b[38;5;28;01mfrom\u001b[39;00m\u001b[38;5;250m \u001b[39m\u001b[38;5;21;01mkodo\u001b[39;00m\u001b[38;5;21;01m.\u001b[39;00m\u001b[38;5;21;01mservice\u001b[39;00m\u001b[38;5;21;01m.\u001b[39;00m\u001b[38;5;21;01mnode\u001b[39;00m\u001b[38;5;250m \u001b[39m\u001b[38;5;28;01mimport\u001b[39;00m run_service\n\u001b[1;32m      5\u001b[0m \u001b[38;5;28;01mimport\u001b[39;00m\u001b[38;5;250m \u001b[39m\u001b[38;5;21;01mhttpx\u001b[39;00m\n\u001b[0;32m----> 8\u001b[0m \u001b[43mimportlib\u001b[49m\u001b[38;5;241;43m.\u001b[39;49m\u001b[43mreload\u001b[49m\u001b[43m(\u001b[49m\u001b[43mrun_service\u001b[49m\u001b[43m)\u001b[49m\n",
      "File \u001b[0;32m/Library/Frameworks/Python.framework/Versions/3.12/lib/python3.12/importlib/__init__.py:111\u001b[0m, in \u001b[0;36mreload\u001b[0;34m(module)\u001b[0m\n\u001b[1;32m    108\u001b[0m         \u001b[38;5;28;01mraise\u001b[39;00m \u001b[38;5;167;01mTypeError\u001b[39;00m(\u001b[38;5;124m\"\u001b[39m\u001b[38;5;124mreload() argument must be a module\u001b[39m\u001b[38;5;124m\"\u001b[39m)\n\u001b[1;32m    110\u001b[0m \u001b[38;5;28;01mif\u001b[39;00m sys\u001b[38;5;241m.\u001b[39mmodules\u001b[38;5;241m.\u001b[39mget(name) \u001b[38;5;129;01mis\u001b[39;00m \u001b[38;5;129;01mnot\u001b[39;00m module:\n\u001b[0;32m--> 111\u001b[0m     \u001b[38;5;28;01mraise\u001b[39;00m \u001b[38;5;167;01mImportError\u001b[39;00m(\u001b[38;5;124mf\u001b[39m\u001b[38;5;124m\"\u001b[39m\u001b[38;5;124mmodule \u001b[39m\u001b[38;5;132;01m{\u001b[39;00mname\u001b[38;5;132;01m}\u001b[39;00m\u001b[38;5;124m not in sys.modules\u001b[39m\u001b[38;5;124m\"\u001b[39m, name\u001b[38;5;241m=\u001b[39mname)\n\u001b[1;32m    112\u001b[0m \u001b[38;5;28;01mif\u001b[39;00m name \u001b[38;5;129;01min\u001b[39;00m _RELOADING:\n\u001b[1;32m    113\u001b[0m     \u001b[38;5;28;01mreturn\u001b[39;00m _RELOADING[name]\n",
      "\u001b[0;31mImportError\u001b[0m: module run_service not in sys.modules"
     ]
    }
   ],
   "source": [
    "import importlib\n",
    "\n",
    "import multiprocessing as mp\n",
    "from kodo.service.node import run_service\n",
    "import httpx\n",
    "\n",
    "\n",
    "importlib.reload(run_service)"
   ]
  },
  {
   "cell_type": "markdown",
   "id": "2ba0d994-0a55-47a9-a895-5db12fd8443c",
   "metadata": {},
   "source": [
    "## Start `node` with 5 Flows"
   ]
  },
  {
   "cell_type": "markdown",
   "id": "6f962126-4511-4e53-9aea-f0b4a3eba28f",
   "metadata": {},
   "source": [
    "available options to `run_service`:\n",
    "* `loader: Optional[str] = \"kodo.worker.loader:default_loader\"`\n",
    "* `url:  Optional[str] = \"http://localhost:3366\"`\n",
    "* `organization: Optional[str] = None`\n",
    "* `connect: Optional[List[str]] = None`\n",
    "* `registry: Optional[bool] = True`\n",
    "* `feed: Optional[bool] = True`\n",
    "* `cache_data: Optional[str] = \"./data/cache.json\"`\n",
    "* `cache_reset: Optional[bool] = False`\n",
    "* `screen_level: Optional[str] = \"INFO\"`\n",
    "* `log_file: Optional[str] = \"./data/kodo.log\"`\n",
    "* `log_file_level: Optional[str] = \"DEBUG\"`\n",
    "* `exec_data: Optional[str] = \"./data/exec\"`\n",
    "* `timeout: Optional[int] = 30`\n",
    "* `retry: Optional[int] = 9`\n"
   ]
  },
  {
   "cell_type": "code",
   "execution_count": 2,
   "id": "6815538a-57f4-440b-a307-cbc61cfd9dd9",
   "metadata": {},
   "outputs": [
    {
     "name": "stderr",
     "output_type": "stream",
     "text": [
      "INFO     2025-01-13 14:22:34,703 http://localhost:3366: startup with flows: 5, providers: 0, connection: 1, log level: debug\n",
      "DEBUG    2025-01-13 14:22:34,706 http://localhost:3366: semaphore +1 to 1 for connect\n",
      "INFO     2025-01-13 14:22:34,706 http://localhost:3366: node startup complete\n",
      "INFO     2025-01-13 14:22:34,708 http://localhost:3366: http://localhost:3367/connect with nodes: 1, flows: 5\n",
      "WARNING  2025-01-13 14:22:34,727 http://localhost:3366: failed with http://localhost:3367/connect\n",
      "WARNING  2025-01-13 14:22:35,266 http://localhost:3366: failed with http://localhost:3367/connect\n",
      "WARNING  2025-01-13 14:22:36,305 http://localhost:3366: failed with http://localhost:3367/connect\n",
      "WARNING  2025-01-13 14:22:38,345 http://localhost:3366: failed with http://localhost:3367/connect\n",
      "WARNING  2025-01-13 14:22:42,382 http://localhost:3366: failed with http://localhost:3367/connect\n",
      "DEBUG    2025-01-13 14:22:44,797 http://localhost:3366: return from home\n",
      "WARNING  2025-01-13 14:22:50,420 http://localhost:3366: failed with http://localhost:3367/connect\n",
      "WARNING  2025-01-13 14:23:06,459 http://localhost:3366: failed with http://localhost:3367/connect\n",
      "WARNING  2025-01-13 14:23:14,497 http://localhost:3366: failed with http://localhost:3367/connect\n"
     ]
    }
   ],
   "source": [
    "node = mp.Process(\n",
    "    target=run_service, \n",
    "    kwargs={\n",
    "        \"loader\": \"/Users/rostf/repos/kodo-core/tests/assets/node.yaml\",\n",
    "        # \"cache_reset\": True,\n",
    "        # \"retry\": -1  # try forever\n",
    "    })\n",
    "node.start()"
   ]
  },
  {
   "cell_type": "markdown",
   "id": "b9b0bd4e-dd9f-4fdc-9ddf-cff672e8db37",
   "metadata": {},
   "source": [
    "## Start `registry`\n",
    "\n",
    "After registry startup the node above will connect. This can take upt o 8 "
   ]
  },
  {
   "cell_type": "code",
   "execution_count": 3,
   "id": "aa3c8382-ba15-4571-bd87-05584c647022",
   "metadata": {},
   "outputs": [
    {
     "name": "stderr",
     "output_type": "stream",
     "text": [
      "WARNING  2025-01-13 14:09:47,514 http://localhost:3366: failed with http://localhost:3367/connect\n",
      "INFO     2025-01-13 14:09:47,760 http://localhost:3367: startup with flows: 0, providers: 0, connection: 0, log level: debug\n",
      "WARNING  2025-01-13 14:09:47,760 http://localhost:3367: reset cache ./data/3367.json\n",
      "INFO     2025-01-13 14:09:47,764 http://localhost:3367: registry startup complete (feed is True)\n",
      "DEBUG    2025-01-13 14:09:51,539 http://localhost:3367: saved cache data/3367.json\n",
      "INFO     2025-01-13 14:09:51,539 http://localhost:3367: connect from http://localhost:3366 with nodes: 1, flows: 5, feed False to organization Plan.Net Journey Agentic Node\n",
      "DEBUG    2025-01-13 14:09:51,539 http://localhost:3366: succeed with http://localhost:3367/connect\n",
      "DEBUG    2025-01-13 14:09:51,539 http://localhost:3366: semaphore -1 to 0\n",
      "DEBUG    2025-01-13 14:09:51,539 http://localhost:3366: http://localhost:3367/connect complete\n"
     ]
    }
   ],
   "source": [
    "registry = mp.Process(\n",
    "    target=run_service, \n",
    "    kwargs={\n",
    "        \"loader\": \"/Users/rostf/repos/kodo-core/tests/assets/registry.yaml\",\n",
    "        \"cache_reset\": True,\n",
    "    })\n",
    "registry.start()"
   ]
  },
  {
   "cell_type": "markdown",
   "id": "f9257709-04fd-439a-82f2-696c8cb38eef",
   "metadata": {},
   "source": [
    "## Start `hybrid` (node _and_ provider service)"
   ]
  },
  {
   "cell_type": "code",
   "execution_count": 5,
   "id": "fd25ddca-bf7f-4b4a-9fb7-385e4a51046b",
   "metadata": {},
   "outputs": [
    {
     "name": "stderr",
     "output_type": "stream",
     "text": [
      "INFO     2025-01-13 14:10:26,521 http://localhost:3368: startup with flows: 50, providers: 0, connection: 1, log level: debug\n",
      "DEBUG    2025-01-13 14:10:26,523 http://localhost:3368: semaphore +1 to 1 for connect\n",
      "INFO     2025-01-13 14:10:26,523 http://localhost:3368: registry startup complete (feed is False)\n",
      "INFO     2025-01-13 14:10:26,525 http://localhost:3368: http://localhost:3367/connect with nodes: 1, flows: 50\n",
      "DEBUG    2025-01-13 14:10:26,552 http://localhost:3367: saved cache data/3367.json\n",
      "INFO     2025-01-13 14:10:26,552 http://localhost:3367: connect from http://localhost:3368 with nodes: 1, flows: 50, feed False to organization Mediaplus Agentic Node\n",
      "DEBUG    2025-01-13 14:10:26,553 http://localhost:3368: succeed with http://localhost:3367/connect\n",
      "DEBUG    2025-01-13 14:10:26,553 http://localhost:3368: semaphore -1 to 0\n",
      "DEBUG    2025-01-13 14:10:26,553 http://localhost:3368: http://localhost:3367/connect complete\n"
     ]
    }
   ],
   "source": [
    "hybrid = mp.Process(\n",
    "    target=run_service, \n",
    "    kwargs={\n",
    "        \"loader\": \"/Users/rostf/repos/kodo-core/tests/assets/agent50.yaml\",\n",
    "        \"cache_reset\": True\n",
    "    })\n",
    "hybrid.start()"
   ]
  },
  {
   "cell_type": "markdown",
   "id": "70144ee7-0b8b-47b7-8915-742332e0893d",
   "metadata": {},
   "source": [
    "## SUMMARY\n",
    "\n",
    "A node offers flows and connects to a registry. A registry brokers nodes/flows. A provider is a registry which provides nodes/flows to other registries but does not integrate the nodes/flows from peer registries (`feed is False`).\n",
    "```mermaid\n",
    "    flowchart LR\n",
    "        flow5[5 Flows] --> node\n",
    "        node --> registry\n",
    "        flow50[50 Flows] --> provider\n",
    "        provider --> registry\n",
    "```"
   ]
  },
  {
   "cell_type": "code",
   "execution_count": 6,
   "id": "20f3fe04-d24b-4dd1-be81-07ec6fb98f24",
   "metadata": {},
   "outputs": [
    {
     "name": "stderr",
     "output_type": "stream",
     "text": [
      "DEBUG    2025-01-13 14:11:16,826 http://localhost:3366: return from home\n",
      "DEBUG    2025-01-13 14:11:16,851 http://localhost:3367: return from home\n",
      "DEBUG    2025-01-13 14:11:16,872 http://localhost:3367: return from home\n",
      "DEBUG    2025-01-13 14:11:16,891 http://localhost:3368: return from home\n",
      "DEBUG    2025-01-13 14:11:16,913 http://localhost:3368: return from home\n",
      "DEBUG    2025-01-13 14:12:06,491 http://localhost:3366: return from home\n",
      "DEBUG    2025-01-13 14:12:22,721 http://localhost:3367: return from home\n",
      "DEBUG    2025-01-13 14:12:48,748 http://localhost:3368: return from home\n"
     ]
    }
   ],
   "source": [
    "node_url = \"http://localhost:3366\"\n",
    "registry_url = \"http://localhost:3367\"\n",
    "hybrid_url = \"http://localhost:3368\"\n",
    "\n",
    "assert httpx.get(f\"{node_url}/\").json()[\"registry\"] is False\n",
    "assert httpx.get(f\"{registry_url}/\").json()[\"registry\"] is True and httpx.get(f\"{registry_url}/\").json()[\"feed\"] is True\n",
    "assert httpx.get(f\"{hybrid_url}/\").json()[\"registry\"] is True and httpx.get(f\"{hybrid_url}/\").json()[\"feed\"] is False"
   ]
  },
  {
   "cell_type": "markdown",
   "id": "09e5e019-f6c3-4be2-856c-4e0f10b26d41",
   "metadata": {},
   "source": [
    "Retrieving the flows from `node`, `registry` and `provider` yields the following result."
   ]
  },
  {
   "cell_type": "code",
   "execution_count": 7,
   "id": "e3a40686-daa6-4604-bfac-9a7fe6da3541",
   "metadata": {},
   "outputs": [
    {
     "name": "stderr",
     "output_type": "stream",
     "text": [
      "DEBUG    2025-01-13 14:12:58,778 http://localhost:3366: return /flows with page 0/0 and 5/5 records\n",
      "DEBUG    2025-01-13 14:12:58,810 http://localhost:3367: return /flows with page 0/5 and 10/55 records\n",
      "DEBUG    2025-01-13 14:12:58,833 http://localhost:3368: return /flows with page 0/5 and 10/50 records\n",
      "DEBUG    2025-01-13 14:13:24,662 http://localhost:3368: return from home\n",
      "DEBUG    2025-01-13 14:13:33,300 http://localhost:3368: return /flows with page 0/5 and 10/50 records\n",
      "DEBUG    2025-01-13 14:13:40,051 http://localhost:3367: return /flows with page 0/5 and 10/55 records\n"
     ]
    }
   ],
   "source": [
    "assert httpx.get(f\"{node_url}/flows\").json()[\"total\"] == 5\n",
    "assert httpx.get(f\"{registry_url}/flows\").json()[\"total\"] == 55\n",
    "assert httpx.get(f\"{hybrid_url}/flows\").json()[\"total\"] == 50"
   ]
  },
  {
   "cell_type": "markdown",
   "id": "97192d03-67ed-46ab-b1dd-f2bc85e8aeca",
   "metadata": {},
   "source": [
    "## Details\n",
    "\n",
    "The `registry` caches the result. On restart the `registry` delivers the nodes and flows even if the node died."
   ]
  },
  {
   "cell_type": "code",
   "execution_count": 8,
   "id": "accf361e-cda1-4633-b140-6a7a0fdaaa17",
   "metadata": {},
   "outputs": [
    {
     "name": "stderr",
     "output_type": "stream",
     "text": [
      "INFO     2025-01-13 14:13:54,757 http://localhost:3366: shutdown now\n",
      "INFO     2025-01-13 14:13:54,757 http://localhost:3367: shutdown now\n"
     ]
    }
   ],
   "source": [
    "node.terminate()\n",
    "registry.terminate()"
   ]
  },
  {
   "cell_type": "markdown",
   "id": "ab61ad8f-7429-4c20-a867-ac6a6ede80ba",
   "metadata": {},
   "source": [
    "### registry restart"
   ]
  },
  {
   "cell_type": "code",
   "execution_count": 10,
   "id": "1420f5db-acff-424b-972f-b728b833fc92",
   "metadata": {},
   "outputs": [
    {
     "name": "stderr",
     "output_type": "stream",
     "text": [
      "INFO     2025-01-13 14:14:21,410 http://localhost:3367: startup with flows: 0, providers: 2, connection: 0, log level: debug\n",
      "DEBUG    2025-01-13 14:14:21,412 http://localhost:3367: semaphore +1 to 1 for reconnect\n",
      "DEBUG    2025-01-13 14:14:21,412 http://localhost:3367: semaphore +1 to 2 for reconnect\n",
      "INFO     2025-01-13 14:14:21,412 http://localhost:3367: registry startup complete (feed is True)\n",
      "INFO     2025-01-13 14:14:21,414 http://localhost:3367: http://localhost:3366/reconnect\n",
      "INFO     2025-01-13 14:14:21,430 http://localhost:3367: http://localhost:3368/reconnect\n",
      "WARNING  2025-01-13 14:14:21,446 http://localhost:3367: failed with http://localhost:3366/reconnect\n",
      "DEBUG    2025-01-13 14:14:21,447 http://localhost:3368: semaphore +1 to 1 for connect\n",
      "INFO     2025-01-13 14:14:21,447 http://localhost:3368: http://localhost:3367/connect with nodes: 1, flows: 50\n",
      "DEBUG    2025-01-13 14:14:21,447 http://localhost:3367: succeed with http://localhost:3368/reconnect\n",
      "DEBUG    2025-01-13 14:14:21,448 http://localhost:3367: semaphore -1 to 1\n",
      "DEBUG    2025-01-13 14:14:21,448 http://localhost:3367: http://localhost:3368/reconnect complete\n",
      "DEBUG    2025-01-13 14:14:21,465 http://localhost:3367: saved cache data/3367.json\n",
      "INFO     2025-01-13 14:14:21,465 http://localhost:3367: connect from http://localhost:3368 with nodes: 1, flows: 50, feed False to organization Mediaplus Agentic Node\n",
      "DEBUG    2025-01-13 14:14:21,466 http://localhost:3368: succeed with http://localhost:3367/connect\n",
      "DEBUG    2025-01-13 14:14:21,466 http://localhost:3368: semaphore -1 to 0\n",
      "DEBUG    2025-01-13 14:14:21,466 http://localhost:3368: http://localhost:3367/connect complete\n",
      "WARNING  2025-01-13 14:14:21,988 http://localhost:3367: failed with http://localhost:3366/reconnect\n",
      "WARNING  2025-01-13 14:14:23,025 http://localhost:3367: failed with http://localhost:3366/reconnect\n",
      "WARNING  2025-01-13 14:14:25,063 http://localhost:3367: failed with http://localhost:3366/reconnect\n",
      "WARNING  2025-01-13 14:14:29,100 http://localhost:3367: failed with http://localhost:3366/reconnect\n"
     ]
    }
   ],
   "source": [
    "registry = mp.Process(\n",
    "    target=run_service, \n",
    "    kwargs={\n",
    "        \"loader\": \"/Users/rostf/repos/kodo-core/tests/assets/registry.yaml\",\n",
    "        \"cache_reset\": False,  # Default Value is False\n",
    "        \"retry\": -1  # retry forever\n",
    "    })\n",
    "registry.start()"
   ]
  },
  {
   "cell_type": "code",
   "execution_count": 11,
   "id": "350f33ef-2973-459e-b02c-31d0520b4efc",
   "metadata": {},
   "outputs": [
    {
     "name": "stderr",
     "output_type": "stream",
     "text": [
      "DEBUG    2025-01-13 14:14:29,255 http://localhost:3367: return /flows with page 0/5 and 10/55 records\n",
      "WARNING  2025-01-13 14:14:37,135 http://localhost:3367: failed with http://localhost:3366/reconnect\n",
      "WARNING  2025-01-13 14:14:53,171 http://localhost:3367: failed with http://localhost:3366/reconnect\n",
      "WARNING  2025-01-13 14:15:01,196 http://localhost:3367: failed with http://localhost:3366/reconnect\n",
      "WARNING  2025-01-13 14:15:17,233 http://localhost:3367: failed with http://localhost:3366/reconnect\n"
     ]
    }
   ],
   "source": [
    "assert httpx.get(f\"{registry_url}/flows\").json()[\"total\"] == 55"
   ]
  },
  {
   "cell_type": "markdown",
   "id": "67933738-3c8c-4891-8086-4d39f49a4367",
   "metadata": {},
   "source": [
    "If the node restarts itself but changes the settings or set of flows, the registry's `/reconnect` synchronizes the registry."
   ]
  },
  {
   "cell_type": "code",
   "execution_count": 12,
   "id": "306eabcb-1626-4179-811c-8f9775196f67",
   "metadata": {},
   "outputs": [
    {
     "name": "stderr",
     "output_type": "stream",
     "text": [
      "INFO     2025-01-13 14:15:22,134 http://localhost:3366: startup with flows: 0, providers: 0, connection: 1, log level: DEBUG\n",
      "DEBUG    2025-01-13 14:15:22,136 http://localhost:3366: semaphore +1 to 1 for connect\n",
      "INFO     2025-01-13 14:15:22,136 http://localhost:3366: node startup complete\n",
      "INFO     2025-01-13 14:15:22,138 http://localhost:3366: http://localhost:3367/connect with nodes: 0, flows: 0\n",
      "DEBUG    2025-01-13 14:15:22,163 http://localhost:3367: saved cache data/3367.json\n",
      "INFO     2025-01-13 14:15:22,163 http://localhost:3367: connect from http://localhost:3366 with nodes: 0, flows: 0, feed False to organization Node with New Name\n",
      "DEBUG    2025-01-13 14:15:22,164 http://localhost:3366: succeed with http://localhost:3367/connect\n",
      "DEBUG    2025-01-13 14:15:22,164 http://localhost:3366: semaphore -1 to 0\n",
      "DEBUG    2025-01-13 14:15:22,164 http://localhost:3366: http://localhost:3367/connect complete\n",
      "DEBUG    2025-01-13 14:15:25,272 http://localhost:3366: semaphore +1 to 1 for connect\n",
      "INFO     2025-01-13 14:15:25,272 http://localhost:3366: http://localhost:3367/connect with nodes: 0, flows: 0\n",
      "DEBUG    2025-01-13 14:15:25,273 http://localhost:3367: succeed with http://localhost:3366/reconnect\n",
      "DEBUG    2025-01-13 14:15:25,273 http://localhost:3367: semaphore -1 to 0\n",
      "DEBUG    2025-01-13 14:15:25,273 http://localhost:3367: http://localhost:3366/reconnect complete\n",
      "DEBUG    2025-01-13 14:15:25,303 http://localhost:3367: saved cache data/3367.json\n",
      "INFO     2025-01-13 14:15:25,303 http://localhost:3367: connect from http://localhost:3366 with nodes: 0, flows: 0, feed False to organization Node with New Name\n",
      "DEBUG    2025-01-13 14:15:25,304 http://localhost:3366: succeed with http://localhost:3367/connect\n",
      "DEBUG    2025-01-13 14:15:25,304 http://localhost:3366: semaphore -1 to 0\n",
      "DEBUG    2025-01-13 14:15:25,304 http://localhost:3366: http://localhost:3367/connect complete\n"
     ]
    }
   ],
   "source": [
    "node = mp.Process(\n",
    "    target=run_service, \n",
    "    kwargs={\n",
    "        \"url\": \"http://localhost:3366\",\n",
    "        \"registry\": False,\n",
    "        \"feed\": False,\n",
    "        \"organization\": \"Node with New Name\",\n",
    "        \"cache_data\": \"./data/3366.json\",\n",
    "        \"connect\": \"http://localhost:3367\",\n",
    "        \"cache_reset\": False,\n",
    "        \"screen_level\": \"DEBUG\",\n",
    "        \"retry\": -1,  # try forever\n",
    "    })\n",
    "node.start()"
   ]
  },
  {
   "cell_type": "code",
   "execution_count": 13,
   "id": "0188e508-6c8c-49e1-951d-6543c03bfafe",
   "metadata": {},
   "outputs": [
    {
     "name": "stderr",
     "output_type": "stream",
     "text": [
      "DEBUG    2025-01-13 14:15:42,020 http://localhost:3366: return from home\n",
      "DEBUG    2025-01-13 14:15:57,053 http://localhost:3366: return /flows with page 0/0 and 0/0 records\n",
      "DEBUG    2025-01-13 14:16:05,908 http://localhost:3366: return from home\n",
      "DEBUG    2025-01-13 14:16:12,112 http://localhost:3367: return /flows with page 0/5 and 10/50 records\n",
      "DEBUG    2025-01-13 14:16:36,973 http://localhost:3367: return from home\n",
      "DEBUG    2025-01-13 14:16:53,709 http://localhost:3366: return from home\n"
     ]
    }
   ],
   "source": [
    "assert httpx.get(f\"{node_url}/\").json()[\"organization\"] == \"Node with New Name\""
   ]
  },
  {
   "cell_type": "code",
   "execution_count": 14,
   "id": "4c55de53-27fc-4c81-a26f-b9a44ff6f2cd",
   "metadata": {},
   "outputs": [
    {
     "name": "stderr",
     "output_type": "stream",
     "text": [
      "DEBUG    2025-01-13 14:16:58,433 http://localhost:3366: return /flows with page 0/0 and 0/0 records\n",
      "DEBUG    2025-01-13 14:16:58,460 http://localhost:3367: return /flows with page 0/5 and 10/50 records\n",
      "DEBUG    2025-01-13 14:16:58,482 http://localhost:3368: return /flows with page 0/5 and 10/50 records\n"
     ]
    }
   ],
   "source": [
    "assert httpx.get(f\"{node_url}/flows\").json()[\"total\"] == 0\n",
    "assert httpx.get(f\"{registry_url}/flows\").json()[\"total\"] == 50\n",
    "assert httpx.get(f\"{hybrid_url}/flows\").json()[\"total\"] == 50"
   ]
  },
  {
   "cell_type": "markdown",
   "id": "9ca1f9c7-0cfb-4606-a1b1-d749b95989e0",
   "metadata": {},
   "source": [
    "## Disconnect\n",
    "\n",
    "A node, registry or registry provider can explicitely _disconnect_ from a registry. This will remove the node and flows from the registry. The node itself still serves the flows though."
   ]
  },
  {
   "cell_type": "code",
   "execution_count": 15,
   "id": "2941d61f-bae2-4a30-87f4-c0c1cffefef7",
   "metadata": {},
   "outputs": [
    {
     "name": "stderr",
     "output_type": "stream",
     "text": [
      "INFO     2025-01-13 14:17:08,410 http://localhost:3367: /disconnect from http://localhost:3368\n",
      "INFO     2025-01-13 14:17:08,410 http://localhost:3367: removed provider: http://localhost:3368\n",
      "DEBUG    2025-01-13 14:17:08,423 http://localhost:3367: saved cache data/3367.json\n"
     ]
    }
   ],
   "source": [
    "resp = httpx.delete(f\"{hybrid_url}/connect\")\n",
    "assert resp.status_code == 204"
   ]
  },
  {
   "cell_type": "code",
   "execution_count": 16,
   "id": "21113380-38a0-4bcb-b63b-1de7d7ed4f47",
   "metadata": {},
   "outputs": [
    {
     "name": "stderr",
     "output_type": "stream",
     "text": [
      "DEBUG    2025-01-13 14:17:13,712 http://localhost:3366: return /flows with page 0/0 and 0/0 records\n",
      "DEBUG    2025-01-13 14:17:13,736 http://localhost:3367: return /flows with page 0/0 and 0/0 records\n",
      "DEBUG    2025-01-13 14:17:13,757 http://localhost:3368: return /flows with page 0/5 and 10/50 records\n"
     ]
    }
   ],
   "source": [
    "assert httpx.get(f\"{node_url}/flows\").json()[\"total\"] == 0\n",
    "assert httpx.get(f\"{registry_url}/flows\").json()[\"total\"] == 0\n",
    "assert httpx.get(f\"{hybrid_url}/flows\").json()[\"total\"] == 50"
   ]
  },
  {
   "cell_type": "code",
   "execution_count": 16,
   "id": "7815d491-2a55-4c3e-bc69-2e39c3eb97d9",
   "metadata": {},
   "outputs": [
    {
     "name": "stderr",
     "output_type": "stream",
     "text": [
      "INFO     2025-01-13 10:04:08,036 http://localhost:3366: shutdown now\n"
     ]
    }
   ],
   "source": [
    "node.terminate()"
   ]
  },
  {
   "cell_type": "code",
   "execution_count": null,
   "id": "d12420dd-6bbf-4df3-8aff-71ed4c0a4ad6",
   "metadata": {},
   "outputs": [],
   "source": [
    "registry.terminate()"
   ]
  },
  {
   "cell_type": "code",
   "execution_count": null,
   "id": "f2509bf2-a1c7-41bc-a4ee-a012a2a9f3f1",
   "metadata": {},
   "outputs": [],
   "source": [
    "hybrid.terminate()"
   ]
  }
 ],
 "metadata": {
  "kernelspec": {
   "display_name": "Python 3 (ipykernel)",
   "language": "python",
   "name": "python3"
  },
  "language_info": {
   "codemirror_mode": {
    "name": "ipython",
    "version": 3
   },
   "file_extension": ".py",
   "mimetype": "text/x-python",
   "name": "python",
   "nbconvert_exporter": "python",
   "pygments_lexer": "ipython3",
   "version": "3.12.0"
  }
 },
 "nbformat": 4,
 "nbformat_minor": 5
}
