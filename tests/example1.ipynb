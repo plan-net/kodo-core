{
 "cells": [
  {
   "cell_type": "markdown",
   "id": "1ccabf2a-815c-43cf-8776-d9bd228223fd",
   "metadata": {},
   "source": [
    "## Introduction\n",
    "\n",
    "This guide demonstrates the setup and interactions of a `node`, `registry`, and `provider` service using the `kodo` framework. These services are used to manage distributed flows and registries in a modular and scalable architecture. A `node` provides agentic flows and connects to a `registry`, which brokers the nodes and flows. Additionally, a `hybrid` service acts as both a `node` and a `provider`, enabling more complex workflows by integrating its flows while maintaining independent operations. \n",
    "\n",
    "The examples below detail how to configure and start each component, including their connections and expected behaviors, illustrated with logging output."
   ]
  },
  {
   "cell_type": "code",
   "execution_count": 1,
   "id": "2eaa3fe2-60c6-4dc3-8806-8661b1531600",
   "metadata": {},
   "outputs": [],
   "source": [
    "import multiprocessing as mp\n",
    "from kodo.service.node import run_service\n",
    "import httpx"
   ]
  },
  {
   "cell_type": "markdown",
   "id": "2ba0d994-0a55-47a9-a895-5db12fd8443c",
   "metadata": {},
   "source": [
    "## Start `node` with 5 Flows"
   ]
  },
  {
   "cell_type": "markdown",
   "id": "6f962126-4511-4e53-9aea-f0b4a3eba28f",
   "metadata": {},
   "source": [
    "available options to `run_service`:\n",
    "* `loader: Optional[str] = \"kodo.worker.loader:default_loader\"`\n",
    "* `url:  Optional[str] = \"http://localhost:3366\"`\n",
    "* `organization: Optional[str] = None`\n",
    "* `connect: Optional[List[str]] = None`\n",
    "* `registry: Optional[bool] = True`\n",
    "* `feed: Optional[bool] = True`\n",
    "* `cache_data: Optional[str] = \"./data/cache.json\"`\n",
    "* `cache_reset: Optional[bool] = False`\n",
    "* `screen_level: Optional[str] = \"INFO\"`\n",
    "* `log_file: Optional[str] = \"./data/kodo.log\"`\n",
    "* `log_file_level: Optional[str] = \"DEBUG\"`\n",
    "* `exec_data: Optional[str] = \"./data/exec\"`\n",
    "* `timeout: Optional[int] = 30`\n",
    "* `retry: Optional[int] = 9`\n"
   ]
  },
  {
   "cell_type": "code",
   "execution_count": 2,
   "id": "6815538a-57f4-440b-a307-cbc61cfd9dd9",
   "metadata": {},
   "outputs": [
    {
     "name": "stderr",
     "output_type": "stream",
     "text": [
      "INFO     2025-01-08 14:04:43,223 http://localhost:3366: startup with flows: 5, providers: 0, connection: 1, log level: debug\n",
      "DEBUG    2025-01-08 14:04:43,225 http://localhost:3366: semaphore +1 to 1 for connect\n",
      "INFO     2025-01-08 14:04:43,225 http://localhost:3366: node startup complete\n",
      "INFO     2025-01-08 14:04:43,226 http://localhost:3366: http://localhost:3367/connect with nodes: 1, flows: 5\n",
      "WARNING  2025-01-08 14:04:43,244 http://localhost:3366: failed with http://localhost:3367/connect\n",
      "WARNING  2025-01-08 14:04:43,779 http://localhost:3366: failed with http://localhost:3367/connect\n",
      "WARNING  2025-01-08 14:04:44,804 http://localhost:3366: failed with http://localhost:3367/connect\n"
     ]
    }
   ],
   "source": [
    "node = mp.Process(\n",
    "    target=run_service, \n",
    "    kwargs={\n",
    "        \"loader\": \"/Users/raum/Project/kodo-core/tests/assets/node.yaml\",\n",
    "        \"cache_reset\": True,\n",
    "        \"retry\": -1  # try forever\n",
    "    })\n",
    "node.start()"
   ]
  },
  {
   "cell_type": "markdown",
   "id": "b9b0bd4e-dd9f-4fdc-9ddf-cff672e8db37",
   "metadata": {},
   "source": [
    "## Start `registry`\n",
    "\n",
    "After registry startup the node above will connect. This can take upt o 8 "
   ]
  },
  {
   "cell_type": "code",
   "execution_count": 3,
   "id": "aa3c8382-ba15-4571-bd87-05584c647022",
   "metadata": {},
   "outputs": [
    {
     "name": "stderr",
     "output_type": "stream",
     "text": [
      "INFO     2025-01-08 14:04:46,538 http://localhost:3367: startup with flows: 0, providers: 0, connection: 0, log level: debug\n",
      "WARNING  2025-01-08 14:04:46,538 http://localhost:3367: reset cache ./data/3367.json\n",
      "INFO     2025-01-08 14:04:46,540 http://localhost:3367: registry startup complete (feed is True)\n",
      "DEBUG    2025-01-08 14:04:46,842 http://localhost:3367: saved cache data/3367.json\n",
      "INFO     2025-01-08 14:04:46,842 http://localhost:3367: connect from http://localhost:3366 with nodes: 1, flows: 5, feed False to organization Plan.Net Journey Agentic Node\n",
      "DEBUG    2025-01-08 14:04:46,844 http://localhost:3366: succeed with http://localhost:3367/connect\n",
      "DEBUG    2025-01-08 14:04:46,844 http://localhost:3366: semaphore -1 to 0\n",
      "DEBUG    2025-01-08 14:04:46,844 http://localhost:3366: http://localhost:3367/connect complete\n"
     ]
    }
   ],
   "source": [
    "registry = mp.Process(\n",
    "    target=run_service, \n",
    "    kwargs={\n",
    "        \"loader\": \"/Users/raum/Project/kodo-core/tests/assets/registry.yaml\",\n",
    "        \"cache_reset\": True,\n",
    "    })\n",
    "registry.start()"
   ]
  },
  {
   "cell_type": "markdown",
   "id": "f9257709-04fd-439a-82f2-696c8cb38eef",
   "metadata": {},
   "source": [
    "## Start `hybrid` (node _and_ provider service)"
   ]
  },
  {
   "cell_type": "code",
   "execution_count": 4,
   "id": "fd25ddca-bf7f-4b4a-9fb7-385e4a51046b",
   "metadata": {},
   "outputs": [
    {
     "name": "stderr",
     "output_type": "stream",
     "text": [
      "INFO     2025-01-08 14:04:51,966 http://localhost:3368: startup with flows: 50, providers: 0, connection: 1, log level: debug\n",
      "DEBUG    2025-01-08 14:04:51,968 http://localhost:3368: semaphore +1 to 1 for connect\n",
      "INFO     2025-01-08 14:04:51,968 http://localhost:3368: registry startup complete (feed is False)\n",
      "INFO     2025-01-08 14:04:51,969 http://localhost:3368: http://localhost:3367/connect with nodes: 1, flows: 50\n",
      "DEBUG    2025-01-08 14:04:51,988 http://localhost:3367: saved cache data/3367.json\n",
      "INFO     2025-01-08 14:04:51,988 http://localhost:3367: connect from http://localhost:3368 with nodes: 1, flows: 50, feed False to organization Mediaplus Agentic Node\n",
      "DEBUG    2025-01-08 14:04:51,988 http://localhost:3368: succeed with http://localhost:3367/connect\n",
      "DEBUG    2025-01-08 14:04:51,988 http://localhost:3368: semaphore -1 to 0\n",
      "DEBUG    2025-01-08 14:04:51,988 http://localhost:3368: http://localhost:3367/connect complete\n"
     ]
    }
   ],
   "source": [
    "hybrid = mp.Process(\n",
    "    target=run_service, \n",
    "    kwargs={\n",
    "        \"loader\": \"/Users/raum/Project/kodo-core/tests/assets/agent50.yaml\",\n",
    "        \"cache_reset\": True\n",
    "    })\n",
    "hybrid.start()"
   ]
  },
  {
   "cell_type": "markdown",
   "id": "70144ee7-0b8b-47b7-8915-742332e0893d",
   "metadata": {},
   "source": [
    "## SUMMARY\n",
    "\n",
    "A node offers flows and connects to a registry. A registry brokers nodes/flows. A provider is a registry which provides nodes/flows to other registries but does not integrate the nodes/flows from peer registries (`feed is False`).\n",
    "```mermaid\n",
    "    flowchart LR\n",
    "        flow5[5 Flows] --> node\n",
    "        node --> registry\n",
    "        flow50[50 Flows] --> provider\n",
    "        provider --> registry\n",
    "```"
   ]
  },
  {
   "cell_type": "code",
   "execution_count": 5,
   "id": "20f3fe04-d24b-4dd1-be81-07ec6fb98f24",
   "metadata": {},
   "outputs": [
    {
     "name": "stderr",
     "output_type": "stream",
     "text": [
      "DEBUG    2025-01-08 14:04:54,678 http://localhost:3366: return from home\n",
      "DEBUG    2025-01-08 14:04:54,780 http://localhost:3367: return from home\n",
      "DEBUG    2025-01-08 14:04:54,828 http://localhost:3367: return from home\n",
      "DEBUG    2025-01-08 14:04:54,846 http://localhost:3368: return from home\n",
      "DEBUG    2025-01-08 14:04:54,868 http://localhost:3368: return from home\n"
     ]
    }
   ],
   "source": [
    "node_url = \"http://localhost:3366\"\n",
    "registry_url = \"http://localhost:3367\"\n",
    "hybrid_url = \"http://localhost:3368\"\n",
    "\n",
    "assert httpx.get(f\"{node_url}/\").json()[\"registry\"] is False\n",
    "assert httpx.get(f\"{registry_url}/\").json()[\"registry\"] is True and httpx.get(f\"{registry_url}/\").json()[\"feed\"] is True\n",
    "assert httpx.get(f\"{hybrid_url}/\").json()[\"registry\"] is True and httpx.get(f\"{hybrid_url}/\").json()[\"feed\"] is False"
   ]
  },
  {
   "cell_type": "markdown",
   "id": "09e5e019-f6c3-4be2-856c-4e0f10b26d41",
   "metadata": {},
   "source": [
    "Retrieving the flows from `node`, `registry` and `provider` yields the following result."
   ]
  },
  {
   "cell_type": "code",
   "execution_count": 6,
   "id": "e3a40686-daa6-4604-bfac-9a7fe6da3541",
   "metadata": {},
   "outputs": [
    {
     "name": "stderr",
     "output_type": "stream",
     "text": [
      "DEBUG    2025-01-08 14:04:59,285 http://localhost:3366: return /flows with page 0/0 and 5/5 records\n",
      "DEBUG    2025-01-08 14:04:59,312 http://localhost:3367: return /flows with page 0/5 and 10/55 records\n",
      "DEBUG    2025-01-08 14:04:59,334 http://localhost:3368: return /flows with page 0/5 and 10/50 records\n"
     ]
    }
   ],
   "source": [
    "assert httpx.get(f\"{node_url}/flows\").json()[\"total\"] == 5\n",
    "assert httpx.get(f\"{registry_url}/flows\").json()[\"total\"] == 55\n",
    "assert httpx.get(f\"{hybrid_url}/flows\").json()[\"total\"] == 50"
   ]
  },
  {
   "cell_type": "markdown",
   "id": "97192d03-67ed-46ab-b1dd-f2bc85e8aeca",
   "metadata": {},
   "source": [
    "## Details\n",
    "\n",
    "The `registry` caches the result. On restart the `registry` delivers the nodes and flows even if the node died."
   ]
  },
  {
   "cell_type": "code",
   "execution_count": 7,
   "id": "accf361e-cda1-4633-b140-6a7a0fdaaa17",
   "metadata": {},
   "outputs": [
    {
     "name": "stderr",
     "output_type": "stream",
     "text": [
      "INFO     2025-01-08 14:05:01,086 http://localhost:3366: shutdown now\n",
      "INFO     2025-01-08 14:05:01,091 http://localhost:3367: shutdown now\n"
     ]
    }
   ],
   "source": [
    "node.terminate()\n",
    "registry.terminate()"
   ]
  },
  {
   "cell_type": "markdown",
   "id": "ab61ad8f-7429-4c20-a867-ac6a6ede80ba",
   "metadata": {},
   "source": [
    "### registry restart"
   ]
  },
  {
   "cell_type": "code",
   "execution_count": 8,
   "id": "1420f5db-acff-424b-972f-b728b833fc92",
   "metadata": {},
   "outputs": [
    {
     "name": "stderr",
     "output_type": "stream",
     "text": [
      "INFO     2025-01-08 14:05:03,972 http://localhost:3367: startup with flows: 0, providers: 2, connection: 0, log level: debug\n",
      "DEBUG    2025-01-08 14:05:03,974 http://localhost:3367: semaphore +1 to 1 for reconnect\n",
      "DEBUG    2025-01-08 14:05:03,974 http://localhost:3367: semaphore +1 to 2 for reconnect\n",
      "INFO     2025-01-08 14:05:03,974 http://localhost:3367: registry startup complete (feed is True)\n",
      "INFO     2025-01-08 14:05:03,975 http://localhost:3367: http://localhost:3366/reconnect\n",
      "INFO     2025-01-08 14:05:03,991 http://localhost:3367: http://localhost:3368/reconnect\n",
      "WARNING  2025-01-08 14:05:04,007 http://localhost:3367: failed with http://localhost:3366/reconnect\n",
      "DEBUG    2025-01-08 14:05:04,007 http://localhost:3368: semaphore +1 to 1 for connect\n",
      "INFO     2025-01-08 14:05:04,007 http://localhost:3368: http://localhost:3367/connect with nodes: 1, flows: 50\n",
      "DEBUG    2025-01-08 14:05:04,008 http://localhost:3367: succeed with http://localhost:3368/reconnect\n",
      "DEBUG    2025-01-08 14:05:04,008 http://localhost:3367: semaphore -1 to 1\n",
      "DEBUG    2025-01-08 14:05:04,008 http://localhost:3367: http://localhost:3368/reconnect complete\n",
      "DEBUG    2025-01-08 14:05:04,025 http://localhost:3367: saved cache data/3367.json\n",
      "INFO     2025-01-08 14:05:04,025 http://localhost:3367: connect from http://localhost:3368 with nodes: 1, flows: 50, feed False to organization Mediaplus Agentic Node\n",
      "DEBUG    2025-01-08 14:05:04,026 http://localhost:3368: succeed with http://localhost:3367/connect\n",
      "DEBUG    2025-01-08 14:05:04,026 http://localhost:3368: semaphore -1 to 0\n",
      "DEBUG    2025-01-08 14:05:04,026 http://localhost:3368: http://localhost:3367/connect complete\n"
     ]
    }
   ],
   "source": [
    "registry = mp.Process(\n",
    "    target=run_service, \n",
    "    kwargs={\n",
    "        \"loader\": \"/Users/raum/Project/kodo-core/tests/assets/registry.yaml\",\n",
    "        \"cache_reset\": False,  # Default Value is False\n",
    "        \"retry\": -1  # retry forever\n",
    "    })\n",
    "registry.start()"
   ]
  },
  {
   "cell_type": "code",
   "execution_count": 9,
   "id": "350f33ef-2973-459e-b02c-31d0520b4efc",
   "metadata": {},
   "outputs": [
    {
     "name": "stderr",
     "output_type": "stream",
     "text": [
      "DEBUG    2025-01-08 14:05:04,319 http://localhost:3367: return /flows with page 0/5 and 10/55 records\n",
      "WARNING  2025-01-08 14:05:04,546 http://localhost:3367: failed with http://localhost:3366/reconnect\n",
      "WARNING  2025-01-08 14:05:05,584 http://localhost:3367: failed with http://localhost:3366/reconnect\n",
      "WARNING  2025-01-08 14:05:07,621 http://localhost:3367: failed with http://localhost:3366/reconnect\n",
      "WARNING  2025-01-08 14:05:11,646 http://localhost:3367: failed with http://localhost:3366/reconnect\n"
     ]
    }
   ],
   "source": [
    "assert httpx.get(f\"{registry_url}/flows\").json()[\"total\"] == 55"
   ]
  },
  {
   "cell_type": "markdown",
   "id": "67933738-3c8c-4891-8086-4d39f49a4367",
   "metadata": {},
   "source": [
    "If the node restarts itself but changes the settings or set of flows, the registry's `/reconnect` synchronizes the registry."
   ]
  },
  {
   "cell_type": "code",
   "execution_count": 10,
   "id": "306eabcb-1626-4179-811c-8f9775196f67",
   "metadata": {},
   "outputs": [],
   "source": [
    "node = mp.Process(\n",
    "    target=run_service, \n",
    "    kwargs={\n",
    "        \"url\": \"http://localhost:3366\",\n",
    "        \"registry\": False,\n",
    "        \"feed\": False,\n",
    "        \"organization\": \"Node with New Name\",\n",
    "        \"cache_data\": \"./data/3366.json\",\n",
    "        \"connect\": \"http://localhost:3367\",\n",
    "        \"cache_reset\": False,\n",
    "        \"screen_level\": \"DEBUG\",\n",
    "        \"retry\": -1,  # try forever\n",
    "    })\n",
    "node.start()"
   ]
  },
  {
   "cell_type": "code",
   "execution_count": 12,
   "id": "0188e508-6c8c-49e1-951d-6543c03bfafe",
   "metadata": {},
   "outputs": [
    {
     "name": "stderr",
     "output_type": "stream",
     "text": [
      "DEBUG    2025-01-08 14:05:15,213 http://localhost:3366: return from home\n"
     ]
    }
   ],
   "source": [
    "assert httpx.get(f\"{node_url}/\").json()[\"organization\"] == \"Node with New Name\""
   ]
  },
  {
   "cell_type": "code",
   "execution_count": 13,
   "id": "4c55de53-27fc-4c81-a26f-b9a44ff6f2cd",
   "metadata": {},
   "outputs": [
    {
     "name": "stderr",
     "output_type": "stream",
     "text": [
      "DEBUG    2025-01-08 14:05:17,615 http://localhost:3366: return /flows with page 0/0 and 0/0 records\n",
      "DEBUG    2025-01-08 14:05:17,641 http://localhost:3367: return /flows with page 0/5 and 10/50 records\n",
      "DEBUG    2025-01-08 14:05:17,663 http://localhost:3368: return /flows with page 0/5 and 10/50 records\n"
     ]
    }
   ],
   "source": [
    "assert httpx.get(f\"{node_url}/flows\").json()[\"total\"] == 0\n",
    "assert httpx.get(f\"{registry_url}/flows\").json()[\"total\"] == 50\n",
    "assert httpx.get(f\"{hybrid_url}/flows\").json()[\"total\"] == 50"
   ]
  },
  {
   "cell_type": "markdown",
   "id": "9ca1f9c7-0cfb-4606-a1b1-d749b95989e0",
   "metadata": {},
   "source": [
    "## Disconnect\n",
    "\n",
    "A node, registry or registry provider can explicitely _disconnect_ from a registry. This will remove the node and flows from the registry. The node itself still serves the flows though."
   ]
  },
  {
   "cell_type": "code",
   "execution_count": 14,
   "id": "2941d61f-bae2-4a30-87f4-c0c1cffefef7",
   "metadata": {},
   "outputs": [
    {
     "name": "stderr",
     "output_type": "stream",
     "text": [
      "INFO     2025-01-08 14:05:19,553 http://localhost:3367: /disconnect from http://localhost:3368\n",
      "INFO     2025-01-08 14:05:19,553 http://localhost:3367: removed provider: http://localhost:3368\n",
      "DEBUG    2025-01-08 14:05:19,554 http://localhost:3367: saved cache data/3367.json\n",
      "DEBUG    2025-01-08 14:05:19,674 http://localhost:3366: semaphore +1 to 1 for connect\n",
      "INFO     2025-01-08 14:05:19,675 http://localhost:3366: http://localhost:3367/connect with nodes: 0, flows: 0\n",
      "DEBUG    2025-01-08 14:05:19,675 http://localhost:3367: succeed with http://localhost:3366/reconnect\n",
      "DEBUG    2025-01-08 14:05:19,675 http://localhost:3367: semaphore -1 to 0\n",
      "DEBUG    2025-01-08 14:05:19,676 http://localhost:3367: http://localhost:3366/reconnect complete\n",
      "DEBUG    2025-01-08 14:05:19,697 http://localhost:3367: saved cache data/3367.json\n",
      "INFO     2025-01-08 14:05:19,697 http://localhost:3367: connect from http://localhost:3366 with nodes: 0, flows: 0, feed False to organization Node with New Name\n",
      "DEBUG    2025-01-08 14:05:19,698 http://localhost:3366: succeed with http://localhost:3367/connect\n",
      "DEBUG    2025-01-08 14:05:19,698 http://localhost:3366: semaphore -1 to 0\n",
      "DEBUG    2025-01-08 14:05:19,698 http://localhost:3366: http://localhost:3367/connect complete\n"
     ]
    }
   ],
   "source": [
    "resp = httpx.delete(f\"{hybrid_url}/connect\")\n",
    "assert resp.status_code == 204"
   ]
  },
  {
   "cell_type": "code",
   "execution_count": 15,
   "id": "21113380-38a0-4bcb-b63b-1de7d7ed4f47",
   "metadata": {},
   "outputs": [
    {
     "name": "stderr",
     "output_type": "stream",
     "text": [
      "DEBUG    2025-01-08 14:05:20,918 http://localhost:3366: return /flows with page 0/0 and 0/0 records\n",
      "DEBUG    2025-01-08 14:05:20,940 http://localhost:3367: return /flows with page 0/0 and 0/0 records\n",
      "DEBUG    2025-01-08 14:05:20,962 http://localhost:3368: return /flows with page 0/5 and 10/50 records\n"
     ]
    }
   ],
   "source": [
    "assert httpx.get(f\"{node_url}/flows\").json()[\"total\"] == 0\n",
    "assert httpx.get(f\"{registry_url}/flows\").json()[\"total\"] == 0\n",
    "assert httpx.get(f\"{hybrid_url}/flows\").json()[\"total\"] == 50"
   ]
  },
  {
   "cell_type": "code",
   "execution_count": 16,
   "id": "7815d491-2a55-4c3e-bc69-2e39c3eb97d9",
   "metadata": {},
   "outputs": [
    {
     "name": "stderr",
     "output_type": "stream",
     "text": [
      "INFO     2025-01-08 14:05:23,683 http://localhost:3366: shutdown now\n",
      "INFO     2025-01-08 14:05:23,683 http://localhost:3367: shutdown now\n",
      "INFO     2025-01-08 14:05:23,728 http://localhost:3368: shutdown now\n"
     ]
    }
   ],
   "source": [
    "node.terminate()\n",
    "registry.terminate()\n",
    "hybrid.terminate()"
   ]
  }
 ],
 "metadata": {
  "kernelspec": {
   "display_name": "Python 3 (ipykernel)",
   "language": "python",
   "name": "python3"
  },
  "language_info": {
   "codemirror_mode": {
    "name": "ipython",
    "version": 3
   },
   "file_extension": ".py",
   "mimetype": "text/x-python",
   "name": "python",
   "nbconvert_exporter": "python",
   "pygments_lexer": "ipython3",
   "version": "3.12.6"
  }
 },
 "nbformat": 4,
 "nbformat_minor": 5
}
