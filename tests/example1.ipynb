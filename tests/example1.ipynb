{
 "cells": [
  {
   "cell_type": "markdown",
   "id": "0",
   "metadata": {},
   "source": [
    "## Introduction\n",
    "\n",
    "This guide demonstrates the setup and interactions of a `node`, `registry`, and `provider` service using the `kodo` framework. These services are used to manage distributed flows and registries in a modular and scalable architecture. A `node` provides agentic flows and connects to a `registry`, which brokers the nodes and flows. Additionally, a `hybrid` service acts as both a `node` and a `provider`, enabling more complex workflows by integrating its flows while maintaining independent operations. \n",
    "\n",
    "The examples below detail how to configure and start each component, including their connections and expected behaviors, illustrated with logging output."
   ]
  },
  {
   "cell_type": "code",
   "execution_count": null,
   "id": "1",
   "metadata": {},
   "outputs": [],
   "source": [
    "import multiprocessing as mp\n",
    "from kodo.service.node import run_service\n",
    "import httpx"
   ]
  },
  {
   "cell_type": "markdown",
   "id": "2",
   "metadata": {},
   "source": [
    "## Start `node` with 5 Flows"
   ]
  },
  {
   "cell_type": "markdown",
   "id": "3",
   "metadata": {},
   "source": [
    "available options to `run_service`:\n",
    "* `loader: Optional[str] = \"kodo.worker.loader:default_loader\"`\n",
    "* `url:  Optional[str] = \"http://localhost:3366\"`\n",
    "* `organization: Optional[str] = None`\n",
    "* `connect: Optional[List[str]] = None`\n",
    "* `registry: Optional[bool] = True`\n",
    "* `feed: Optional[bool] = True`\n",
    "* `cache_data: Optional[str] = \"./data/cache.json\"`\n",
    "* `cache_reset: Optional[bool] = False`\n",
    "* `screen_level: Optional[str] = \"INFO\"`\n",
    "* `log_file: Optional[str] = \"./data/kodo.log\"`\n",
    "* `log_file_level: Optional[str] = \"DEBUG\"`\n",
    "* `exec_data: Optional[str] = \"./data/exec\"`\n",
    "* `timeout: Optional[int] = 30`\n",
    "* `retry: Optional[int] = 9`\n"
   ]
  },
  {
   "cell_type": "code",
   "execution_count": null,
   "id": "4",
   "metadata": {},
   "outputs": [],
   "source": [
    "node = mp.Process(\n",
    "    target=run_service, \n",
    "    kwargs={\n",
    "        \"loader\": \"/Users/rostf/repos/kodo-core/tests/assets/node.yaml\",\n",
    "        # \"cache_reset\": True,\n",
    "        # \"retry\": -1  # try forever\n",
    "    })\n",
    "node.start()"
   ]
  },
  {
   "cell_type": "markdown",
   "id": "5",
   "metadata": {},
   "source": [
    "## Start `registry`\n",
    "\n",
    "After registry startup the node above will connect. This can take upt o 8 "
   ]
  },
  {
   "cell_type": "code",
   "execution_count": null,
   "id": "6",
   "metadata": {},
   "outputs": [],
   "source": [
    "registry = mp.Process(\n",
    "    target=run_service, \n",
    "    kwargs={\n",
    "        \"loader\": \"/Users/rostf/repos/kodo-core/tests/assets/registry.yaml\",\n",
    "        \"cache_reset\": True,\n",
    "    })\n",
    "registry.start()"
   ]
  },
  {
   "cell_type": "markdown",
   "id": "7",
   "metadata": {},
   "source": [
    "## Start `hybrid` (node _and_ provider service)"
   ]
  },
  {
   "cell_type": "code",
   "execution_count": null,
   "id": "8",
   "metadata": {},
   "outputs": [],
   "source": [
    "hybrid = mp.Process(\n",
    "    target=run_service, \n",
    "    kwargs={\n",
    "        \"loader\": \"/Users/rostf/repos/kodo-core/tests/assets/agent50.yaml\",\n",
    "        \"cache_reset\": True\n",
    "    })\n",
    "hybrid.start()"
   ]
  },
  {
   "cell_type": "markdown",
   "id": "9",
   "metadata": {},
   "source": [
    "## SUMMARY\n",
    "\n",
    "A node offers flows and connects to a registry. A registry brokers nodes/flows. A provider is a registry which provides nodes/flows to other registries but does not integrate the nodes/flows from peer registries (`feed is False`).\n",
    "```mermaid\n",
    "    flowchart LR\n",
    "        flow5[5 Flows] --> node\n",
    "        node --> registry\n",
    "        flow50[50 Flows] --> provider\n",
    "        provider --> registry\n",
    "```"
   ]
  },
  {
   "cell_type": "code",
   "execution_count": null,
   "id": "10",
   "metadata": {},
   "outputs": [],
   "source": [
    "node_url = \"http://localhost:3366\"\n",
    "registry_url = \"http://localhost:3367\"\n",
    "hybrid_url = \"http://localhost:3368\"\n",
    "\n",
    "assert httpx.get(f\"{node_url}/\").json()[\"registry\"] is False\n",
    "assert httpx.get(f\"{registry_url}/\").json()[\"registry\"] is True and httpx.get(f\"{registry_url}/\").json()[\"feed\"] is True\n",
    "assert httpx.get(f\"{hybrid_url}/\").json()[\"registry\"] is True and httpx.get(f\"{hybrid_url}/\").json()[\"feed\"] is False"
   ]
  },
  {
   "cell_type": "markdown",
   "id": "11",
   "metadata": {},
   "source": [
    "Retrieving the flows from `node`, `registry` and `provider` yields the following result."
   ]
  },
  {
   "cell_type": "code",
   "execution_count": null,
   "id": "12",
   "metadata": {},
   "outputs": [],
   "source": [
    "assert httpx.get(f\"{node_url}/flows\").json()[\"total\"] == 5\n",
    "assert httpx.get(f\"{registry_url}/flows\").json()[\"total\"] == 55\n",
    "assert httpx.get(f\"{hybrid_url}/flows\").json()[\"total\"] == 50"
   ]
  },
  {
   "cell_type": "markdown",
   "id": "13",
   "metadata": {},
   "source": [
    "## Details\n",
    "\n",
    "The `registry` caches the result. On restart the `registry` delivers the nodes and flows even if the node died."
   ]
  },
  {
   "cell_type": "code",
   "execution_count": null,
   "id": "14",
   "metadata": {},
   "outputs": [],
   "source": [
    "node.terminate()\n",
    "registry.terminate()"
   ]
  },
  {
   "cell_type": "markdown",
   "id": "15",
   "metadata": {},
   "source": [
    "### registry restart"
   ]
  },
  {
   "cell_type": "code",
   "execution_count": null,
   "id": "16",
   "metadata": {},
   "outputs": [],
   "source": [
    "registry = mp.Process(\n",
    "    target=run_service, \n",
    "    kwargs={\n",
    "        \"loader\": \"/Users/rostf/repos/kodo-core/tests/assets/registry.yaml\",\n",
    "        \"cache_reset\": False,  # Default Value is False\n",
    "        \"retry\": -1  # retry forever\n",
    "    })\n",
    "registry.start()"
   ]
  },
  {
   "cell_type": "code",
   "execution_count": null,
   "id": "17",
   "metadata": {},
   "outputs": [],
   "source": [
    "assert httpx.get(f\"{registry_url}/flows\").json()[\"total\"] == 55"
   ]
  },
  {
   "cell_type": "markdown",
   "id": "18",
   "metadata": {},
   "source": [
    "If the node restarts itself but changes the settings or set of flows, the registry's `/reconnect` synchronizes the registry."
   ]
  },
  {
   "cell_type": "code",
   "execution_count": null,
   "id": "19",
   "metadata": {},
   "outputs": [],
   "source": [
    "node = mp.Process(\n",
    "    target=run_service, \n",
    "    kwargs={\n",
    "        \"url\": \"http://localhost:3366\",\n",
    "        \"registry\": False,\n",
    "        \"feed\": False,\n",
    "        \"organization\": \"Node with New Name\",\n",
    "        \"cache_data\": \"./data/3366.json\",\n",
    "        \"connect\": \"http://localhost:3367\",\n",
    "        \"cache_reset\": False,\n",
    "        \"screen_level\": \"DEBUG\",\n",
    "        \"retry\": -1,  # try forever\n",
    "    })\n",
    "node.start()"
   ]
  },
  {
   "cell_type": "code",
   "execution_count": null,
   "id": "20",
   "metadata": {},
   "outputs": [],
   "source": [
    "assert httpx.get(f\"{node_url}/\").json()[\"organization\"] == \"Node with New Name\""
   ]
  },
  {
   "cell_type": "code",
   "execution_count": null,
   "id": "21",
   "metadata": {},
   "outputs": [],
   "source": [
    "assert httpx.get(f\"{node_url}/flows\").json()[\"total\"] == 0\n",
    "assert httpx.get(f\"{registry_url}/flows\").json()[\"total\"] == 50\n",
    "assert httpx.get(f\"{hybrid_url}/flows\").json()[\"total\"] == 50"
   ]
  },
  {
   "cell_type": "markdown",
   "id": "22",
   "metadata": {},
   "source": [
    "## Disconnect\n",
    "\n",
    "A node, registry or registry provider can explicitely _disconnect_ from a registry. This will remove the node and flows from the registry. The node itself still serves the flows though."
   ]
  },
  {
   "cell_type": "code",
   "execution_count": null,
   "id": "23",
   "metadata": {},
   "outputs": [],
   "source": [
    "resp = httpx.delete(f\"{hybrid_url}/connect\")\n",
    "assert resp.status_code == 204"
   ]
  },
  {
   "cell_type": "code",
   "execution_count": null,
   "id": "24",
   "metadata": {},
   "outputs": [],
   "source": [
    "assert httpx.get(f\"{node_url}/flows\").json()[\"total\"] == 0\n",
    "assert httpx.get(f\"{registry_url}/flows\").json()[\"total\"] == 0\n",
    "assert httpx.get(f\"{hybrid_url}/flows\").json()[\"total\"] == 50"
   ]
  },
  {
   "cell_type": "code",
   "execution_count": null,
   "id": "25",
   "metadata": {},
   "outputs": [],
   "source": [
    "node.terminate()"
   ]
  },
  {
   "cell_type": "code",
   "execution_count": null,
   "id": "26",
   "metadata": {},
   "outputs": [],
   "source": [
    "registry.terminate()"
   ]
  },
  {
   "cell_type": "code",
   "execution_count": null,
   "id": "27",
   "metadata": {},
   "outputs": [],
   "source": [
    "hybrid.terminate()"
   ]
  }
 ],
 "metadata": {
  "kernelspec": {
   "display_name": "Python 3 (ipykernel)",
   "language": "python",
   "name": "python3"
  },
  "language_info": {
   "codemirror_mode": {
    "name": "ipython",
    "version": 3
   },
   "file_extension": ".py",
   "mimetype": "text/x-python",
   "name": "python",
   "nbconvert_exporter": "python",
   "pygments_lexer": "ipython3",
   "version": "3.12.0"
  }
 },
 "nbformat": 4,
 "nbformat_minor": 5
}
