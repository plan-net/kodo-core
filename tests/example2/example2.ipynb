{
 "cells": [
  {
   "cell_type": "code",
   "execution_count": 1,
   "id": "33c45b6c-7eba-459d-a227-bf903f28ee22",
   "metadata": {},
   "outputs": [],
   "source": [
    "import os\n",
    "import httpx"
   ]
  },
  {
   "cell_type": "code",
   "execution_count": 2,
   "id": "04f6a983-178d-424f-b4c0-c2f46843a857",
   "metadata": {},
   "outputs": [],
   "source": [
    "from subprocess import Popen\n",
    "import os\n",
    "import httpx\n",
    "\n",
    "def sh(command):\n",
    "    proc = Popen(f\"{command} &\", shell=True, env=os.environ)\n",
    "\n",
    "os.environ[\"PYTHONPATH\"] = \"../../\""
   ]
  },
  {
   "cell_type": "markdown",
   "id": "59250ec6-46fd-4897-bc72-c70d3a47d7df",
   "metadata": {},
   "source": [
    "## Registry Mesh\n",
    "\n",
    "**GOAL:** build the following registry mesh\n",
    "\n",
    "```mermaid\n",
    "mindmap\n",
    "  root(Serviceplan Registry)\n",
    "    Mediaplus Node\n",
    "      Agent Achilles\n",
    "      Agent Alpha\n",
    "      Agent Apollo\n",
    "      Agent Ares\n",
    "      Agent Artemis\n",
    "      Agent Athena\n",
    "      Agent Bravo\n",
    "      Agent Charlie\n",
    "      Agent Delta\n",
    "      Agent Demeter\n",
    "    Plan.net Node\n",
    "      Test Flow\n",
    "      Experimental Test Flow\n",
    "```"
   ]
  },
  {
   "cell_type": "markdown",
   "id": "2e782be4-e078-4001-a52f-ce846a861201",
   "metadata": {},
   "source": [
    "#### Serviceplan Registry"
   ]
  },
  {
   "cell_type": "code",
   "execution_count": 3,
   "id": "7bfe4b3d-f7b3-4b60-ad37-70dbd767ab1b",
   "metadata": {},
   "outputs": [
    {
     "name": "stderr",
     "output_type": "stream",
     "text": [
      "INFO     2025-01-16 15:45:55,038 http://localhost:3370: startup with flows: 0, providers: 0, connection: 0, log level: INFO\n",
      "WARNING  2025-01-16 15:45:55,038 http://localhost:3370: reset cache ./data/cache.json\n",
      "INFO     2025-01-16 15:45:55,041 http://localhost:3370: registry startup complete (feed is True)\n"
     ]
    }
   ],
   "source": [
    "sh(\"python -m kodo.cli service -Rf --url http://localhost:3370 --level info --organization Serviceplan --reset\")"
   ]
  },
  {
   "cell_type": "markdown",
   "id": "90e8da51-042a-4d5d-95a2-04f5fd48523f",
   "metadata": {},
   "source": [
    "#### Plan.Net Node"
   ]
  },
  {
   "cell_type": "code",
   "execution_count": 4,
   "id": "477568e1-3256-4ac7-86b5-e132d0214293",
   "metadata": {},
   "outputs": [
    {
     "name": "stderr",
     "output_type": "stream",
     "text": [
      "INFO     2025-01-16 15:46:04,274 http://localhost:3371: found 'Test Flow' at '/flow2' (tests.test:flow)\n",
      "INFO     2025-01-16 15:46:04,274 http://localhost:3371: found 'Experimental Test Flow' at '/test/flow' (tests.test:flow)\n",
      "INFO     2025-01-16 15:46:04,274 http://localhost:3371: startup with flows: 2, providers: 0, connection: 1, log level: info\n",
      "INFO     2025-01-16 15:46:04,276 http://localhost:3371: node startup complete\n",
      "INFO     2025-01-16 15:46:04,277 http://localhost:3371: http://localhost:3370/connect with nodes: 1, flows: 2\n",
      "INFO     2025-01-16 15:46:04,296 http://localhost:3370: connect from http://localhost:3371 with nodes: 1, flows: 2, feed False to organization Plan.Net Gruppe für digitale Kommunikation GmbH & Co. KG\n"
     ]
    }
   ],
   "source": [
    "sh(\"python -m kodo.cli service ./node1.yaml --reset\")"
   ]
  },
  {
   "cell_type": "code",
   "execution_count": 5,
   "id": "07af5930-7bd5-41ac-a82a-fc45aa586c23",
   "metadata": {},
   "outputs": [
    {
     "data": {
      "text/plain": [
       "{'url': 'http://localhost:3370',\n",
       " 'organization': 'Serviceplan',\n",
       " 'registry': True,\n",
       " 'feed': True,\n",
       " 'idle': True,\n",
       " 'now': '2025-01-16T14:46:40.414204',\n",
       " 'message': []}"
      ]
     },
     "execution_count": 5,
     "metadata": {},
     "output_type": "execute_result"
    }
   ],
   "source": [
    "httpx.get(\"http://localhost:3370\").json()"
   ]
  },
  {
   "cell_type": "code",
   "execution_count": 6,
   "id": "7f3a2c0a-a6b9-444f-a0ea-cd584f1cd96b",
   "metadata": {},
   "outputs": [
    {
     "data": {
      "text/plain": [
       "{'url': 'http://localhost:3371',\n",
       " 'organization': 'Plan.Net Gruppe für digitale Kommunikation GmbH & Co. KG',\n",
       " 'registry': False,\n",
       " 'feed': False,\n",
       " 'idle': True,\n",
       " 'now': '2025-01-16T14:46:40.780569',\n",
       " 'message': []}"
      ]
     },
     "execution_count": 6,
     "metadata": {},
     "output_type": "execute_result"
    }
   ],
   "source": [
    "httpx.get(\"http://localhost:3371\").json()"
   ]
  },
  {
   "cell_type": "markdown",
   "id": "63768f4a-e05c-452c-b970-2342a4769e25",
   "metadata": {},
   "source": [
    "#### Mediaplus Node"
   ]
  },
  {
   "cell_type": "code",
   "execution_count": 7,
   "id": "ee6a0d12-b722-45d8-b263-4e12a926e69b",
   "metadata": {},
   "outputs": [
    {
     "name": "stderr",
     "output_type": "stream",
     "text": [
      "INFO     2025-01-16 15:46:49,744 http://localhost:3372: found 'Agent Alpha' at '/agent-alpha' (None)\n",
      "INFO     2025-01-16 15:46:49,745 http://localhost:3372: found 'Agent Bravo' at '/agent-bravo' (None)\n",
      "INFO     2025-01-16 15:46:49,745 http://localhost:3372: found 'Agent Charlie' at '/agent-charlie' (None)\n",
      "INFO     2025-01-16 15:46:49,745 http://localhost:3372: found 'Agent Delta' at '/agent-delta' (None)\n",
      "INFO     2025-01-16 15:46:49,745 http://localhost:3372: found 'Agent Echo' at '/agent-echo' (None)\n",
      "INFO     2025-01-16 15:46:49,745 http://localhost:3372: found 'Agent Foxtrot' at '/agent-foxtrot' (None)\n",
      "INFO     2025-01-16 15:46:49,745 http://localhost:3372: found 'Agent Golf' at '/agent-golf' (None)\n",
      "INFO     2025-01-16 15:46:49,745 http://localhost:3372: found 'Agent Hotel' at '/agent-hotel' (None)\n",
      "INFO     2025-01-16 15:46:49,745 http://localhost:3372: found 'Agent India' at '/agent-india' (None)\n",
      "INFO     2025-01-16 15:46:49,745 http://localhost:3372: found 'Agent Juliet' at '/agent-juliet' (None)\n",
      "INFO     2025-01-16 15:46:49,745 http://localhost:3372: found 'Agent Without Description' at '/agent-kilo' (None)\n",
      "INFO     2025-01-16 15:46:49,745 http://localhost:3372: found 'Agent Lima' at '/agent-lima' (None)\n",
      "INFO     2025-01-16 15:46:49,745 http://localhost:3372: found 'Agent Without Author' at '/agent-mike' (None)\n",
      "INFO     2025-01-16 15:46:49,745 http://localhost:3372: found 'Agent November' at '/agent-november' (None)\n",
      "INFO     2025-01-16 15:46:49,745 http://localhost:3372: found 'Agent Oscar' at '/agent-oscar' (None)\n",
      "INFO     2025-01-16 15:46:49,745 http://localhost:3372: found 'Agent Papa No Tags' at '/agent-papa' (None)\n",
      "INFO     2025-01-16 15:46:49,745 http://localhost:3372: found 'Agent Quebec' at '/agent-quebec' (None)\n",
      "INFO     2025-01-16 15:46:49,745 http://localhost:3372: found 'Agent Romeo' at '/agent-romeo' (None)\n",
      "INFO     2025-01-16 15:46:49,745 http://localhost:3372: found 'Agent Sierra' at '/agent-sierra' (None)\n",
      "INFO     2025-01-16 15:46:49,745 http://localhost:3372: found 'Agent Tango' at '/agent-tango' (None)\n",
      "INFO     2025-01-16 15:46:49,745 http://localhost:3372: found 'Agent Uniform' at '/agent-uniform' (None)\n",
      "INFO     2025-01-16 15:46:49,745 http://localhost:3372: found 'Agent Victor' at '/agent-victor' (None)\n",
      "INFO     2025-01-16 15:46:49,745 http://localhost:3372: found 'Agent Whiskey' at '/agent-whiskey' (None)\n",
      "INFO     2025-01-16 15:46:49,745 http://localhost:3372: found 'Agent X-ray' at '/agent-x-ray' (None)\n",
      "INFO     2025-01-16 15:46:49,745 http://localhost:3372: found 'Agent Yankee' at '/agent-yankee' (None)\n",
      "INFO     2025-01-16 15:46:49,745 http://localhost:3372: found 'Agent Zulu' at '/agent-zulu' (None)\n",
      "INFO     2025-01-16 15:46:49,745 http://localhost:3372: found 'Agent Ares' at '/agent-ares' (None)\n",
      "INFO     2025-01-16 15:46:49,745 http://localhost:3372: found 'Agent Athena' at '/agent-athena' (None)\n",
      "INFO     2025-01-16 15:46:49,745 http://localhost:3372: found 'Agent Apollo' at '/agent-apollo' (None)\n",
      "INFO     2025-01-16 15:46:49,745 http://localhost:3372: found 'Agent Artemis' at '/agent-artemis' (None)\n",
      "INFO     2025-01-16 15:46:49,745 http://localhost:3372: found 'Agent Hermes' at '/agent-hermes' (None)\n",
      "INFO     2025-01-16 15:46:49,745 http://localhost:3372: found 'Agent Hera' at '/agent-hera' (None)\n",
      "INFO     2025-01-16 15:46:49,745 http://localhost:3372: found 'Agent Zeus' at '/agent-zeus' (None)\n",
      "INFO     2025-01-16 15:46:49,745 http://localhost:3372: found 'Agent Poseidon' at '/agent-poseidon' (None)\n",
      "INFO     2025-01-16 15:46:49,745 http://localhost:3372: found 'Agent Hades' at '/agent-hades' (None)\n",
      "INFO     2025-01-16 15:46:49,745 http://localhost:3372: found 'Agent Demeter' at '/agent-demeter' (None)\n",
      "INFO     2025-01-16 15:46:49,745 http://localhost:3372: found 'Agent Dionysus' at '/agent-dionysus' (None)\n",
      "INFO     2025-01-16 15:46:49,745 http://localhost:3372: found 'Agent Hephaestus' at '/agent-hephaestus' (None)\n",
      "INFO     2025-01-16 15:46:49,745 http://localhost:3372: found 'Agent Hestia' at '/agent-hestia' (None)\n",
      "INFO     2025-01-16 15:46:49,745 http://localhost:3372: found 'Agent Persephone' at '/agent-persephone' (None)\n",
      "INFO     2025-01-16 15:46:49,745 http://localhost:3372: found 'Agent Achilles' at '/agent-achilles' (None)\n",
      "INFO     2025-01-16 15:46:49,745 http://localhost:3372: found 'Agent Odysseus' at '/agent-odysseus' (None)\n",
      "INFO     2025-01-16 15:46:49,745 http://localhost:3372: found 'Agent Hercules' at '/agent-hercules' (None)\n",
      "INFO     2025-01-16 15:46:49,745 http://localhost:3372: found 'Agent Theseus' at '/agent-theseus' (None)\n",
      "INFO     2025-01-16 15:46:49,745 http://localhost:3372: found 'Agent Jason' at '/agent-jason' (None)\n",
      "INFO     2025-01-16 15:46:49,745 http://localhost:3372: found 'Agent Orpheus' at '/agent-orpheus' (None)\n",
      "INFO     2025-01-16 15:46:49,745 http://localhost:3372: found 'Agent Pandora' at '/agent-pandora' (None)\n",
      "INFO     2025-01-16 15:46:49,745 http://localhost:3372: found 'Agent Medusa' at '/agent-medusa' (None)\n",
      "INFO     2025-01-16 15:46:49,745 http://localhost:3372: found 'Agent Minerva' at '/agent-minerva' (None)\n",
      "INFO     2025-01-16 15:46:49,745 http://localhost:3372: found 'Agent Vulcan' at '/agent-vulcan' (None)\n",
      "INFO     2025-01-16 15:46:49,745 http://localhost:3372: startup with flows: 50, providers: 0, connection: 1, log level: info\n",
      "WARNING  2025-01-16 15:46:49,745 http://localhost:3372: reset cache ./data/cache.json\n",
      "INFO     2025-01-16 15:46:49,748 http://localhost:3372: node startup complete\n",
      "INFO     2025-01-16 15:46:49,749 http://localhost:3372: http://localhost:3370/connect with nodes: 1, flows: 50\n",
      "INFO     2025-01-16 15:46:49,767 http://localhost:3370: connect from http://localhost:3372 with nodes: 1, flows: 50, feed False to organization Mediaplus\n"
     ]
    }
   ],
   "source": [
    "sh(\"python -m kodo.cli service ./node2.yaml --reset\")"
   ]
  },
  {
   "cell_type": "markdown",
   "id": "e3db8c48-2056-4c3c-8d0d-c78ff7370bbc",
   "metadata": {},
   "source": [
    "#### Public Registry"
   ]
  },
  {
   "cell_type": "code",
   "execution_count": 8,
   "id": "a85e9d4e-2381-46ba-9c13-5514c5aa7dff",
   "metadata": {},
   "outputs": [
    {
     "name": "stderr",
     "output_type": "stream",
     "text": [
      "INFO     2025-01-16 15:46:57,878 http://localhost:3373: startup with flows: 0, providers: 0, connection: 1, log level: INFO\n",
      "WARNING  2025-01-16 15:46:57,878 http://localhost:3373: reset cache ./data/cache.json\n",
      "INFO     2025-01-16 15:46:57,881 http://localhost:3373: registry startup complete (feed is True)\n",
      "INFO     2025-01-16 15:46:57,882 http://localhost:3373: http://localhost:3370/connect with nodes: 0, flows: 0\n",
      "INFO     2025-01-16 15:46:57,901 http://localhost:3370: connect from http://localhost:3373 with nodes: 0, flows: 0, feed True to organization Public\n",
      "INFO     2025-01-16 15:46:57,902 http://localhost:3373: feedback from http://localhost:3370 with nodes: 0, flows: 0\n"
     ]
    }
   ],
   "source": [
    "sh(\"python -m kodo.cli service -Rf --url http://localhost:3373 --level info --organization Public --connect http://localhost:3370 --reset\")"
   ]
  },
  {
   "cell_type": "code",
   "execution_count": 9,
   "id": "b6ad7181-dca6-4a38-8522-dd2bf296e3e0",
   "metadata": {},
   "outputs": [
    {
     "data": {
      "text/plain": [
       "<Response [200 OK]>"
      ]
     },
     "execution_count": 9,
     "metadata": {},
     "output_type": "execute_result"
    }
   ],
   "source": [
    "httpx.get(\"http://localhost:3373/counts\")"
   ]
  },
  {
   "cell_type": "code",
   "execution_count": 10,
   "id": "33d86790-ab81-491e-b12e-e9fae2579d04",
   "metadata": {},
   "outputs": [
    {
     "data": {
      "text/plain": [
       "{'total': 52,\n",
       " 'organization': {'Mediaplus': 50,\n",
       "  'Plan.Net Gruppe für digitale Kommunikation GmbH & Co. KG': 2},\n",
       " 'tags': {'advanced': 1,\n",
       "  'aerial': 1,\n",
       "  'analyst': 1,\n",
       "  'assessment': 1,\n",
       "  'asset': 1,\n",
       "  'chases': 1,\n",
       "  'combat': 2,\n",
       "  'commander': 1,\n",
       "  'communications': 1,\n",
       "  'control': 1,\n",
       "  'coordinator': 1,\n",
       "  'crisis': 1,\n",
       "  'cultural': 1,\n",
       "  'cybersecurity': 1,\n",
       "  'default': 1,\n",
       "  'disaster': 1,\n",
       "  'disguise': 1,\n",
       "  'driver': 1,\n",
       "  'encryption': 1,\n",
       "  'expert': 6,\n",
       "  'exploit': 1,\n",
       "  'explosives': 1,\n",
       "  'field': 1,\n",
       "  'handler': 1,\n",
       "  'hardware': 1,\n",
       "  'hazardous': 1,\n",
       "  'heavy': 1,\n",
       "  'high-speed': 1,\n",
       "  'home': 1,\n",
       "  'hostage': 1,\n",
       "  'infiltration': 1,\n",
       "  'intelligence': 2,\n",
       "  'journey': 1,\n",
       "  'liaison': 2,\n",
       "  'lifting': 1,\n",
       "  'logistics': 1,\n",
       "  'maintenance': 1,\n",
       "  'manager': 1,\n",
       "  'maritime': 1,\n",
       "  'materials': 1,\n",
       "  'medic': 1,\n",
       "  'mission': 1,\n",
       "  'monitoring': 1,\n",
       "  'negotiation': 1,\n",
       "  'negotiator': 1,\n",
       "  'operational': 1,\n",
       "  'operations': 5,\n",
       "  'operative': 1,\n",
       "  'oratory': 1,\n",
       "  'personnel': 1,\n",
       "  'planner': 2,\n",
       "  'planning': 1,\n",
       "  'problem': 1,\n",
       "  'protection': 1,\n",
       "  'reconnaissance': 1,\n",
       "  'rescue': 1,\n",
       "  'response': 1,\n",
       "  'security': 1,\n",
       "  'signal': 1,\n",
       "  'skills': 1,\n",
       "  'solver': 1,\n",
       "  'specialist': 4,\n",
       "  'stealth': 1,\n",
       "  'strategy': 1,\n",
       "  'surveillance': 2,\n",
       "  'systems': 1,\n",
       "  'tactical': 2,\n",
       "  'tech': 1,\n",
       "  'technician': 1,\n",
       "  'test': 1,\n",
       "  'threat': 1,\n",
       "  'trainer': 1,\n",
       "  'unarmed': 1,\n",
       "  'undercover': 1,\n",
       "  'vehicle': 1,\n",
       "  'visual': 1,\n",
       "  'weapons': 2,\n",
       "  'x-ray': 1,\n",
       "  'youth': 1,\n",
       "  'zero-day': 1,\n",
       "  'zonal': 1}}"
      ]
     },
     "execution_count": 10,
     "metadata": {},
     "output_type": "execute_result"
    },
    {
     "name": "stderr",
     "output_type": "stream",
     "text": [
      "INFO     2025-01-16 15:52:50,580 http://localhost:3371: launch `Experimental Test Flow` (tests.test:flow) in 0:00:00.004671: 67891d426dd6595cb42351d8\n"
     ]
    }
   ],
   "source": [
    "httpx.get(\"http://localhost:3373/counts\").json()"
   ]
  },
  {
   "cell_type": "markdown",
   "id": "03b07e98-3253-41a4-a2f6-251572c96f23",
   "metadata": {},
   "source": [
    "## Admin Panel\n",
    "\n",
    "* visit node/flow explorer\n",
    "  * http://localhost:3370/flows or http://localhost:3370/flows?format=json\n",
    "  * http://localhost:3371/flows or http://localhost:3371/flows?format=json\n",
    "  * http://localhost:3372/flows or http://localhost:3372/flows?format=json\n",
    "  * http://localhost:3373/flows or http://localhost:3373/flows?format=json\n",
    "* visit counts:\n",
    "  * http://localhost:3370/counts\n",
    "  * http://localhost:3371/counts\n",
    "  * http://localhost:3372/counts\n",
    "  * http://localhost:3373/counts"
   ]
  },
  {
   "cell_type": "markdown",
   "id": "a00a9eac-4a37-401e-96d5-74436ba0bc4f",
   "metadata": {},
   "source": [
    "### Disconnect (from Registry)"
   ]
  },
  {
   "cell_type": "code",
   "execution_count": null,
   "id": "34ef48a3-1837-4f40-86f7-4a3310df8514",
   "metadata": {},
   "outputs": [],
   "source": [
    "resp = httpx.delete(\"http://localhost:3371/connect\")"
   ]
  },
  {
   "cell_type": "code",
   "execution_count": null,
   "id": "b76cf492-7c19-4b5a-a14f-7d44d8d7f0a4",
   "metadata": {},
   "outputs": [],
   "source": [
    "resp"
   ]
  },
  {
   "cell_type": "code",
   "execution_count": null,
   "id": "d66864b7-c977-4dcf-a9d0-4999f05463b5",
   "metadata": {},
   "outputs": [],
   "source": [
    "# Serviceplan Registry\n",
    "assert httpx.get(\"http://localhost:3370/counts\").json()[\"total\"] == 50\n",
    "httpx.get(\"http://localhost:3370/counts\").json()[\"total\"]"
   ]
  },
  {
   "cell_type": "code",
   "execution_count": null,
   "id": "6024001b-db71-4de1-819a-cd84138c6de0",
   "metadata": {},
   "outputs": [],
   "source": [
    "# Node (disconnected, but still alive)\n",
    "assert httpx.get(\"http://localhost:3371/counts\").json()[\"total\"] == 2\n",
    "httpx.get(\"http://localhost:3371/counts\").json()[\"total\"]"
   ]
  },
  {
   "cell_type": "code",
   "execution_count": null,
   "id": "71c1bfbb-20ba-488c-acd5-36163bda5e20",
   "metadata": {},
   "outputs": [],
   "source": [
    "# node\n",
    "assert httpx.get(\"http://localhost:3372/counts\").json()[\"total\"] == 50\n",
    "httpx.get(\"http://localhost:3372/counts\").json()[\"total\"]"
   ]
  },
  {
   "cell_type": "code",
   "execution_count": null,
   "id": "a6f4ad47-65c6-473f-9b60-605f42be6d0a",
   "metadata": {},
   "outputs": [],
   "source": [
    "# Public Registry\n",
    "assert httpx.get(\"http://localhost:3373/counts\").json()[\"total\"] == 50\n",
    "httpx.get(\"http://localhost:3373/counts\").json()[\"total\"]"
   ]
  },
  {
   "cell_type": "markdown",
   "id": "34435812-1ffb-451e-81b2-61f4a9a2d940",
   "metadata": {},
   "source": [
    "## Class Diagram\n",
    "\n",
    "Interaction between the node service and the flow starts on the node:\n",
    "* with **`FlowDiscovery`**:\n",
    "  * to discover the flows and its' properties (sub-process) - mode: _discover_\n",
    "* with **`FlowAction`**:\n",
    "  * to visit the flow's landing page (sub-process) - mode: _enter_\n",
    "  * to launch the flow (using **`FlowExecution`**) - mode: _launch_\n",
    "* with **`FlowExecution`**:\n",
    "  * to detach from the node and execute the flow - mode: _execute_\n",
    "\n",
    "\n",
    "```mermaid\n",
    "classDiagram\n",
    "    direction TB\n",
    "    class FlowProcess {\n",
    "        base class for node/flow interaction\n",
    "        create_event_stream(fid)\n",
    "        event(kind, **kwargs)\n",
    "    }\n",
    "\n",
    "    class FlowExecution {\n",
    "        execute flow in detached sub-process\n",
    "        communicate(mode, str)\n",
    "    }\n",
    "\n",
    "    class FlowInterProcess {\n",
    "        interaction between node and sub-process flow\n",
    "        parse_msg(mode, data, callback)\n",
    "        parse_form_data()\n",
    "        spawn(mode, data, inputs)\n",
    "        prep_msg(line, key)\n",
    "        log_msg(level, message)\n",
    "        write_msg(line, key)\n",
    "    }\n",
    "\n",
    "    class FlowDiscovery {\n",
    "        discover flows and flows' properties\n",
    "        communicate(mode, str)\n",
    "        enter()\n",
    "    }\n",
    "\n",
    "    class FlowAction {\n",
    "        visit and launch a flow\n",
    "        build_form(data)\n",
    "        run()\n",
    "        communicate(mode)\n",
    "        enter(mode, data)\n",
    "        instantiate(inputs)\n",
    "    }\n",
    "\n",
    "    FlowInterProcess <|-- FlowExecution\n",
    "    FlowProcess <|-- FlowInterProcess\n",
    "    FlowInterProcess <|-- FlowDiscovery\n",
    "    FlowDiscovery <|-- FlowAction\n",
    "```"
   ]
  }
 ],
 "metadata": {
  "kernelspec": {
   "display_name": "Python 3 (ipykernel)",
   "language": "python",
   "name": "python3"
  },
  "language_info": {
   "codemirror_mode": {
    "name": "ipython",
    "version": 3
   },
   "file_extension": ".py",
   "mimetype": "text/x-python",
   "name": "python",
   "nbconvert_exporter": "python",
   "pygments_lexer": "ipython3",
   "version": "3.12.6"
  }
 },
 "nbformat": 4,
 "nbformat_minor": 5
}
