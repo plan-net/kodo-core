{
 "cells": [
  {
   "cell_type": "code",
   "execution_count": 1,
   "id": "b5f60087-96ac-407b-9a95-7e372ab4433c",
   "metadata": {},
   "outputs": [],
   "source": [
    "from multiprocessing import Process\n",
    "from kodo.service.node import run_service\n",
    "import httpx\n",
    "import importlib\n",
    "\n",
    "from IPython.display import display, HTML"
   ]
  },
  {
   "cell_type": "markdown",
   "id": "190eb612-071c-4d61-ab4d-51045d1643a6",
   "metadata": {},
   "source": [
    "# REGISTRY1 STARTUP\n",
    "\n",
    "We startup a `registry1` and a `node1` connects to this `registry1`.\n",
    "\n",
    "Next we startup another `registry2` and a `node2` connects to this`registry2`."
   ]
  },
  {
   "cell_type": "code",
   "execution_count": 2,
   "id": "4b36675e-3f2c-438d-9b26-98aed0ce7ef8",
   "metadata": {},
   "outputs": [],
   "source": [
    "registry1ip = \"http://localhost:3366\"\n",
    "node1ip = \"http://localhost:3367\"\n",
    "registry2ip = \"http://localhost:3368\"\n",
    "node2ip = \"http://localhost:3369\""
   ]
  },
  {
   "cell_type": "code",
   "execution_count": 3,
   "id": "a822483a-238f-44ee-88e5-46376ea67da8",
   "metadata": {},
   "outputs": [
    {
     "name": "stderr",
     "output_type": "stream",
     "text": [
      "INFO - 2024-12-26 18:06:12,383 - kodo - node - http://localhost:3366: registry startup\n",
      "INFO - 2024-12-26 18:06:12,383 - kodo - node - http://localhost:3366: ignore cache ./registry1.json\n",
      "INFO - 2024-12-26 18:06:12,383 - kodo - node - http://localhost:3366: successfully started registry\n",
      "INFO - 2024-12-26 18:06:12,383 - uvicorn.error - server - Started server process [76024]\n",
      "INFO - 2024-12-26 18:06:12,383 - uvicorn.error - on - Waiting for application startup.\n",
      "INFO - 2024-12-26 18:06:12,385 - uvicorn.error - on - Application startup complete.\n"
     ]
    }
   ],
   "source": [
    "registry1kw = {\n",
    "    \"url\": registry1ip, \n",
    "    \"organization\": \"registry1\",\n",
    "    \"node\": False, \n",
    "    \"registry\": True,\n",
    "    # initialise the cache, which we will use later\n",
    "    \"cache\": \"./registry1.json\",\n",
    "    # start from scratch\n",
    "    \"reset\": True\n",
    "}\n",
    "registry1 = Process(target=run_service, kwargs=registry1kw)\n",
    "registry1.start()"
   ]
  },
  {
   "cell_type": "code",
   "execution_count": 20,
   "id": "fa8b1110-5fcf-4f22-b4f9-78a21e30f051",
   "metadata": {},
   "outputs": [
    {
     "data": {
      "text/plain": [
       "{'total': 0,\n",
       " 'filtered': 0,\n",
       " 'p': 0,\n",
       " 'pp': 10,\n",
       " 'items': [],\n",
       " 'by': 'name, node, url',\n",
       " 'q': None}"
      ]
     },
     "execution_count": 20,
     "metadata": {},
     "output_type": "execute_result"
    }
   ],
   "source": [
    "httpx.get(f\"{registry1ip}/flows\").json()"
   ]
  },
  {
   "cell_type": "code",
   "execution_count": 21,
   "id": "9d399f0e-ccb6-4e58-b4bf-b71875452173",
   "metadata": {},
   "outputs": [
    {
     "data": {
      "text/html": [
       "<table border=\"1\" class=\"dataframe\">\n",
       "  <thead>\n",
       "    <tr style=\"text-align: right;\">\n",
       "      <th></th>\n",
       "      <th>registry</th>\n",
       "      <th>node</th>\n",
       "      <th>organization</th>\n",
       "      <th>created</th>\n",
       "      <th>modified</th>\n",
       "      <th>heartbeat</th>\n",
       "      <th>url</th>\n",
       "      <th>name</th>\n",
       "      <th>author</th>\n",
       "      <th>description</th>\n",
       "      <th>tags</th>\n",
       "    </tr>\n",
       "  </thead>\n",
       "  <tbody>\n",
       "  </tbody>\n",
       "</table>"
      ],
      "text/plain": [
       "<IPython.core.display.HTML object>"
      ]
     },
     "metadata": {},
     "output_type": "display_data"
    }
   ],
   "source": [
    "display(HTML(httpx.get(f\"{registry1ip}/flows?format=html\").content.decode(\"utf-8\")))"
   ]
  },
  {
   "cell_type": "markdown",
   "id": "a102092f-778a-4c2e-b84d-1efc118a63f6",
   "metadata": {},
   "source": [
    "### simulate node connection\n",
    "ignore duplicate flows"
   ]
  },
  {
   "cell_type": "code",
   "execution_count": 51,
   "id": "a824c5ad-342e-40a0-8b1a-e5c40d8032d0",
   "metadata": {},
   "outputs": [
    {
     "data": {
      "text/plain": [
       "{'url': 'http://localhost:3366',\n",
       " 'organization': None,\n",
       " 'connection': {},\n",
       " 'node': True,\n",
       " 'registry': True,\n",
       " 'provider': False,\n",
       " 'started_at': '2024-12-26T18:22:01.033559',\n",
       " 'idle': True,\n",
       " 'now': '2024-12-26T18:22:07.114229',\n",
       " 'message': ['registered node http://localhost:3380 (first visit)',\n",
       "  'received 4 flows, registered 3 flows']}"
      ]
     },
     "execution_count": 51,
     "metadata": {},
     "output_type": "execute_result"
    }
   ],
   "source": [
    "data = {\n",
    "    \"url\": \"http://localhost:3380\",\n",
    "    \"flows\": [\n",
    "        {\n",
    "            \"url\": \"/test1\",\n",
    "            \"name\": \"Test 1\"\n",
    "        },\n",
    "        {\n",
    "            \"url\": \"/test2\",\n",
    "            \"name\": \"Test 2\"\n",
    "        },\n",
    "        {\n",
    "            \"url\": \"/test2\",\n",
    "            \"name\": \"Test 3\"\n",
    "        },\n",
    "        {\n",
    "            \"url\": \"/test4\",\n",
    "            \"name\": \"Test 4\"\n",
    "        },\n",
    "    ]\n",
    "}\n",
    "resp = httpx.post(f\"{registry1ip}/register\", json=data)\n",
    "\n",
    "resp.json()"
   ]
  },
  {
   "cell_type": "code",
   "execution_count": 52,
   "id": "83d96c4e-74be-4c7e-8c9c-97b7ebab1e76",
   "metadata": {},
   "outputs": [
    {
     "data": {
      "text/html": [
       "<table border=\"1\" class=\"dataframe\">\n",
       "  <thead>\n",
       "    <tr style=\"text-align: right;\">\n",
       "      <th></th>\n",
       "      <th>registry</th>\n",
       "      <th>node</th>\n",
       "      <th>organization</th>\n",
       "      <th>created</th>\n",
       "      <th>modified</th>\n",
       "      <th>heartbeat</th>\n",
       "      <th>url</th>\n",
       "      <th>name</th>\n",
       "      <th>author</th>\n",
       "      <th>description</th>\n",
       "      <th>tags</th>\n",
       "    </tr>\n",
       "  </thead>\n",
       "  <tbody>\n",
       "    <tr>\n",
       "      <th>0</th>\n",
       "      <td>http://localhost:3366</td>\n",
       "      <td>http://localhost:3380</td>\n",
       "      <td>None</td>\n",
       "      <td>2024-12-26 18:22:07.113278</td>\n",
       "      <td>2024-12-26 18:22:07.113278</td>\n",
       "      <td>2024-12-26 18:22:07.113278</td>\n",
       "      <td>/test1</td>\n",
       "      <td>Test 1</td>\n",
       "      <td>missing author</td>\n",
       "      <td>missing description</td>\n",
       "      <td>[]</td>\n",
       "    </tr>\n",
       "    <tr>\n",
       "      <th>1</th>\n",
       "      <td>http://localhost:3366</td>\n",
       "      <td>http://localhost:3380</td>\n",
       "      <td>None</td>\n",
       "      <td>2024-12-26 18:22:07.113278</td>\n",
       "      <td>2024-12-26 18:22:07.113278</td>\n",
       "      <td>2024-12-26 18:22:07.113278</td>\n",
       "      <td>/test2</td>\n",
       "      <td>Test 3</td>\n",
       "      <td>missing author</td>\n",
       "      <td>missing description</td>\n",
       "      <td>[]</td>\n",
       "    </tr>\n",
       "    <tr>\n",
       "      <th>2</th>\n",
       "      <td>http://localhost:3366</td>\n",
       "      <td>http://localhost:3380</td>\n",
       "      <td>None</td>\n",
       "      <td>2024-12-26 18:22:07.113278</td>\n",
       "      <td>2024-12-26 18:22:07.113278</td>\n",
       "      <td>2024-12-26 18:22:07.113278</td>\n",
       "      <td>/test4</td>\n",
       "      <td>Test 4</td>\n",
       "      <td>missing author</td>\n",
       "      <td>missing description</td>\n",
       "      <td>[]</td>\n",
       "    </tr>\n",
       "  </tbody>\n",
       "</table>"
      ],
      "text/plain": [
       "<IPython.core.display.HTML object>"
      ]
     },
     "metadata": {},
     "output_type": "display_data"
    }
   ],
   "source": [
    "display(HTML(httpx.get(f\"{registry1ip}/flows?format=html\").content.decode(\"utf-8\")))"
   ]
  },
  {
   "cell_type": "markdown",
   "id": "02d7551d-3ad0-4967-9781-6742b381d87f",
   "metadata": {},
   "source": [
    "# simulate registry"
   ]
  },
  {
   "cell_type": "code",
   "execution_count": 60,
   "id": "95576c15-5acd-4ae1-80d5-ca99810c85c8",
   "metadata": {},
   "outputs": [
    {
     "ename": "ReadTimeout",
     "evalue": "timed out",
     "output_type": "error",
     "traceback": [
      "\u001b[0;31m---------------------------------------------------------------------------\u001b[0m",
      "\u001b[0;31mReadTimeout\u001b[0m                               Traceback (most recent call last)",
      "File \u001b[0;32m~/Project/kodo-core/.venv/lib/python3.12/site-packages/httpx/_transports/default.py:72\u001b[0m, in \u001b[0;36mmap_httpcore_exceptions\u001b[0;34m()\u001b[0m\n\u001b[1;32m     71\u001b[0m \u001b[38;5;28;01mtry\u001b[39;00m:\n\u001b[0;32m---> 72\u001b[0m     \u001b[38;5;28;01myield\u001b[39;00m\n\u001b[1;32m     73\u001b[0m \u001b[38;5;28;01mexcept\u001b[39;00m \u001b[38;5;167;01mException\u001b[39;00m \u001b[38;5;28;01mas\u001b[39;00m exc:\n",
      "File \u001b[0;32m~/Project/kodo-core/.venv/lib/python3.12/site-packages/httpx/_transports/default.py:236\u001b[0m, in \u001b[0;36mHTTPTransport.handle_request\u001b[0;34m(self, request)\u001b[0m\n\u001b[1;32m    235\u001b[0m \u001b[38;5;28;01mwith\u001b[39;00m map_httpcore_exceptions():\n\u001b[0;32m--> 236\u001b[0m     resp \u001b[38;5;241m=\u001b[39m \u001b[38;5;28;43mself\u001b[39;49m\u001b[38;5;241;43m.\u001b[39;49m\u001b[43m_pool\u001b[49m\u001b[38;5;241;43m.\u001b[39;49m\u001b[43mhandle_request\u001b[49m\u001b[43m(\u001b[49m\u001b[43mreq\u001b[49m\u001b[43m)\u001b[49m\n\u001b[1;32m    238\u001b[0m \u001b[38;5;28;01massert\u001b[39;00m \u001b[38;5;28misinstance\u001b[39m(resp\u001b[38;5;241m.\u001b[39mstream, typing\u001b[38;5;241m.\u001b[39mIterable)\n",
      "File \u001b[0;32m~/Project/kodo-core/.venv/lib/python3.12/site-packages/httpcore/_sync/connection_pool.py:256\u001b[0m, in \u001b[0;36mConnectionPool.handle_request\u001b[0;34m(self, request)\u001b[0m\n\u001b[1;32m    255\u001b[0m     \u001b[38;5;28mself\u001b[39m\u001b[38;5;241m.\u001b[39m_close_connections(closing)\n\u001b[0;32m--> 256\u001b[0m     \u001b[38;5;28;01mraise\u001b[39;00m exc \u001b[38;5;28;01mfrom\u001b[39;00m \u001b[38;5;28;01mNone\u001b[39;00m\n\u001b[1;32m    258\u001b[0m \u001b[38;5;66;03m# Return the response. Note that in this case we still have to manage\u001b[39;00m\n\u001b[1;32m    259\u001b[0m \u001b[38;5;66;03m# the point at which the response is closed.\u001b[39;00m\n",
      "File \u001b[0;32m~/Project/kodo-core/.venv/lib/python3.12/site-packages/httpcore/_sync/connection_pool.py:236\u001b[0m, in \u001b[0;36mConnectionPool.handle_request\u001b[0;34m(self, request)\u001b[0m\n\u001b[1;32m    234\u001b[0m \u001b[38;5;28;01mtry\u001b[39;00m:\n\u001b[1;32m    235\u001b[0m     \u001b[38;5;66;03m# Send the request on the assigned connection.\u001b[39;00m\n\u001b[0;32m--> 236\u001b[0m     response \u001b[38;5;241m=\u001b[39m \u001b[43mconnection\u001b[49m\u001b[38;5;241;43m.\u001b[39;49m\u001b[43mhandle_request\u001b[49m\u001b[43m(\u001b[49m\n\u001b[1;32m    237\u001b[0m \u001b[43m        \u001b[49m\u001b[43mpool_request\u001b[49m\u001b[38;5;241;43m.\u001b[39;49m\u001b[43mrequest\u001b[49m\n\u001b[1;32m    238\u001b[0m \u001b[43m    \u001b[49m\u001b[43m)\u001b[49m\n\u001b[1;32m    239\u001b[0m \u001b[38;5;28;01mexcept\u001b[39;00m ConnectionNotAvailable:\n\u001b[1;32m    240\u001b[0m     \u001b[38;5;66;03m# In some cases a connection may initially be available to\u001b[39;00m\n\u001b[1;32m    241\u001b[0m     \u001b[38;5;66;03m# handle a request, but then become unavailable.\u001b[39;00m\n\u001b[1;32m    242\u001b[0m     \u001b[38;5;66;03m#\u001b[39;00m\n\u001b[1;32m    243\u001b[0m     \u001b[38;5;66;03m# In this case we clear the connection and try again.\u001b[39;00m\n",
      "File \u001b[0;32m~/Project/kodo-core/.venv/lib/python3.12/site-packages/httpcore/_sync/connection.py:103\u001b[0m, in \u001b[0;36mHTTPConnection.handle_request\u001b[0;34m(self, request)\u001b[0m\n\u001b[1;32m    101\u001b[0m     \u001b[38;5;28;01mraise\u001b[39;00m exc\n\u001b[0;32m--> 103\u001b[0m \u001b[38;5;28;01mreturn\u001b[39;00m \u001b[38;5;28;43mself\u001b[39;49m\u001b[38;5;241;43m.\u001b[39;49m\u001b[43m_connection\u001b[49m\u001b[38;5;241;43m.\u001b[39;49m\u001b[43mhandle_request\u001b[49m\u001b[43m(\u001b[49m\u001b[43mrequest\u001b[49m\u001b[43m)\u001b[49m\n",
      "File \u001b[0;32m~/Project/kodo-core/.venv/lib/python3.12/site-packages/httpcore/_sync/http11.py:136\u001b[0m, in \u001b[0;36mHTTP11Connection.handle_request\u001b[0;34m(self, request)\u001b[0m\n\u001b[1;32m    135\u001b[0m         \u001b[38;5;28mself\u001b[39m\u001b[38;5;241m.\u001b[39m_response_closed()\n\u001b[0;32m--> 136\u001b[0m \u001b[38;5;28;01mraise\u001b[39;00m exc\n",
      "File \u001b[0;32m~/Project/kodo-core/.venv/lib/python3.12/site-packages/httpcore/_sync/http11.py:106\u001b[0m, in \u001b[0;36mHTTP11Connection.handle_request\u001b[0;34m(self, request)\u001b[0m\n\u001b[1;32m     97\u001b[0m \u001b[38;5;28;01mwith\u001b[39;00m Trace(\n\u001b[1;32m     98\u001b[0m     \u001b[38;5;124m\"\u001b[39m\u001b[38;5;124mreceive_response_headers\u001b[39m\u001b[38;5;124m\"\u001b[39m, logger, request, kwargs\n\u001b[1;32m     99\u001b[0m ) \u001b[38;5;28;01mas\u001b[39;00m trace:\n\u001b[1;32m    100\u001b[0m     (\n\u001b[1;32m    101\u001b[0m         http_version,\n\u001b[1;32m    102\u001b[0m         status,\n\u001b[1;32m    103\u001b[0m         reason_phrase,\n\u001b[1;32m    104\u001b[0m         headers,\n\u001b[1;32m    105\u001b[0m         trailing_data,\n\u001b[0;32m--> 106\u001b[0m     ) \u001b[38;5;241m=\u001b[39m \u001b[38;5;28;43mself\u001b[39;49m\u001b[38;5;241;43m.\u001b[39;49m\u001b[43m_receive_response_headers\u001b[49m\u001b[43m(\u001b[49m\u001b[38;5;241;43m*\u001b[39;49m\u001b[38;5;241;43m*\u001b[39;49m\u001b[43mkwargs\u001b[49m\u001b[43m)\u001b[49m\n\u001b[1;32m    107\u001b[0m     trace\u001b[38;5;241m.\u001b[39mreturn_value \u001b[38;5;241m=\u001b[39m (\n\u001b[1;32m    108\u001b[0m         http_version,\n\u001b[1;32m    109\u001b[0m         status,\n\u001b[1;32m    110\u001b[0m         reason_phrase,\n\u001b[1;32m    111\u001b[0m         headers,\n\u001b[1;32m    112\u001b[0m     )\n",
      "File \u001b[0;32m~/Project/kodo-core/.venv/lib/python3.12/site-packages/httpcore/_sync/http11.py:177\u001b[0m, in \u001b[0;36mHTTP11Connection._receive_response_headers\u001b[0;34m(self, request)\u001b[0m\n\u001b[1;32m    176\u001b[0m \u001b[38;5;28;01mwhile\u001b[39;00m \u001b[38;5;28;01mTrue\u001b[39;00m:\n\u001b[0;32m--> 177\u001b[0m     event \u001b[38;5;241m=\u001b[39m \u001b[38;5;28;43mself\u001b[39;49m\u001b[38;5;241;43m.\u001b[39;49m\u001b[43m_receive_event\u001b[49m\u001b[43m(\u001b[49m\u001b[43mtimeout\u001b[49m\u001b[38;5;241;43m=\u001b[39;49m\u001b[43mtimeout\u001b[49m\u001b[43m)\u001b[49m\n\u001b[1;32m    178\u001b[0m     \u001b[38;5;28;01mif\u001b[39;00m \u001b[38;5;28misinstance\u001b[39m(event, h11\u001b[38;5;241m.\u001b[39mResponse):\n",
      "File \u001b[0;32m~/Project/kodo-core/.venv/lib/python3.12/site-packages/httpcore/_sync/http11.py:217\u001b[0m, in \u001b[0;36mHTTP11Connection._receive_event\u001b[0;34m(self, timeout)\u001b[0m\n\u001b[1;32m    216\u001b[0m \u001b[38;5;28;01mif\u001b[39;00m event \u001b[38;5;129;01mis\u001b[39;00m h11\u001b[38;5;241m.\u001b[39mNEED_DATA:\n\u001b[0;32m--> 217\u001b[0m     data \u001b[38;5;241m=\u001b[39m \u001b[38;5;28;43mself\u001b[39;49m\u001b[38;5;241;43m.\u001b[39;49m\u001b[43m_network_stream\u001b[49m\u001b[38;5;241;43m.\u001b[39;49m\u001b[43mread\u001b[49m\u001b[43m(\u001b[49m\n\u001b[1;32m    218\u001b[0m \u001b[43m        \u001b[49m\u001b[38;5;28;43mself\u001b[39;49m\u001b[38;5;241;43m.\u001b[39;49m\u001b[43mREAD_NUM_BYTES\u001b[49m\u001b[43m,\u001b[49m\u001b[43m \u001b[49m\u001b[43mtimeout\u001b[49m\u001b[38;5;241;43m=\u001b[39;49m\u001b[43mtimeout\u001b[49m\n\u001b[1;32m    219\u001b[0m \u001b[43m    \u001b[49m\u001b[43m)\u001b[49m\n\u001b[1;32m    221\u001b[0m     \u001b[38;5;66;03m# If we feed this case through h11 we'll raise an exception like:\u001b[39;00m\n\u001b[1;32m    222\u001b[0m     \u001b[38;5;66;03m#\u001b[39;00m\n\u001b[1;32m    223\u001b[0m     \u001b[38;5;66;03m#     httpcore.RemoteProtocolError: can't handle event type\u001b[39;00m\n\u001b[0;32m   (...)\u001b[0m\n\u001b[1;32m    227\u001b[0m     \u001b[38;5;66;03m# perspective. Instead we handle this case distinctly and treat\u001b[39;00m\n\u001b[1;32m    228\u001b[0m     \u001b[38;5;66;03m# it as a ConnectError.\u001b[39;00m\n",
      "File \u001b[0;32m~/Project/kodo-core/.venv/lib/python3.12/site-packages/httpcore/_backends/sync.py:126\u001b[0m, in \u001b[0;36mSyncStream.read\u001b[0;34m(self, max_bytes, timeout)\u001b[0m\n\u001b[1;32m    125\u001b[0m exc_map: ExceptionMapping \u001b[38;5;241m=\u001b[39m {socket\u001b[38;5;241m.\u001b[39mtimeout: ReadTimeout, \u001b[38;5;167;01mOSError\u001b[39;00m: ReadError}\n\u001b[0;32m--> 126\u001b[0m \u001b[38;5;28;01mwith\u001b[39;00m map_exceptions(exc_map):\n\u001b[1;32m    127\u001b[0m     \u001b[38;5;28mself\u001b[39m\u001b[38;5;241m.\u001b[39m_sock\u001b[38;5;241m.\u001b[39msettimeout(timeout)\n",
      "File \u001b[0;32m/Library/Frameworks/Python.framework/Versions/3.12/lib/python3.12/contextlib.py:158\u001b[0m, in \u001b[0;36m_GeneratorContextManager.__exit__\u001b[0;34m(self, typ, value, traceback)\u001b[0m\n\u001b[1;32m    157\u001b[0m \u001b[38;5;28;01mtry\u001b[39;00m:\n\u001b[0;32m--> 158\u001b[0m     \u001b[38;5;28;43mself\u001b[39;49m\u001b[38;5;241;43m.\u001b[39;49m\u001b[43mgen\u001b[49m\u001b[38;5;241;43m.\u001b[39;49m\u001b[43mthrow\u001b[49m\u001b[43m(\u001b[49m\u001b[43mvalue\u001b[49m\u001b[43m)\u001b[49m\n\u001b[1;32m    159\u001b[0m \u001b[38;5;28;01mexcept\u001b[39;00m \u001b[38;5;167;01mStopIteration\u001b[39;00m \u001b[38;5;28;01mas\u001b[39;00m exc:\n\u001b[1;32m    160\u001b[0m     \u001b[38;5;66;03m# Suppress StopIteration *unless* it's the same exception that\u001b[39;00m\n\u001b[1;32m    161\u001b[0m     \u001b[38;5;66;03m# was passed to throw().  This prevents a StopIteration\u001b[39;00m\n\u001b[1;32m    162\u001b[0m     \u001b[38;5;66;03m# raised inside the \"with\" statement from being suppressed.\u001b[39;00m\n",
      "File \u001b[0;32m~/Project/kodo-core/.venv/lib/python3.12/site-packages/httpcore/_exceptions.py:14\u001b[0m, in \u001b[0;36mmap_exceptions\u001b[0;34m(map)\u001b[0m\n\u001b[1;32m     13\u001b[0m     \u001b[38;5;28;01mif\u001b[39;00m \u001b[38;5;28misinstance\u001b[39m(exc, from_exc):\n\u001b[0;32m---> 14\u001b[0m         \u001b[38;5;28;01mraise\u001b[39;00m to_exc(exc) \u001b[38;5;28;01mfrom\u001b[39;00m \u001b[38;5;21;01mexc\u001b[39;00m\n\u001b[1;32m     15\u001b[0m \u001b[38;5;28;01mraise\u001b[39;00m\n",
      "\u001b[0;31mReadTimeout\u001b[0m: timed out",
      "\nThe above exception was the direct cause of the following exception:\n",
      "\u001b[0;31mReadTimeout\u001b[0m                               Traceback (most recent call last)",
      "Cell \u001b[0;32mIn[60], line 11\u001b[0m\n\u001b[1;32m      1\u001b[0m data \u001b[38;5;241m=\u001b[39m {\n\u001b[1;32m      2\u001b[0m     \u001b[38;5;124m\"\u001b[39m\u001b[38;5;124murl\u001b[39m\u001b[38;5;124m\"\u001b[39m: \u001b[38;5;124m\"\u001b[39m\u001b[38;5;124mhttp://localhost:3381\u001b[39m\u001b[38;5;124m\"\u001b[39m,\n\u001b[1;32m      3\u001b[0m     \u001b[38;5;124m\"\u001b[39m\u001b[38;5;124mfeed\u001b[39m\u001b[38;5;124m\"\u001b[39m: \u001b[38;5;28;01mTrue\u001b[39;00m,\n\u001b[0;32m   (...)\u001b[0m\n\u001b[1;32m      9\u001b[0m     ]\n\u001b[1;32m     10\u001b[0m }\n\u001b[0;32m---> 11\u001b[0m resp \u001b[38;5;241m=\u001b[39m \u001b[43mhttpx\u001b[49m\u001b[38;5;241;43m.\u001b[39;49m\u001b[43mpost\u001b[49m\u001b[43m(\u001b[49m\u001b[38;5;124;43mf\u001b[39;49m\u001b[38;5;124;43m\"\u001b[39;49m\u001b[38;5;132;43;01m{\u001b[39;49;00m\u001b[43mregistry1ip\u001b[49m\u001b[38;5;132;43;01m}\u001b[39;49;00m\u001b[38;5;124;43m/connect\u001b[39;49m\u001b[38;5;124;43m\"\u001b[39;49m\u001b[43m,\u001b[49m\u001b[43m \u001b[49m\u001b[43mjson\u001b[49m\u001b[38;5;241;43m=\u001b[39;49m\u001b[43mdata\u001b[49m\u001b[43m)\u001b[49m\n\u001b[1;32m     13\u001b[0m resp\u001b[38;5;241m.\u001b[39mcontent\n",
      "File \u001b[0;32m~/Project/kodo-core/.venv/lib/python3.12/site-packages/httpx/_api.py:331\u001b[0m, in \u001b[0;36mpost\u001b[0;34m(url, content, data, files, json, params, headers, cookies, auth, proxy, proxies, follow_redirects, cert, verify, timeout, trust_env)\u001b[0m\n\u001b[1;32m    307\u001b[0m \u001b[38;5;28;01mdef\u001b[39;00m \u001b[38;5;21mpost\u001b[39m(\n\u001b[1;32m    308\u001b[0m     url: URL \u001b[38;5;241m|\u001b[39m \u001b[38;5;28mstr\u001b[39m,\n\u001b[1;32m    309\u001b[0m     \u001b[38;5;241m*\u001b[39m,\n\u001b[0;32m   (...)\u001b[0m\n\u001b[1;32m    324\u001b[0m     trust_env: \u001b[38;5;28mbool\u001b[39m \u001b[38;5;241m=\u001b[39m \u001b[38;5;28;01mTrue\u001b[39;00m,\n\u001b[1;32m    325\u001b[0m ) \u001b[38;5;241m-\u001b[39m\u001b[38;5;241m>\u001b[39m Response:\n\u001b[1;32m    326\u001b[0m \u001b[38;5;250m    \u001b[39m\u001b[38;5;124;03m\"\"\"\u001b[39;00m\n\u001b[1;32m    327\u001b[0m \u001b[38;5;124;03m    Sends a `POST` request.\u001b[39;00m\n\u001b[1;32m    328\u001b[0m \n\u001b[1;32m    329\u001b[0m \u001b[38;5;124;03m    **Parameters**: See `httpx.request`.\u001b[39;00m\n\u001b[1;32m    330\u001b[0m \u001b[38;5;124;03m    \"\"\"\u001b[39;00m\n\u001b[0;32m--> 331\u001b[0m     \u001b[38;5;28;01mreturn\u001b[39;00m \u001b[43mrequest\u001b[49m\u001b[43m(\u001b[49m\n\u001b[1;32m    332\u001b[0m \u001b[43m        \u001b[49m\u001b[38;5;124;43m\"\u001b[39;49m\u001b[38;5;124;43mPOST\u001b[39;49m\u001b[38;5;124;43m\"\u001b[39;49m\u001b[43m,\u001b[49m\n\u001b[1;32m    333\u001b[0m \u001b[43m        \u001b[49m\u001b[43murl\u001b[49m\u001b[43m,\u001b[49m\n\u001b[1;32m    334\u001b[0m \u001b[43m        \u001b[49m\u001b[43mcontent\u001b[49m\u001b[38;5;241;43m=\u001b[39;49m\u001b[43mcontent\u001b[49m\u001b[43m,\u001b[49m\n\u001b[1;32m    335\u001b[0m \u001b[43m        \u001b[49m\u001b[43mdata\u001b[49m\u001b[38;5;241;43m=\u001b[39;49m\u001b[43mdata\u001b[49m\u001b[43m,\u001b[49m\n\u001b[1;32m    336\u001b[0m \u001b[43m        \u001b[49m\u001b[43mfiles\u001b[49m\u001b[38;5;241;43m=\u001b[39;49m\u001b[43mfiles\u001b[49m\u001b[43m,\u001b[49m\n\u001b[1;32m    337\u001b[0m \u001b[43m        \u001b[49m\u001b[43mjson\u001b[49m\u001b[38;5;241;43m=\u001b[39;49m\u001b[43mjson\u001b[49m\u001b[43m,\u001b[49m\n\u001b[1;32m    338\u001b[0m \u001b[43m        \u001b[49m\u001b[43mparams\u001b[49m\u001b[38;5;241;43m=\u001b[39;49m\u001b[43mparams\u001b[49m\u001b[43m,\u001b[49m\n\u001b[1;32m    339\u001b[0m \u001b[43m        \u001b[49m\u001b[43mheaders\u001b[49m\u001b[38;5;241;43m=\u001b[39;49m\u001b[43mheaders\u001b[49m\u001b[43m,\u001b[49m\n\u001b[1;32m    340\u001b[0m \u001b[43m        \u001b[49m\u001b[43mcookies\u001b[49m\u001b[38;5;241;43m=\u001b[39;49m\u001b[43mcookies\u001b[49m\u001b[43m,\u001b[49m\n\u001b[1;32m    341\u001b[0m \u001b[43m        \u001b[49m\u001b[43mauth\u001b[49m\u001b[38;5;241;43m=\u001b[39;49m\u001b[43mauth\u001b[49m\u001b[43m,\u001b[49m\n\u001b[1;32m    342\u001b[0m \u001b[43m        \u001b[49m\u001b[43mproxy\u001b[49m\u001b[38;5;241;43m=\u001b[39;49m\u001b[43mproxy\u001b[49m\u001b[43m,\u001b[49m\n\u001b[1;32m    343\u001b[0m \u001b[43m        \u001b[49m\u001b[43mproxies\u001b[49m\u001b[38;5;241;43m=\u001b[39;49m\u001b[43mproxies\u001b[49m\u001b[43m,\u001b[49m\n\u001b[1;32m    344\u001b[0m \u001b[43m        \u001b[49m\u001b[43mfollow_redirects\u001b[49m\u001b[38;5;241;43m=\u001b[39;49m\u001b[43mfollow_redirects\u001b[49m\u001b[43m,\u001b[49m\n\u001b[1;32m    345\u001b[0m \u001b[43m        \u001b[49m\u001b[43mcert\u001b[49m\u001b[38;5;241;43m=\u001b[39;49m\u001b[43mcert\u001b[49m\u001b[43m,\u001b[49m\n\u001b[1;32m    346\u001b[0m \u001b[43m        \u001b[49m\u001b[43mverify\u001b[49m\u001b[38;5;241;43m=\u001b[39;49m\u001b[43mverify\u001b[49m\u001b[43m,\u001b[49m\n\u001b[1;32m    347\u001b[0m \u001b[43m        \u001b[49m\u001b[43mtimeout\u001b[49m\u001b[38;5;241;43m=\u001b[39;49m\u001b[43mtimeout\u001b[49m\u001b[43m,\u001b[49m\n\u001b[1;32m    348\u001b[0m \u001b[43m        \u001b[49m\u001b[43mtrust_env\u001b[49m\u001b[38;5;241;43m=\u001b[39;49m\u001b[43mtrust_env\u001b[49m\u001b[43m,\u001b[49m\n\u001b[1;32m    349\u001b[0m \u001b[43m    \u001b[49m\u001b[43m)\u001b[49m\n",
      "File \u001b[0;32m~/Project/kodo-core/.venv/lib/python3.12/site-packages/httpx/_api.py:118\u001b[0m, in \u001b[0;36mrequest\u001b[0;34m(method, url, params, content, data, files, json, headers, cookies, auth, proxy, proxies, timeout, follow_redirects, verify, cert, trust_env)\u001b[0m\n\u001b[1;32m     58\u001b[0m \u001b[38;5;250m\u001b[39m\u001b[38;5;124;03m\"\"\"\u001b[39;00m\n\u001b[1;32m     59\u001b[0m \u001b[38;5;124;03mSends an HTTP request.\u001b[39;00m\n\u001b[1;32m     60\u001b[0m \n\u001b[0;32m   (...)\u001b[0m\n\u001b[1;32m    107\u001b[0m \u001b[38;5;124;03m```\u001b[39;00m\n\u001b[1;32m    108\u001b[0m \u001b[38;5;124;03m\"\"\"\u001b[39;00m\n\u001b[1;32m    109\u001b[0m \u001b[38;5;28;01mwith\u001b[39;00m Client(\n\u001b[1;32m    110\u001b[0m     cookies\u001b[38;5;241m=\u001b[39mcookies,\n\u001b[1;32m    111\u001b[0m     proxy\u001b[38;5;241m=\u001b[39mproxy,\n\u001b[0;32m   (...)\u001b[0m\n\u001b[1;32m    116\u001b[0m     trust_env\u001b[38;5;241m=\u001b[39mtrust_env,\n\u001b[1;32m    117\u001b[0m ) \u001b[38;5;28;01mas\u001b[39;00m client:\n\u001b[0;32m--> 118\u001b[0m     \u001b[38;5;28;01mreturn\u001b[39;00m \u001b[43mclient\u001b[49m\u001b[38;5;241;43m.\u001b[39;49m\u001b[43mrequest\u001b[49m\u001b[43m(\u001b[49m\n\u001b[1;32m    119\u001b[0m \u001b[43m        \u001b[49m\u001b[43mmethod\u001b[49m\u001b[38;5;241;43m=\u001b[39;49m\u001b[43mmethod\u001b[49m\u001b[43m,\u001b[49m\n\u001b[1;32m    120\u001b[0m \u001b[43m        \u001b[49m\u001b[43murl\u001b[49m\u001b[38;5;241;43m=\u001b[39;49m\u001b[43murl\u001b[49m\u001b[43m,\u001b[49m\n\u001b[1;32m    121\u001b[0m \u001b[43m        \u001b[49m\u001b[43mcontent\u001b[49m\u001b[38;5;241;43m=\u001b[39;49m\u001b[43mcontent\u001b[49m\u001b[43m,\u001b[49m\n\u001b[1;32m    122\u001b[0m \u001b[43m        \u001b[49m\u001b[43mdata\u001b[49m\u001b[38;5;241;43m=\u001b[39;49m\u001b[43mdata\u001b[49m\u001b[43m,\u001b[49m\n\u001b[1;32m    123\u001b[0m \u001b[43m        \u001b[49m\u001b[43mfiles\u001b[49m\u001b[38;5;241;43m=\u001b[39;49m\u001b[43mfiles\u001b[49m\u001b[43m,\u001b[49m\n\u001b[1;32m    124\u001b[0m \u001b[43m        \u001b[49m\u001b[43mjson\u001b[49m\u001b[38;5;241;43m=\u001b[39;49m\u001b[43mjson\u001b[49m\u001b[43m,\u001b[49m\n\u001b[1;32m    125\u001b[0m \u001b[43m        \u001b[49m\u001b[43mparams\u001b[49m\u001b[38;5;241;43m=\u001b[39;49m\u001b[43mparams\u001b[49m\u001b[43m,\u001b[49m\n\u001b[1;32m    126\u001b[0m \u001b[43m        \u001b[49m\u001b[43mheaders\u001b[49m\u001b[38;5;241;43m=\u001b[39;49m\u001b[43mheaders\u001b[49m\u001b[43m,\u001b[49m\n\u001b[1;32m    127\u001b[0m \u001b[43m        \u001b[49m\u001b[43mauth\u001b[49m\u001b[38;5;241;43m=\u001b[39;49m\u001b[43mauth\u001b[49m\u001b[43m,\u001b[49m\n\u001b[1;32m    128\u001b[0m \u001b[43m        \u001b[49m\u001b[43mfollow_redirects\u001b[49m\u001b[38;5;241;43m=\u001b[39;49m\u001b[43mfollow_redirects\u001b[49m\u001b[43m,\u001b[49m\n\u001b[1;32m    129\u001b[0m \u001b[43m    \u001b[49m\u001b[43m)\u001b[49m\n",
      "File \u001b[0;32m~/Project/kodo-core/.venv/lib/python3.12/site-packages/httpx/_client.py:837\u001b[0m, in \u001b[0;36mClient.request\u001b[0;34m(self, method, url, content, data, files, json, params, headers, cookies, auth, follow_redirects, timeout, extensions)\u001b[0m\n\u001b[1;32m    822\u001b[0m     warnings\u001b[38;5;241m.\u001b[39mwarn(message, \u001b[38;5;167;01mDeprecationWarning\u001b[39;00m)\n\u001b[1;32m    824\u001b[0m request \u001b[38;5;241m=\u001b[39m \u001b[38;5;28mself\u001b[39m\u001b[38;5;241m.\u001b[39mbuild_request(\n\u001b[1;32m    825\u001b[0m     method\u001b[38;5;241m=\u001b[39mmethod,\n\u001b[1;32m    826\u001b[0m     url\u001b[38;5;241m=\u001b[39murl,\n\u001b[0;32m   (...)\u001b[0m\n\u001b[1;32m    835\u001b[0m     extensions\u001b[38;5;241m=\u001b[39mextensions,\n\u001b[1;32m    836\u001b[0m )\n\u001b[0;32m--> 837\u001b[0m \u001b[38;5;28;01mreturn\u001b[39;00m \u001b[38;5;28;43mself\u001b[39;49m\u001b[38;5;241;43m.\u001b[39;49m\u001b[43msend\u001b[49m\u001b[43m(\u001b[49m\u001b[43mrequest\u001b[49m\u001b[43m,\u001b[49m\u001b[43m \u001b[49m\u001b[43mauth\u001b[49m\u001b[38;5;241;43m=\u001b[39;49m\u001b[43mauth\u001b[49m\u001b[43m,\u001b[49m\u001b[43m \u001b[49m\u001b[43mfollow_redirects\u001b[49m\u001b[38;5;241;43m=\u001b[39;49m\u001b[43mfollow_redirects\u001b[49m\u001b[43m)\u001b[49m\n",
      "File \u001b[0;32m~/Project/kodo-core/.venv/lib/python3.12/site-packages/httpx/_client.py:926\u001b[0m, in \u001b[0;36mClient.send\u001b[0;34m(self, request, stream, auth, follow_redirects)\u001b[0m\n\u001b[1;32m    922\u001b[0m \u001b[38;5;28mself\u001b[39m\u001b[38;5;241m.\u001b[39m_set_timeout(request)\n\u001b[1;32m    924\u001b[0m auth \u001b[38;5;241m=\u001b[39m \u001b[38;5;28mself\u001b[39m\u001b[38;5;241m.\u001b[39m_build_request_auth(request, auth)\n\u001b[0;32m--> 926\u001b[0m response \u001b[38;5;241m=\u001b[39m \u001b[38;5;28;43mself\u001b[39;49m\u001b[38;5;241;43m.\u001b[39;49m\u001b[43m_send_handling_auth\u001b[49m\u001b[43m(\u001b[49m\n\u001b[1;32m    927\u001b[0m \u001b[43m    \u001b[49m\u001b[43mrequest\u001b[49m\u001b[43m,\u001b[49m\n\u001b[1;32m    928\u001b[0m \u001b[43m    \u001b[49m\u001b[43mauth\u001b[49m\u001b[38;5;241;43m=\u001b[39;49m\u001b[43mauth\u001b[49m\u001b[43m,\u001b[49m\n\u001b[1;32m    929\u001b[0m \u001b[43m    \u001b[49m\u001b[43mfollow_redirects\u001b[49m\u001b[38;5;241;43m=\u001b[39;49m\u001b[43mfollow_redirects\u001b[49m\u001b[43m,\u001b[49m\n\u001b[1;32m    930\u001b[0m \u001b[43m    \u001b[49m\u001b[43mhistory\u001b[49m\u001b[38;5;241;43m=\u001b[39;49m\u001b[43m[\u001b[49m\u001b[43m]\u001b[49m\u001b[43m,\u001b[49m\n\u001b[1;32m    931\u001b[0m \u001b[43m\u001b[49m\u001b[43m)\u001b[49m\n\u001b[1;32m    932\u001b[0m \u001b[38;5;28;01mtry\u001b[39;00m:\n\u001b[1;32m    933\u001b[0m     \u001b[38;5;28;01mif\u001b[39;00m \u001b[38;5;129;01mnot\u001b[39;00m stream:\n",
      "File \u001b[0;32m~/Project/kodo-core/.venv/lib/python3.12/site-packages/httpx/_client.py:954\u001b[0m, in \u001b[0;36mClient._send_handling_auth\u001b[0;34m(self, request, auth, follow_redirects, history)\u001b[0m\n\u001b[1;32m    951\u001b[0m request \u001b[38;5;241m=\u001b[39m \u001b[38;5;28mnext\u001b[39m(auth_flow)\n\u001b[1;32m    953\u001b[0m \u001b[38;5;28;01mwhile\u001b[39;00m \u001b[38;5;28;01mTrue\u001b[39;00m:\n\u001b[0;32m--> 954\u001b[0m     response \u001b[38;5;241m=\u001b[39m \u001b[38;5;28;43mself\u001b[39;49m\u001b[38;5;241;43m.\u001b[39;49m\u001b[43m_send_handling_redirects\u001b[49m\u001b[43m(\u001b[49m\n\u001b[1;32m    955\u001b[0m \u001b[43m        \u001b[49m\u001b[43mrequest\u001b[49m\u001b[43m,\u001b[49m\n\u001b[1;32m    956\u001b[0m \u001b[43m        \u001b[49m\u001b[43mfollow_redirects\u001b[49m\u001b[38;5;241;43m=\u001b[39;49m\u001b[43mfollow_redirects\u001b[49m\u001b[43m,\u001b[49m\n\u001b[1;32m    957\u001b[0m \u001b[43m        \u001b[49m\u001b[43mhistory\u001b[49m\u001b[38;5;241;43m=\u001b[39;49m\u001b[43mhistory\u001b[49m\u001b[43m,\u001b[49m\n\u001b[1;32m    958\u001b[0m \u001b[43m    \u001b[49m\u001b[43m)\u001b[49m\n\u001b[1;32m    959\u001b[0m     \u001b[38;5;28;01mtry\u001b[39;00m:\n\u001b[1;32m    960\u001b[0m         \u001b[38;5;28;01mtry\u001b[39;00m:\n",
      "File \u001b[0;32m~/Project/kodo-core/.venv/lib/python3.12/site-packages/httpx/_client.py:991\u001b[0m, in \u001b[0;36mClient._send_handling_redirects\u001b[0;34m(self, request, follow_redirects, history)\u001b[0m\n\u001b[1;32m    988\u001b[0m \u001b[38;5;28;01mfor\u001b[39;00m hook \u001b[38;5;129;01min\u001b[39;00m \u001b[38;5;28mself\u001b[39m\u001b[38;5;241m.\u001b[39m_event_hooks[\u001b[38;5;124m\"\u001b[39m\u001b[38;5;124mrequest\u001b[39m\u001b[38;5;124m\"\u001b[39m]:\n\u001b[1;32m    989\u001b[0m     hook(request)\n\u001b[0;32m--> 991\u001b[0m response \u001b[38;5;241m=\u001b[39m \u001b[38;5;28;43mself\u001b[39;49m\u001b[38;5;241;43m.\u001b[39;49m\u001b[43m_send_single_request\u001b[49m\u001b[43m(\u001b[49m\u001b[43mrequest\u001b[49m\u001b[43m)\u001b[49m\n\u001b[1;32m    992\u001b[0m \u001b[38;5;28;01mtry\u001b[39;00m:\n\u001b[1;32m    993\u001b[0m     \u001b[38;5;28;01mfor\u001b[39;00m hook \u001b[38;5;129;01min\u001b[39;00m \u001b[38;5;28mself\u001b[39m\u001b[38;5;241m.\u001b[39m_event_hooks[\u001b[38;5;124m\"\u001b[39m\u001b[38;5;124mresponse\u001b[39m\u001b[38;5;124m\"\u001b[39m]:\n",
      "File \u001b[0;32m~/Project/kodo-core/.venv/lib/python3.12/site-packages/httpx/_client.py:1027\u001b[0m, in \u001b[0;36mClient._send_single_request\u001b[0;34m(self, request)\u001b[0m\n\u001b[1;32m   1022\u001b[0m     \u001b[38;5;28;01mraise\u001b[39;00m \u001b[38;5;167;01mRuntimeError\u001b[39;00m(\n\u001b[1;32m   1023\u001b[0m         \u001b[38;5;124m\"\u001b[39m\u001b[38;5;124mAttempted to send an async request with a sync Client instance.\u001b[39m\u001b[38;5;124m\"\u001b[39m\n\u001b[1;32m   1024\u001b[0m     )\n\u001b[1;32m   1026\u001b[0m \u001b[38;5;28;01mwith\u001b[39;00m request_context(request\u001b[38;5;241m=\u001b[39mrequest):\n\u001b[0;32m-> 1027\u001b[0m     response \u001b[38;5;241m=\u001b[39m \u001b[43mtransport\u001b[49m\u001b[38;5;241;43m.\u001b[39;49m\u001b[43mhandle_request\u001b[49m\u001b[43m(\u001b[49m\u001b[43mrequest\u001b[49m\u001b[43m)\u001b[49m\n\u001b[1;32m   1029\u001b[0m \u001b[38;5;28;01massert\u001b[39;00m \u001b[38;5;28misinstance\u001b[39m(response\u001b[38;5;241m.\u001b[39mstream, SyncByteStream)\n\u001b[1;32m   1031\u001b[0m response\u001b[38;5;241m.\u001b[39mrequest \u001b[38;5;241m=\u001b[39m request\n",
      "File \u001b[0;32m~/Project/kodo-core/.venv/lib/python3.12/site-packages/httpx/_transports/default.py:235\u001b[0m, in \u001b[0;36mHTTPTransport.handle_request\u001b[0;34m(self, request)\u001b[0m\n\u001b[1;32m    221\u001b[0m \u001b[38;5;28;01massert\u001b[39;00m \u001b[38;5;28misinstance\u001b[39m(request\u001b[38;5;241m.\u001b[39mstream, SyncByteStream)\n\u001b[1;32m    223\u001b[0m req \u001b[38;5;241m=\u001b[39m httpcore\u001b[38;5;241m.\u001b[39mRequest(\n\u001b[1;32m    224\u001b[0m     method\u001b[38;5;241m=\u001b[39mrequest\u001b[38;5;241m.\u001b[39mmethod,\n\u001b[1;32m    225\u001b[0m     url\u001b[38;5;241m=\u001b[39mhttpcore\u001b[38;5;241m.\u001b[39mURL(\n\u001b[0;32m   (...)\u001b[0m\n\u001b[1;32m    233\u001b[0m     extensions\u001b[38;5;241m=\u001b[39mrequest\u001b[38;5;241m.\u001b[39mextensions,\n\u001b[1;32m    234\u001b[0m )\n\u001b[0;32m--> 235\u001b[0m \u001b[38;5;28;01mwith\u001b[39;00m map_httpcore_exceptions():\n\u001b[1;32m    236\u001b[0m     resp \u001b[38;5;241m=\u001b[39m \u001b[38;5;28mself\u001b[39m\u001b[38;5;241m.\u001b[39m_pool\u001b[38;5;241m.\u001b[39mhandle_request(req)\n\u001b[1;32m    238\u001b[0m \u001b[38;5;28;01massert\u001b[39;00m \u001b[38;5;28misinstance\u001b[39m(resp\u001b[38;5;241m.\u001b[39mstream, typing\u001b[38;5;241m.\u001b[39mIterable)\n",
      "File \u001b[0;32m/Library/Frameworks/Python.framework/Versions/3.12/lib/python3.12/contextlib.py:158\u001b[0m, in \u001b[0;36m_GeneratorContextManager.__exit__\u001b[0;34m(self, typ, value, traceback)\u001b[0m\n\u001b[1;32m    156\u001b[0m     value \u001b[38;5;241m=\u001b[39m typ()\n\u001b[1;32m    157\u001b[0m \u001b[38;5;28;01mtry\u001b[39;00m:\n\u001b[0;32m--> 158\u001b[0m     \u001b[38;5;28;43mself\u001b[39;49m\u001b[38;5;241;43m.\u001b[39;49m\u001b[43mgen\u001b[49m\u001b[38;5;241;43m.\u001b[39;49m\u001b[43mthrow\u001b[49m\u001b[43m(\u001b[49m\u001b[43mvalue\u001b[49m\u001b[43m)\u001b[49m\n\u001b[1;32m    159\u001b[0m \u001b[38;5;28;01mexcept\u001b[39;00m \u001b[38;5;167;01mStopIteration\u001b[39;00m \u001b[38;5;28;01mas\u001b[39;00m exc:\n\u001b[1;32m    160\u001b[0m     \u001b[38;5;66;03m# Suppress StopIteration *unless* it's the same exception that\u001b[39;00m\n\u001b[1;32m    161\u001b[0m     \u001b[38;5;66;03m# was passed to throw().  This prevents a StopIteration\u001b[39;00m\n\u001b[1;32m    162\u001b[0m     \u001b[38;5;66;03m# raised inside the \"with\" statement from being suppressed.\u001b[39;00m\n\u001b[1;32m    163\u001b[0m     \u001b[38;5;28;01mreturn\u001b[39;00m exc \u001b[38;5;129;01mis\u001b[39;00m \u001b[38;5;129;01mnot\u001b[39;00m value\n",
      "File \u001b[0;32m~/Project/kodo-core/.venv/lib/python3.12/site-packages/httpx/_transports/default.py:89\u001b[0m, in \u001b[0;36mmap_httpcore_exceptions\u001b[0;34m()\u001b[0m\n\u001b[1;32m     86\u001b[0m     \u001b[38;5;28;01mraise\u001b[39;00m\n\u001b[1;32m     88\u001b[0m message \u001b[38;5;241m=\u001b[39m \u001b[38;5;28mstr\u001b[39m(exc)\n\u001b[0;32m---> 89\u001b[0m \u001b[38;5;28;01mraise\u001b[39;00m mapped_exc(message) \u001b[38;5;28;01mfrom\u001b[39;00m \u001b[38;5;21;01mexc\u001b[39;00m\n",
      "\u001b[0;31mReadTimeout\u001b[0m: timed out"
     ]
    }
   ],
   "source": [
    "data = {\n",
    "    \"url\": \"http://localhost:3381\",\n",
    "    \"feed\": True,\n",
    "    \"nodes\": [\n",
    "        {\n",
    "            \"url\": \"http://fantasy.com\",\n",
    "            \"flows\": []\n",
    "        }\n",
    "    ]\n",
    "}\n",
    "resp = httpx.post(f\"{registry1ip}/connect\", json=data)\n",
    "\n",
    "resp.content"
   ]
  },
  {
   "cell_type": "code",
   "execution_count": null,
   "id": "4f0efc21-f44f-491a-9d91-4b813efc24a4",
   "metadata": {},
   "outputs": [],
   "source": []
  },
  {
   "cell_type": "code",
   "execution_count": null,
   "id": "c582d619-23a6-4afe-acea-4f601cda8d8c",
   "metadata": {},
   "outputs": [],
   "source": [
    "httpx.get(f\"{registry1ip}/map\").json()"
   ]
  },
  {
   "cell_type": "code",
   "execution_count": null,
   "id": "d78001a8-0190-4451-98a7-4e3bd65b394f",
   "metadata": {},
   "outputs": [],
   "source": []
  },
  {
   "cell_type": "code",
   "execution_count": null,
   "id": "513d9c0f-f5b7-423c-ba51-4b50fbd3770a",
   "metadata": {},
   "outputs": [],
   "source": []
  },
  {
   "cell_type": "code",
   "execution_count": null,
   "id": "29cc7c98-4878-40a2-b726-79be559f58eb",
   "metadata": {},
   "outputs": [],
   "source": []
  },
  {
   "cell_type": "code",
   "execution_count": null,
   "id": "93c145be-982d-44ee-b0ee-bf9723c5a667",
   "metadata": {},
   "outputs": [],
   "source": []
  },
  {
   "cell_type": "code",
   "execution_count": null,
   "id": "7f0e804c-c1ce-45c4-9bcc-ceccb9e28b0f",
   "metadata": {},
   "outputs": [],
   "source": []
  },
  {
   "cell_type": "code",
   "execution_count": 9,
   "id": "32136dd3-f6f0-4335-a3ce-643ce3a57c5e",
   "metadata": {},
   "outputs": [
    {
     "name": "stderr",
     "output_type": "stream",
     "text": [
      "INFO - 2024-12-26 18:07:41,983 - uvicorn.error - server - Shutting down\n",
      "INFO - 2024-12-26 18:07:42,085 - uvicorn.error - on - Waiting for application shutdown.\n",
      "INFO - 2024-12-26 18:07:42,086 - kodo - routes - http://localhost:3366 shutdown now\n"
     ]
    }
   ],
   "source": [
    "registry1.terminate()"
   ]
  },
  {
   "cell_type": "code",
   "execution_count": null,
   "id": "c87f9632-e9a2-407d-a036-0cd1f1bb868f",
   "metadata": {},
   "outputs": [],
   "source": []
  },
  {
   "cell_type": "code",
   "execution_count": null,
   "id": "5f69c051-6efd-4206-9eb7-9a35319577ba",
   "metadata": {},
   "outputs": [],
   "source": []
  },
  {
   "cell_type": "markdown",
   "id": "74faad6a-c7a8-44b1-9180-3935cd2c5c64",
   "metadata": {},
   "source": [
    "## HANDSHAKE"
   ]
  },
  {
   "cell_type": "markdown",
   "id": "26dd16f2-05e5-454e-aceb-9efbc675ad6c",
   "metadata": {},
   "source": [
    "The registry is up-and-running."
   ]
  },
  {
   "cell_type": "code",
   "execution_count": null,
   "id": "402ba115-5436-4e29-ba69-6fd94af3125c",
   "metadata": {},
   "outputs": [],
   "source": [
    "resp = httpx.get(registry1ip)\n",
    "resp.json()"
   ]
  },
  {
   "cell_type": "markdown",
   "id": "02d307e7-9bc8-4d2e-b6cf-9dd01fa70813",
   "metadata": {},
   "source": [
    "This registry `_cache` is empty. "
   ]
  },
  {
   "cell_type": "code",
   "execution_count": null,
   "id": "2efbe2c1-83c4-46f3-a8a6-4300d087cd56",
   "metadata": {},
   "outputs": [],
   "source": [
    "resp = httpx.get(f\"{registry1ip}/_cache\")\n",
    "resp.json()"
   ]
  },
  {
   "cell_type": "markdown",
   "id": "47b23553-582a-43d4-9e37-9b65790f4c61",
   "metadata": {},
   "source": [
    "The registry `count` is empty."
   ]
  },
  {
   "cell_type": "code",
   "execution_count": null,
   "id": "15fb7221-d807-4afc-9389-605516e71764",
   "metadata": {},
   "outputs": [],
   "source": [
    "resp = httpx.get(f\"{registry1ip}/counts\")\n",
    "resp.json()"
   ]
  },
  {
   "cell_type": "markdown",
   "id": "06b5e3e9-fa76-46ed-bce6-787e85a6999f",
   "metadata": {},
   "source": [
    "# node1 registers with registry1\n",
    "\n",
    "Start `node1` with a flow `mytest`. The loader must either be a factor string (e.g. `module.path:func`) or a _Callable_.\n",
    "In this example we use a callable `my_loader` in `myflow`."
   ]
  },
  {
   "cell_type": "markdown",
   "id": "97859605-fbf5-4ca6-87d7-f9abe8be1fdc",
   "metadata": {},
   "source": [
    "```mermaid\n",
    "stateDiagram\n",
    "    direction LR\n",
    "    /mytest --> node1\n",
    "    node1 --> registry1\n",
    "```"
   ]
  },
  {
   "cell_type": "code",
   "execution_count": null,
   "id": "0c91485c-d8b9-451e-996f-0cf338fc904e",
   "metadata": {},
   "outputs": [],
   "source": [
    "import importlib\n",
    "import flows\n",
    "importlib.reload(flows)"
   ]
  },
  {
   "cell_type": "markdown",
   "id": "337fcfdf-9604-4b87-98e2-1fdd175b0351",
   "metadata": {},
   "source": [
    "```json\n",
    "{\n",
    "  \"url\": \"string\",\n",
    "  \"organization\": {},\n",
    "  \"flows\": {\n",
    "    \"uid: string\": {\n",
    "      \"url\": \"string\",\n",
    "      \"name\": \"string\",\n",
    "      \"description\": \"string\",\n",
    "      \"author\": {},\n",
    "      \"tags\": []\n",
    "    },\n",
    "    \"uid: string\": {\n",
    "      \"url\": \"string\",\n",
    "      \"name\": \"string\",\n",
    "      \"description\": {},\n",
    "      \"author\": {},\n",
    "      \"tags\": []\n",
    "    }\n",
    "  }\n",
    "}\n",
    "```\n",
    "\n",
    "* client: node1\n",
    "* method: `POST /register`\n",
    "* server: `http://registry1`\n",
    "* required parameters\n",
    "  * url (str)\n",
    "  * flows (dict)\n",
    "  * \n",
    "```json\n",
    "{\n",
    "    \"url\": str,\n",
    "    \"organization\": str,\n",
    "    \"flows\": {\n",
    "        \"{url: str}\": {\n",
    "            \"url\": str,\n",
    "            \"name\": str,\n",
    "            \"description\": str,\n",
    "            \"tags\": str,\n",
    "            \"author\": str\n",
    "        }\n",
    "    },\n",
    "    \"created\": null,\n",
    "    \"modified\": null,\n",
    "    \"heartbeat\": null,\n",
    "    \"status\": \"unknown\"\n",
    "}\n",
    "```\n",
    "\n",
    "registry1 in response delivers:\n",
    "\n",
    "```json\n",
    "{\n",
    "    \"url\": \"http://localhost:3366\",\n",
    "    \"organization\": \"registry1\",\n",
    "    \"node\": false,\n",
    "    \"registry\": true,\n",
    "    \"provider\": false,\n",
    "    \"connection\": {},\n",
    "    \"started_at\": \"2024-12-25T18:03:02.245504\",\n",
    "    \"idle\": true,\n",
    "    \"now\": \"2024-12-25T18:03:12.990684\",\n",
    "    \"message\": [\n",
    "        \"registered node http://localhost:3367 (first visit)\"\n",
    "    ]\n",
    "}\n",
    "```"
   ]
  },
  {
   "cell_type": "code",
   "execution_count": null,
   "id": "6dd8679d-ed12-4a02-92a7-0eb1a5d02b02",
   "metadata": {},
   "outputs": [],
   "source": [
    "node1kw = {\n",
    "    \"url\": node1ip, \n",
    "    \"connect\": [registry1ip],\n",
    "    \"organization\": \"node1\",\n",
    "    \"node\": True, \n",
    "    \"registry\": False,\n",
    "    \"provider\": False,\n",
    "    \"reload\": False,\n",
    "    \"loader\": flows.loader1\n",
    "}\n",
    "node1 = Process(target=run_service, kwargs=node1kw)\n",
    "node1.start()"
   ]
  },
  {
   "cell_type": "markdown",
   "id": "b034ba3f-a005-463a-8f66-198bc288f0cb",
   "metadata": {},
   "source": [
    "The node is up-and-running and connected to http://localhost:3366 (registry1)"
   ]
  },
  {
   "cell_type": "code",
   "execution_count": null,
   "id": "2342fd13-91c7-41be-9884-28c0b11e1124",
   "metadata": {},
   "outputs": [],
   "source": [
    "resp = httpx.get(node1ip)\n",
    "resp.json()"
   ]
  },
  {
   "cell_type": "markdown",
   "id": "45e0dd2d-26ff-43df-86ba-02d56bfb1f46",
   "metadata": {},
   "source": [
    "There is no such thing as a node `_cache`."
   ]
  },
  {
   "cell_type": "code",
   "execution_count": null,
   "id": "b3da0178-4e54-4e2a-a394-214354564a89",
   "metadata": {},
   "outputs": [],
   "source": [
    "resp = httpx.get(f\"{node1ip}/_cache\")\n",
    "assert resp.status_code == 404"
   ]
  },
  {
   "cell_type": "markdown",
   "id": "69333478-1d53-4048-b4ae-19a6c9810e01",
   "metadata": {},
   "source": [
    "But a flow has been created!"
   ]
  },
  {
   "cell_type": "code",
   "execution_count": null,
   "id": "1bd16646-eda8-4329-bb7e-31305bb33ed8",
   "metadata": {},
   "outputs": [],
   "source": [
    "resp = httpx.get(f\"{node1ip}/flows\")\n",
    "resp.json()"
   ]
  },
  {
   "cell_type": "markdown",
   "id": "941682d4-d216-48aa-8cf0-847897c3ab37",
   "metadata": {},
   "source": [
    "Please note that the node itself does not report on any timestamps. This feature is reserved to registries and providers."
   ]
  },
  {
   "cell_type": "markdown",
   "id": "111ea4fa-93cb-4eef-b7ad-7f1044215975",
   "metadata": {},
   "source": [
    "The flow is reporting it's `counts`."
   ]
  },
  {
   "cell_type": "code",
   "execution_count": null,
   "id": "11d2687c-ec3d-4f75-ba0c-6cfef4db2065",
   "metadata": {},
   "outputs": [],
   "source": [
    "resp = httpx.get(f\"{node1ip}/counts\")\n",
    "resp.json()"
   ]
  },
  {
   "cell_type": "markdown",
   "id": "9dc86944-b67e-4605-9dac-9d3a91f87f8e",
   "metadata": {},
   "source": [
    "# Visit the registry"
   ]
  },
  {
   "cell_type": "markdown",
   "id": "e4d82985-1082-4828-a452-a34732136553",
   "metadata": {},
   "source": [
    "The registry reports timestamps. This is in contrast to the node."
   ]
  },
  {
   "cell_type": "code",
   "execution_count": null,
   "id": "18d66ec6-191e-4f9a-863c-b6e9d8bef420",
   "metadata": {},
   "outputs": [],
   "source": [
    "resp = httpx.get(f\"{registry1ip}/flows\")\n",
    "resp.json()"
   ]
  },
  {
   "cell_type": "markdown",
   "id": "fc9f4ded-160e-44e3-b954-992ce8cbeecc",
   "metadata": {},
   "source": [
    "## node1 restart"
   ]
  },
  {
   "cell_type": "markdown",
   "id": "e72407fa-9d7b-41c4-b7da-d759a166de3c",
   "metadata": {},
   "source": [
    "On restart of the node the registry updates the _modified_ timestamp."
   ]
  },
  {
   "cell_type": "code",
   "execution_count": null,
   "id": "f9136631-c6b9-4212-9d83-20c60ae44f77",
   "metadata": {},
   "outputs": [],
   "source": [
    "node1.terminate()"
   ]
  },
  {
   "cell_type": "markdown",
   "id": "fb846e17-91e5-42f6-9064-f713576b6d8c",
   "metadata": {},
   "source": [
    "again on `/register` the node sends: \n",
    "```json\n",
    "{\n",
    "    \"url\": \"http://localhost:3367\",\n",
    "    \"organization\": \"node1\",\n",
    "    \"flows\": {\n",
    "        \"/mytest\": {\n",
    "            \"url\": \"/mytest\",\n",
    "            \"name\": \"mytest\",\n",
    "            \"description\": null,\n",
    "            \"tags\": null,\n",
    "            \"author\": null\n",
    "        }\n",
    "    },\n",
    "    \"created\": null,\n",
    "    \"modified\": null,\n",
    "    \"heartbeat\": null,\n",
    "    \"status\": \"unknown\"\n",
    "}\n",
    "```\n",
    "\n",
    "and the registry returns: \n",
    "```json\n",
    "{\n",
    "    \"url\": \"http://localhost:3366\",\n",
    "    \"organization\": \"registry1\",\n",
    "    \"node\": false,\n",
    "    \"registry\": true,\n",
    "    \"provider\": false,\n",
    "    \"connection\": {},\n",
    "    \"started_at\": \"2024-12-25T18:03:02.245504\",\n",
    "    \"idle\": true,\n",
    "    \"now\": \"2024-12-25T18:05:13.972890\",\n",
    "    \"message\": [\n",
    "        \"registered node http://localhost:3367 (seen previously 2024-12-25 18:03:12.989989)\"\n",
    "    ]\n",
    "}```"
   ]
  },
  {
   "cell_type": "code",
   "execution_count": null,
   "id": "7689cd48-a93b-4988-b4c8-558aae83e765",
   "metadata": {},
   "outputs": [],
   "source": [
    "node1 = Process(target=run_service, kwargs=node1kw)\n",
    "node1.start()"
   ]
  },
  {
   "cell_type": "code",
   "execution_count": null,
   "id": "58202658-1162-408e-8e7b-23049c51a46b",
   "metadata": {},
   "outputs": [],
   "source": [
    "resp = httpx.get(f\"{registry1ip}/flows\")\n",
    "resp.json()"
   ]
  },
  {
   "cell_type": "markdown",
   "id": "cb72fd46-66a9-4075-9c76-50d60ca06d21",
   "metadata": {},
   "source": [
    "On registry restart the flow collection is retrieved from cache. Both the _created_ and _modified_ timestamp remain unchanged."
   ]
  },
  {
   "cell_type": "code",
   "execution_count": null,
   "id": "797c7c50-33c6-45b0-bfff-6c691cca6217",
   "metadata": {},
   "outputs": [],
   "source": [
    "registry1.terminate()"
   ]
  },
  {
   "cell_type": "code",
   "execution_count": null,
   "id": "9de2cb06-1f9e-465a-b72a-fb6fd95728fe",
   "metadata": {},
   "outputs": [],
   "source": [
    "# enable cache!\n",
    "registry1kw[\"reset\"] = False\n",
    "registry1 = Process(target=run_service, kwargs=registry1kw)\n",
    "registry1.start()"
   ]
  },
  {
   "cell_type": "code",
   "execution_count": null,
   "id": "01859a38-fb28-4cd6-bdb9-9295d4e67a0f",
   "metadata": {},
   "outputs": [],
   "source": [
    "resp = httpx.get(f\"{registry1ip}/flows\")\n",
    "resp.json()"
   ]
  },
  {
   "cell_type": "markdown",
   "id": "b48a0531-ab95-47e5-995a-9377892666ae",
   "metadata": {},
   "source": [
    "# REGISTRY2 STARTUP"
   ]
  },
  {
   "cell_type": "markdown",
   "id": "424c0192-9dab-414e-9145-f23f37811fc3",
   "metadata": {},
   "source": [
    "Create `registry2` and connect with `registry1`."
   ]
  },
  {
   "cell_type": "markdown",
   "id": "d2139356-2413-4e46-9c9c-ddff015a87fb",
   "metadata": {},
   "source": [
    "```mermaid\n",
    "stateDiagram\n",
    "    direction LR\n",
    "    /mytest --> node1\n",
    "    node1 --> registry1\n",
    "    registry2 --> registry1\n",
    "```"
   ]
  },
  {
   "cell_type": "markdown",
   "id": "5e847972-8fb0-4eea-9adc-68c2a5492fab",
   "metadata": {},
   "source": [
    "`registry2` at startup connects to `registry1` and POST /connect: \n",
    "```json\n",
    "{\n",
    "    \"url\": \"http://localhost:3368\",\n",
    "    \"organization\": \"registry2\",\n",
    "    \"feed\": true,\n",
    "    \"nodes\": {}\n",
    "}\n",
    "```\n",
    "\n",
    "`registry1` returns\n",
    "```json\n",
    "{\n",
    "    \"providers\": {\n",
    "        \"url\": \"http://localhost:3366\",\n",
    "        \"organization\": \"registry1\",\n",
    "        \"feed\": true,\n",
    "        \"nodes\": {\n",
    "            \"http://localhost:3367\": {\n",
    "                \"url\": \"http://localhost:3367\",\n",
    "                \"organization\": \"node1\",\n",
    "                \"flows\": {\n",
    "                    \"/mytest\": {\n",
    "                        \"url\": \"/mytest\",\n",
    "                        \"name\": \"mytest\",\n",
    "                        \"description\": null,\n",
    "                        \"tags\": null,\n",
    "                        \"author\": null\n",
    "                    }\n",
    "                },\n",
    "                \"created\": \"2024-12-25T18:03:12.989989\",\n",
    "                \"modified\": \"2024-12-25T18:05:13.972356\",\n",
    "                \"heartbeat\": \"2024-12-25T18:05:13.972356\",\n",
    "                \"status\": \"unknown\"\n",
    "            }\n",
    "        }\n",
    "    },\n",
    "    \"message\": [\n",
    "        \"registry http://localhost:3368 connected (first visit)\"\n",
    "    ]\n",
    "}\n",
    "```"
   ]
  },
  {
   "cell_type": "code",
   "execution_count": null,
   "id": "b268a77d-9fc2-453d-a9dd-85e8217cd872",
   "metadata": {},
   "outputs": [],
   "source": [
    "registry2kw = {\n",
    "    \"url\": registry2ip, \n",
    "    \"connect\": [registry1ip],\n",
    "    \"organization\": \"registry2\",\n",
    "    \"node\": False, \n",
    "    \"registry\": True,\n",
    "    # initialise the cache, which we will use later\n",
    "    \"cache\": \"./registry2.json\",\n",
    "    # start from scratch\n",
    "    \"reset\": True\n",
    "}\n",
    "registry2 = Process(target=run_service, kwargs=registry2kw)\n",
    "registry2.start()"
   ]
  },
  {
   "cell_type": "markdown",
   "id": "0844ee89-621c-4c8d-b51f-4a89cd61c1fb",
   "metadata": {},
   "source": [
    "# HANDSHAKE"
   ]
  },
  {
   "cell_type": "markdown",
   "id": "4e620e26-9be7-404b-8ed7-48700bddc5bc",
   "metadata": {},
   "source": [
    "The registry is up-and-running and connected to `registry1`."
   ]
  },
  {
   "cell_type": "code",
   "execution_count": null,
   "id": "9224de35-b284-4941-9cfe-a58ff3c669d6",
   "metadata": {},
   "outputs": [],
   "source": [
    "resp = httpx.get(registry2ip)\n",
    "resp.json()"
   ]
  },
  {
   "cell_type": "markdown",
   "id": "1b0042de-1a29-4e5a-94fb-05dd4b63aacf",
   "metadata": {},
   "source": [
    "Both registries `registry1` and `registry2` are in-sync."
   ]
  },
  {
   "cell_type": "code",
   "execution_count": null,
   "id": "df248da3-dc15-4b34-bbdc-03a1bf9ae88c",
   "metadata": {},
   "outputs": [],
   "source": [
    "resp1 = httpx.get(f\"{registry1ip}/flows\")\n",
    "resp2 = httpx.get(f\"{registry2ip}/flows\")"
   ]
  },
  {
   "cell_type": "code",
   "execution_count": null,
   "id": "c603c2ef-2211-4a2d-b009-2322b2904e04",
   "metadata": {},
   "outputs": [],
   "source": [
    "item1 = resp1.json()[\"items\"][0]\n",
    "item2 = resp2.json()[\"items\"][0]\n",
    "\n",
    "# remove the registry masquerade\n",
    "item1.pop(\"registry\")\n",
    "item2.pop(\"registry\")\n",
    "\n",
    "assert item1 == item2"
   ]
  },
  {
   "cell_type": "markdown",
   "id": "923749dc-ac73-4219-ab50-015b473a3f02",
   "metadata": {},
   "source": [
    "# Node2 connects to registry2\n",
    "## Node2 joins the mesh"
   ]
  },
  {
   "cell_type": "markdown",
   "id": "93b81836-083d-457c-8980-7f8b58c39806",
   "metadata": {},
   "source": [
    "```mermaid\n",
    "stateDiagram\n",
    "    direction LR\n",
    "    /mytest --> node1\n",
    "    node1 --> registry1\n",
    "    registry2 --> registry1\n",
    "    node2 --> registry2\n",
    "    /mytest2 --> node2\n",
    "```"
   ]
  },
  {
   "cell_type": "markdown",
   "id": "c806cc23-1696-4d2a-b229-8b92a8974599",
   "metadata": {},
   "source": [
    "node2 `POST http://registry2/register` with\n",
    "\n",
    "```json\n",
    "{\n",
    "    \"url\": \"http://localhost:3369\",\n",
    "    \"organization\": \"node2\",\n",
    "    \"flows\": {\n",
    "        \"/mytest2\": {\n",
    "            \"url\": \"/mytest2\",\n",
    "            \"name\": \"mytest2\",\n",
    "            \"description\": null,\n",
    "            \"tags\": null,\n",
    "            \"author\": null\n",
    "        }\n",
    "    },\n",
    "    \"created\": null,\n",
    "    \"modified\": null,\n",
    "    \"heartbeat\": null,\n",
    "    \"status\": \"unknown\"\n",
    "}\n",
    "```\n",
    "\n",
    "registry2 responds with\n",
    "\n",
    "```json\n",
    "{\n",
    "    \"url\": \"http://localhost:3368\",\n",
    "    \"organization\": \"registry2\",\n",
    "    \"node\": false,\n",
    "    \"registry\": true,\n",
    "    \"provider\": false,\n",
    "    \"connection\": {\n",
    "        \"http://localhost:3366\": \"2024-12-25T18:07:39.033999\"\n",
    "    },\n",
    "    \"started_at\": \"2024-12-25T18:07:39.013209\",\n",
    "    \"idle\": false,\n",
    "    \"now\": \"2024-12-25T18:35:36.659965\",\n",
    "    \"message\": [\n",
    "        \"registered node http://localhost:3369 (first visit)\",\n",
    "        \"feed forward node to http://localhost:3366\"\n",
    "    ]\n",
    "}\n",
    "```\n",
    "\n",
    "registry2 feed forwards the node update to registry1 with `POST http://registry1/update/node`\n",
    "\n",
    "```json\n",
    "{\n",
    "    \"url\": \"http://localhost:3368\",\n",
    "    \"organization\": \"registry2\",\n",
    "    \"feed\": false,\n",
    "    \"nodes\": {\n",
    "        \"http://localhost:3369\": {\n",
    "            \"url\": \"http://localhost:3369\",\n",
    "            \"organization\": \"node2\",\n",
    "            \"flows\": {\n",
    "                \"/mytest2\": {\n",
    "                    \"url\": \"/mytest2\",\n",
    "                    \"name\": \"mytest2\",\n",
    "                    \"description\": null,\n",
    "                    \"tags\": null,\n",
    "                    \"author\": null\n",
    "                }\n",
    "            },\n",
    "            \"created\": \"2024-12-25T18:35:36.651614\",\n",
    "            \"modified\": \"2024-12-25T18:35:36.651614\",\n",
    "            \"heartbeat\": \"2024-12-25T18:35:36.651614\",\n",
    "            \"status\": \"unknown\"\n",
    "        }\n",
    "    }\n",
    "}\n",
    "```\n",
    "\n",
    "response of `registry1` is\n",
    "\n",
    "```json\n",
    "{\n",
    "    \"url\": \"http://localhost:3366\",\n",
    "    \"organization\": \"registry1\",\n",
    "    \"node\": false,\n",
    "    \"registry\": true,\n",
    "    \"provider\": false,\n",
    "    \"connection\": {},\n",
    "    \"started_at\": \"2024-12-25T18:07:18.806234\",\n",
    "    \"idle\": true,\n",
    "    \"now\": \"2024-12-25T18:35:36.693275\",\n",
    "    \"message\": [\n",
    "        \"created node http://localhost:3368\"\n",
    "    ]\n",
    "}\n",
    "```"
   ]
  },
  {
   "cell_type": "code",
   "execution_count": null,
   "id": "79588071-9fd2-4b8a-84f1-8e45988e113a",
   "metadata": {},
   "outputs": [],
   "source": [
    "importlib.reload(flows)"
   ]
  },
  {
   "cell_type": "code",
   "execution_count": null,
   "id": "5e2ebaf4-806a-4696-907e-a550317c8216",
   "metadata": {},
   "outputs": [],
   "source": [
    "node2kw = {\n",
    "    \"url\": node2ip, \n",
    "    \"connect\": [registry2ip],\n",
    "    \"organization\": \"node2\",\n",
    "    \"node\": True, \n",
    "    \"registry\": False,\n",
    "    \"provider\": False,\n",
    "    \"reload\": False,\n",
    "    \"loader\": flows.loader2\n",
    "}\n",
    "node2 = Process(target=run_service, kwargs=node2kw)\n",
    "node2.start()"
   ]
  },
  {
   "cell_type": "markdown",
   "id": "ed7926d9-fe1c-4232-9cb2-4e53286a94ac",
   "metadata": {},
   "source": [
    "The node is up-and-running and connected to http://localhost:3368 (registry2)"
   ]
  },
  {
   "cell_type": "code",
   "execution_count": null,
   "id": "524de3de-cdad-481b-b1bc-b138b6ba13d7",
   "metadata": {},
   "outputs": [],
   "source": [
    "resp = httpx.get(node2ip)\n",
    "resp.json()"
   ]
  },
  {
   "cell_type": "markdown",
   "id": "c24ebcfb-be2d-4bcb-83a1-21390e3f0871",
   "metadata": {},
   "source": [
    "The flow has been created!"
   ]
  },
  {
   "cell_type": "code",
   "execution_count": null,
   "id": "d560739b-e81b-4a1d-b3e4-0605bd4e3ae2",
   "metadata": {},
   "outputs": [],
   "source": [
    "resp = httpx.get(f\"{node2ip}/flows\")\n",
    "resp.json()"
   ]
  },
  {
   "cell_type": "markdown",
   "id": "72c074c4-52dc-4353-8c46-d723272db667",
   "metadata": {},
   "source": [
    "Again the node does not report on any timestamps."
   ]
  },
  {
   "cell_type": "markdown",
   "id": "d2c7a934-f8ec-4129-a6c1-b539953b967f",
   "metadata": {},
   "source": [
    "# Visit all registries"
   ]
  },
  {
   "cell_type": "code",
   "execution_count": null,
   "id": "0a64b107-e3ae-4583-86a9-cf0d93dc4d8d",
   "metadata": {},
   "outputs": [],
   "source": [
    "resp1 = httpx.get(f\"{registry1ip}/flows\")\n",
    "resp2 = httpx.get(f\"{registry2ip}/flows\")"
   ]
  },
  {
   "cell_type": "code",
   "execution_count": null,
   "id": "bcb86b09-48c6-4ddc-a590-357da49f7b2a",
   "metadata": {},
   "outputs": [],
   "source": [
    "resp1.json()"
   ]
  },
  {
   "cell_type": "code",
   "execution_count": null,
   "id": "e114154e-8e75-481f-8d14-04b299926b62",
   "metadata": {},
   "outputs": [],
   "source": [
    "resp2.json()"
   ]
  },
  {
   "cell_type": "code",
   "execution_count": null,
   "id": "0af02f18-8b01-4295-9931-358e5d06fb97",
   "metadata": {},
   "outputs": [],
   "source": [
    "from IPython.display import display, HTML"
   ]
  },
  {
   "cell_type": "code",
   "execution_count": null,
   "id": "61ad4b7e-e4be-4a88-8e5d-e93539ba0573",
   "metadata": {},
   "outputs": [],
   "source": [
    "resp1 = httpx.get(f\"{registry1ip}/flows?format=html\")\n",
    "display(HTML(resp1.content.decode(\"utf-8\")))"
   ]
  },
  {
   "cell_type": "code",
   "execution_count": null,
   "id": "1a2cb461-0cd4-4ae2-880a-4137c00992ae",
   "metadata": {},
   "outputs": [],
   "source": [
    "resp1 = httpx.get(f\"{registry2ip}/flows?format=html\")\n",
    "display(HTML(resp1.content.decode(\"utf-8\")))"
   ]
  },
  {
   "cell_type": "markdown",
   "id": "89511741-7328-45b4-addf-ae2bb59601ef",
   "metadata": {},
   "source": [
    "# Node updates"
   ]
  },
  {
   "cell_type": "markdown",
   "id": "98dd997d-a3e6-4560-a9e9-7411a1af9528",
   "metadata": {},
   "source": [
    "When a node reconnects, the news is broadcasted from the sourcing registry to all peers."
   ]
  },
  {
   "cell_type": "code",
   "execution_count": null,
   "id": "28f50dc4-45db-4bf3-b216-ec431a5314ba",
   "metadata": {},
   "outputs": [],
   "source": [
    "node1.terminate()"
   ]
  },
  {
   "cell_type": "code",
   "execution_count": null,
   "id": "5ff6ab2a-b133-4918-87c0-0b66ea1787b9",
   "metadata": {},
   "outputs": [],
   "source": [
    "node1kw = {\n",
    "    \"url\": node1ip, \n",
    "    \"connect\": [registry1ip],\n",
    "    \"organization\": \"node1\",\n",
    "    \"node\": True, \n",
    "    \"registry\": False,\n",
    "    \"provider\": False,\n",
    "    \"reload\": False,\n",
    "    \"loader\": flows.loader3\n",
    "}"
   ]
  },
  {
   "cell_type": "markdown",
   "id": "4af96a4e-90ec-4fb9-8f08-469f48de15ff",
   "metadata": {},
   "source": [
    "node1 connects to registry1\n",
    "```json\n",
    "{\n",
    "    \"url\": \"http://localhost:3367\",\n",
    "    \"organization\": \"node1\",\n",
    "    \"flows\": {\n",
    "        \"/mytest2\": {\n",
    "            \"url\": \"/mytest2\",\n",
    "            \"name\": \"mytest2\",\n",
    "            \"description\": \"This is a testing flow\",\n",
    "            \"tags\": null,\n",
    "            \"author\": \"michi.rau@gmail.com\"\n",
    "        }\n",
    "    },\n",
    "    \"created\": null,\n",
    "    \"modified\": null,\n",
    "    \"heartbeat\": null,\n",
    "    \"status\": \"unknown\"\n",
    "}\n",
    "```\n",
    "\n",
    "registry1 responds with\n",
    "```json\n",
    "{\n",
    "    \"url\": \"http://localhost:3366\",\n",
    "    \"organization\": \"registry1\",\n",
    "    \"node\": false,\n",
    "    \"registry\": true,\n",
    "    \"provider\": false,\n",
    "    \"connection\": {},\n",
    "    \"started_at\": \"2024-12-25T18:07:18.806234\",\n",
    "    \"idle\": false,\n",
    "    \"now\": \"2024-12-25T18:44:02.640826\",\n",
    "    \"message\": [\n",
    "        \"registered node http://localhost:3367 (seen previously 2024-12-25 18:03:12.989989)\",\n",
    "        \"feed forward node to http://localhost:3368\"\n",
    "    ]\n",
    "}\n",
    "```\n",
    "\n",
    "registry1 broadcasts the update of node1 to registry2\n",
    "```json\n",
    "{\n",
    "    \"url\": \"http://localhost:3366\",\n",
    "    \"organization\": \"registry1\",\n",
    "    \"feed\": false,\n",
    "    \"nodes\": {\n",
    "        \"http://localhost:3367\": {\n",
    "            \"url\": \"http://localhost:3367\",\n",
    "            \"organization\": \"node1\",\n",
    "            \"flows\": {\n",
    "                \"/mytest2\": {\n",
    "                    \"url\": \"/mytest2\",\n",
    "                    \"name\": \"mytest2\",\n",
    "                    \"description\": \"This is a testing flow\",\n",
    "                    \"tags\": null,\n",
    "                    \"author\": \"michi.rau@gmail.com\"\n",
    "                }\n",
    "            },\n",
    "            \"created\": \"2024-12-25T18:03:12.989989\",\n",
    "            \"modified\": \"2024-12-25T18:44:02.640011\",\n",
    "            \"heartbeat\": \"2024-12-25T18:44:02.640011\",\n",
    "            \"status\": \"unknown\"\n",
    "        }\n",
    "    }\n",
    "}\n",
    "```\n",
    "\n",
    "registry2 responds with\n",
    "```json\n",
    "{\n",
    "    \"url\": \"http://localhost:3368\",\n",
    "    \"organization\": \"registry2\",\n",
    "    \"node\": false,\n",
    "    \"registry\": true,\n",
    "    \"provider\": false,\n",
    "    \"connection\": {\n",
    "        \"http://localhost:3366\": \"2024-12-25T18:35:36.694219\"\n",
    "    },\n",
    "    \"started_at\": \"2024-12-25T18:07:39.013209\",\n",
    "    \"idle\": true,\n",
    "    \"now\": \"2024-12-25T18:44:02.660559\",\n",
    "    \"message\": [\n",
    "        \"updated node http://localhost:3366\"\n",
    "    ]\n",
    "}\n",
    "```"
   ]
  },
  {
   "cell_type": "code",
   "execution_count": null,
   "id": "e7036690-5d7a-48dc-a1a4-a81f73c10522",
   "metadata": {},
   "outputs": [],
   "source": [
    "node1 = Process(target=run_service, kwargs=node1kw)\n",
    "node1.start()"
   ]
  },
  {
   "cell_type": "markdown",
   "id": "804e36ef-dec8-40d4-ad3e-8f50a8a293bc",
   "metadata": {},
   "source": [
    "## revisit registries"
   ]
  },
  {
   "cell_type": "code",
   "execution_count": null,
   "id": "8712d86d-bcaf-462c-b219-1594ac1e2578",
   "metadata": {},
   "outputs": [],
   "source": [
    "resp1 = httpx.get(f\"{registry1ip}/flows?format=html\")\n",
    "display(HTML(resp1.content.decode(\"utf-8\")))"
   ]
  },
  {
   "cell_type": "code",
   "execution_count": null,
   "id": "3aed39b3-f852-4d62-a975-977f7abe76bd",
   "metadata": {},
   "outputs": [],
   "source": [
    "resp2 = httpx.get(f\"{registry2ip}/flows?format=html\")\n",
    "display(HTML(resp2.content.decode(\"utf-8\")))"
   ]
  },
  {
   "cell_type": "markdown",
   "id": "99538e58-c518-4b78-bdf3-768bc8197a85",
   "metadata": {},
   "source": [
    "# TERMINATION"
   ]
  },
  {
   "cell_type": "code",
   "execution_count": null,
   "id": "ec14f1fa-944f-465f-bf22-8d37343dc8b3",
   "metadata": {},
   "outputs": [],
   "source": [
    "registry1.terminate()"
   ]
  },
  {
   "cell_type": "code",
   "execution_count": null,
   "id": "76b96e70-f9f9-4e2e-8746-2a2f8fe3dbd9",
   "metadata": {},
   "outputs": [],
   "source": [
    "node1.terminate()"
   ]
  },
  {
   "cell_type": "code",
   "execution_count": null,
   "id": "437672a7-edfe-47dc-97c7-cbe1ea59d6bf",
   "metadata": {},
   "outputs": [],
   "source": [
    "registry2.terminate()"
   ]
  },
  {
   "cell_type": "code",
   "execution_count": null,
   "id": "abc3c080-1563-48b0-9d3a-9c43811d1b46",
   "metadata": {},
   "outputs": [],
   "source": [
    "node2.terminate()"
   ]
  },
  {
   "cell_type": "code",
   "execution_count": null,
   "id": "fe0b4249-5497-4418-86d9-61c34c407936",
   "metadata": {},
   "outputs": [],
   "source": []
  }
 ],
 "metadata": {
  "kernelspec": {
   "display_name": "Python 3 (ipykernel)",
   "language": "python",
   "name": "python3"
  },
  "language_info": {
   "codemirror_mode": {
    "name": "ipython",
    "version": 3
   },
   "file_extension": ".py",
   "mimetype": "text/x-python",
   "name": "python",
   "nbconvert_exporter": "python",
   "pygments_lexer": "ipython3",
   "version": "3.12.6"
  }
 },
 "nbformat": 4,
 "nbformat_minor": 5
}
