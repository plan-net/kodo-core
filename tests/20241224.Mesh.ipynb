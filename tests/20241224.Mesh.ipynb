{
 "cells": [
  {
   "cell_type": "markdown",
   "id": "4d133acb-1b0c-4968-9a4b-708b624d036a",
   "metadata": {},
   "source": [
    "# INTRODUCTION\n",
    "\n",
    "The purpose of this demo is to illustrate the setup and interaction of a distributed system using Kodo services. The demo showcases the following key steps:\n",
    "\n",
    "1. registry startup\n",
    "2. node register\n",
    "3. registry peer connect\n",
    "4. node restarts and updates\n",
    "\n",
    "We create a _multiprocessing_ runtime environment for seamless communication over http sockets."
   ]
  },
  {
   "cell_type": "code",
   "execution_count": 44,
   "id": "b5f60087-96ac-407b-9a95-7e372ab4433c",
   "metadata": {},
   "outputs": [],
   "source": [
    "from multiprocessing import Process\n",
    "from kodo.service.node import run_service\n",
    "import httpx"
   ]
  },
  {
   "cell_type": "markdown",
   "id": "190eb612-071c-4d61-ab4d-51045d1643a6",
   "metadata": {},
   "source": [
    "# REGISTRY1 STARTUP\n",
    "\n",
    "We startup a `registry1` and a `node1` connects to this `registry1`.\n",
    "\n",
    "Next we startup another `registry2` and a `node2` connects to this`registry2`."
   ]
  },
  {
   "cell_type": "code",
   "execution_count": 45,
   "id": "4b36675e-3f2c-438d-9b26-98aed0ce7ef8",
   "metadata": {},
   "outputs": [],
   "source": [
    "registry1ip = \"http://localhost:3366\"\n",
    "node1ip = \"http://localhost:3367\"\n",
    "registry2ip = \"http://localhost:3368\"\n",
    "node2ip = \"http://localhost:3369\""
   ]
  },
  {
   "cell_type": "code",
   "execution_count": 46,
   "id": "a822483a-238f-44ee-88e5-46376ea67da8",
   "metadata": {},
   "outputs": [],
   "source": [
    "registry1kw = {\n",
    "    \"url\": registry1ip, \n",
    "    \"organization\": \"registry1\",\n",
    "    \"node\": False, \n",
    "    \"registry\": True,\n",
    "    # initialise the cache, which we will use later\n",
    "    \"cache\": \"./registry1.json\",\n",
    "    # start from scratch\n",
    "    \"reset\": True\n",
    "}\n",
    "registry1 = Process(target=run_service, kwargs=registry1kw)\n",
    "registry1.start()"
   ]
  },
  {
   "cell_type": "markdown",
   "id": "74faad6a-c7a8-44b1-9180-3935cd2c5c64",
   "metadata": {},
   "source": [
    "## HANDSHAKE"
   ]
  },
  {
   "cell_type": "markdown",
   "id": "26dd16f2-05e5-454e-aceb-9efbc675ad6c",
   "metadata": {},
   "source": [
    "The registry is up-and-running."
   ]
  },
  {
   "cell_type": "code",
   "execution_count": 47,
   "id": "402ba115-5436-4e29-ba69-6fd94af3125c",
   "metadata": {},
   "outputs": [
    {
     "name": "stderr",
     "output_type": "stream",
     "text": [
      "INFO - 2024-12-26 11:04:33,409 - kodo - node - http://localhost:3366: registry startup\n",
      "INFO - 2024-12-26 11:04:33,409 - kodo - node - http://localhost:3366: ignore cache ./registry1.json\n",
      "INFO - 2024-12-26 11:04:33,409 - kodo - node - http://localhost:3366: successfully started registry\n",
      "INFO - 2024-12-26 11:04:33,409 - uvicorn.error - server - Started server process [56353]\n",
      "INFO - 2024-12-26 11:04:33,409 - uvicorn.error - on - Waiting for application startup.\n",
      "INFO - 2024-12-26 11:04:33,414 - uvicorn.error - on - Application startup complete.\n",
      "INFO - 2024-12-26 11:04:33,469 - uvicorn.access - httptools_impl - 127.0.0.1:51568 - \"GET / HTTP/1.1\" 200\n"
     ]
    },
    {
     "data": {
      "text/plain": [
       "{'url': 'http://localhost:3366',\n",
       " 'organization': 'registry1',\n",
       " 'connection': {},\n",
       " 'node': False,\n",
       " 'registry': True,\n",
       " 'provider': False,\n",
       " 'started_at': '2024-12-26T11:04:33.414447',\n",
       " 'idle': True,\n",
       " 'now': '2024-12-26T11:04:33.469263',\n",
       " 'message': []}"
      ]
     },
     "execution_count": 47,
     "metadata": {},
     "output_type": "execute_result"
    }
   ],
   "source": [
    "resp = httpx.get(registry1ip)\n",
    "resp.json()"
   ]
  },
  {
   "cell_type": "markdown",
   "id": "02d307e7-9bc8-4d2e-b6cf-9dd01fa70813",
   "metadata": {},
   "source": [
    "This registry `_cache` is empty. "
   ]
  },
  {
   "cell_type": "code",
   "execution_count": 48,
   "id": "2efbe2c1-83c4-46f3-a8a6-4300d087cd56",
   "metadata": {},
   "outputs": [
    {
     "name": "stderr",
     "output_type": "stream",
     "text": [
      "INFO - 2024-12-26 11:04:43,567 - uvicorn.access - httptools_impl - 127.0.0.1:51576 - \"GET /_cache HTTP/1.1\" 200\n"
     ]
    },
    {
     "data": {
      "text/plain": [
       "{'url': 'http://localhost:3366',\n",
       " 'organization': 'registry1',\n",
       " 'feed': True,\n",
       " 'nodes': {},\n",
       " 'providers': {}}"
      ]
     },
     "execution_count": 48,
     "metadata": {},
     "output_type": "execute_result"
    }
   ],
   "source": [
    "resp = httpx.get(f\"{registry1ip}/_cache\")\n",
    "resp.json()"
   ]
  },
  {
   "cell_type": "markdown",
   "id": "47b23553-582a-43d4-9e37-9b65790f4c61",
   "metadata": {},
   "source": [
    "The registry `count` is empty."
   ]
  },
  {
   "cell_type": "code",
   "execution_count": 49,
   "id": "15fb7221-d807-4afc-9389-605516e71764",
   "metadata": {},
   "outputs": [
    {
     "name": "stderr",
     "output_type": "stream",
     "text": [
      "INFO - 2024-12-26 11:04:44,580 - uvicorn.access - httptools_impl - 127.0.0.1:51578 - \"GET /counts HTTP/1.1\" 200\n"
     ]
    },
    {
     "data": {
      "text/plain": [
       "{'total': 0, 'node': {}, 'organization': {}, 'tags': {}}"
      ]
     },
     "execution_count": 49,
     "metadata": {},
     "output_type": "execute_result"
    },
    {
     "name": "stderr",
     "output_type": "stream",
     "text": [
      "INFO - 2024-12-26 11:05:03,183 - uvicorn.access - httptools_impl - 127.0.0.1:51592 - \"GET /schema HTTP/1.1\" 200\n",
      "INFO - 2024-12-26 11:05:04,152 - uvicorn.access - httptools_impl - 127.0.0.1:51592 - \"GET /schema HTTP/1.1\" 200\n",
      "INFO - 2024-12-26 11:05:04,545 - uvicorn.access - httptools_impl - 127.0.0.1:51592 - \"GET /schema HTTP/1.1\" 200\n",
      "INFO - 2024-12-26 11:05:04,834 - uvicorn.access - httptools_impl - 127.0.0.1:51592 - \"GET /schema HTTP/1.1\" 200\n",
      "INFO - 2024-12-26 11:05:05,073 - uvicorn.access - httptools_impl - 127.0.0.1:51592 - \"GET /schema HTTP/1.1\" 200\n",
      "INFO - 2024-12-26 11:05:05,302 - uvicorn.access - httptools_impl - 127.0.0.1:51592 - \"GET /schema HTTP/1.1\" 200\n",
      "INFO - 2024-12-26 11:05:05,530 - uvicorn.access - httptools_impl - 127.0.0.1:51592 - \"GET /schema HTTP/1.1\" 200\n",
      "INFO - 2024-12-26 11:05:05,757 - uvicorn.access - httptools_impl - 127.0.0.1:51592 - \"GET /schema HTTP/1.1\" 200\n",
      "INFO - 2024-12-26 11:05:05,970 - uvicorn.access - httptools_impl - 127.0.0.1:51592 - \"GET /schema HTTP/1.1\" 200\n",
      "INFO - 2024-12-26 11:05:06,174 - uvicorn.access - httptools_impl - 127.0.0.1:51592 - \"GET /schema HTTP/1.1\" 200\n",
      "INFO - 2024-12-26 11:07:37,129 - uvicorn.access - httptools_impl - 127.0.0.1:51685 - \"GET /schema/openapi.json HTTP/1.1\" 200\n",
      "INFO - 2024-12-26 11:08:27,938 - uvicorn.access - httptools_impl - 127.0.0.1:51697 - \"GET /schema HTTP/1.1\" 200\n",
      "INFO - 2024-12-26 11:10:22,341 - uvicorn.access - httptools_impl - 127.0.0.1:51768 - \"GET /schema/redoc HTTP/1.1\" 200\n",
      "INFO - 2024-12-26 11:10:26,840 - uvicorn.access - httptools_impl - 127.0.0.1:51768 - \"GET /schema/elements HTTP/1.1\" 200\n",
      "INFO - 2024-12-26 11:10:26,934 - uvicorn.access - httptools_impl - 127.0.0.1:51768 - \"GET /schema/openapi.json HTTP/1.1\" 200\n",
      "INFO - 2024-12-26 11:12:06,008 - uvicorn.access - httptools_impl - 127.0.0.1:51812 - \"GET /schema/openapi.json HTTP/1.1\" 200\n",
      "INFO - 2024-12-26 11:12:25,328 - uvicorn.access - httptools_impl - 127.0.0.1:51830 - \"GET /schema/openapi.json HTTP/1.1\" 200\n",
      "INFO - 2024-12-26 11:13:00,217 - uvicorn.access - httptools_impl - 127.0.0.1:51839 - \"GET /schema/redoc HTTP/1.1\" 200\n",
      "INFO - 2024-12-26 11:13:01,003 - uvicorn.access - httptools_impl - 127.0.0.1:51839 - \"GET /schema/redoc HTTP/1.1\" 200\n"
     ]
    }
   ],
   "source": [
    "resp = httpx.get(f\"{registry1ip}/counts\")\n",
    "resp.json()"
   ]
  },
  {
   "cell_type": "markdown",
   "id": "06b5e3e9-fa76-46ed-bce6-787e85a6999f",
   "metadata": {},
   "source": [
    "# node1 registers with registry1\n",
    "\n",
    "Start `node1` with a flow `mytest`. The loader must either be a factor string (e.g. `module.path:func`) or a _Callable_.\n",
    "In this example we use a callable `my_loader` in `myflow`."
   ]
  },
  {
   "cell_type": "markdown",
   "id": "97859605-fbf5-4ca6-87d7-f9abe8be1fdc",
   "metadata": {},
   "source": [
    "```mermaid\n",
    "stateDiagram\n",
    "    direction LR\n",
    "    /mytest --> node1\n",
    "    node1 --> registry1\n",
    "```"
   ]
  },
  {
   "cell_type": "code",
   "execution_count": 7,
   "id": "0c91485c-d8b9-451e-996f-0cf338fc904e",
   "metadata": {},
   "outputs": [
    {
     "data": {
      "text/plain": [
       "<module 'flows' from '/Users/raum/Project/kodo-core/tests/flows.py'>"
      ]
     },
     "execution_count": 7,
     "metadata": {},
     "output_type": "execute_result"
    }
   ],
   "source": [
    "import importlib\n",
    "import flows\n",
    "importlib.reload(flows)"
   ]
  },
  {
   "cell_type": "markdown",
   "id": "337fcfdf-9604-4b87-98e2-1fdd175b0351",
   "metadata": {},
   "source": [
    "```json\n",
    "{\n",
    "  \"url\": \"string\",\n",
    "  \"organization\": {},\n",
    "  \"flows\": {\n",
    "    \"uid: string\": {\n",
    "      \"url\": \"string\",\n",
    "      \"name\": \"string\",\n",
    "      \"description\": \"string\",\n",
    "      \"author\": {},\n",
    "      \"tags\": []\n",
    "    },\n",
    "    \"uid: string\": {\n",
    "      \"url\": \"string\",\n",
    "      \"name\": \"string\",\n",
    "      \"description\": {},\n",
    "      \"author\": {},\n",
    "      \"tags\": []\n",
    "    }\n",
    "  }\n",
    "}\n",
    "```\n",
    "\n",
    "* client: node1\n",
    "* method: `POST /register`\n",
    "* server: `http://registry1`\n",
    "* required parameters\n",
    "  * url (str)\n",
    "  * flows (dict)\n",
    "  * \n",
    "```json\n",
    "{\n",
    "    \"url\": str,\n",
    "    \"organization\": str,\n",
    "    \"flows\": {\n",
    "        \"{url: str}\": {\n",
    "            \"url\": str,\n",
    "            \"name\": str,\n",
    "            \"description\": str,\n",
    "            \"tags\": str,\n",
    "            \"author\": str\n",
    "        }\n",
    "    },\n",
    "    \"created\": null,\n",
    "    \"modified\": null,\n",
    "    \"heartbeat\": null,\n",
    "    \"status\": \"unknown\"\n",
    "}\n",
    "```\n",
    "\n",
    "registry1 in response delivers:\n",
    "\n",
    "```json\n",
    "{\n",
    "    \"url\": \"http://localhost:3366\",\n",
    "    \"organization\": \"registry1\",\n",
    "    \"node\": false,\n",
    "    \"registry\": true,\n",
    "    \"provider\": false,\n",
    "    \"connection\": {},\n",
    "    \"started_at\": \"2024-12-25T18:03:02.245504\",\n",
    "    \"idle\": true,\n",
    "    \"now\": \"2024-12-25T18:03:12.990684\",\n",
    "    \"message\": [\n",
    "        \"registered node http://localhost:3367 (first visit)\"\n",
    "    ]\n",
    "}\n",
    "```"
   ]
  },
  {
   "cell_type": "code",
   "execution_count": 8,
   "id": "6dd8679d-ed12-4a02-92a7-0eb1a5d02b02",
   "metadata": {},
   "outputs": [
    {
     "name": "stderr",
     "output_type": "stream",
     "text": [
      "INFO - 2024-12-26 10:28:59,606 - kodo - node - http://localhost:3367: node startup\n",
      "INFO - 2024-12-26 10:28:59,606 - kodo - node - http://localhost:3367: loaded 1 flows\n",
      "INFO - 2024-12-26 10:28:59,606 - kodo - node - http://localhost:3367: loaded 1 entries\n",
      "INFO - 2024-12-26 10:28:59,606 - kodo - node - http://localhost:3367: successfully started node\n",
      "INFO - 2024-12-26 10:28:59,607 - uvicorn.error - server - Started server process [56180]\n",
      "INFO - 2024-12-26 10:28:59,607 - uvicorn.error - on - Waiting for application startup.\n",
      "INFO - 2024-12-26 10:28:59,609 - kodo - routes - http://localhost:3367: semaphore +1 to 1\n",
      "INFO - 2024-12-26 10:28:59,609 - uvicorn.error - on - Application startup complete.\n",
      "INFO - 2024-12-26 10:28:59,609 - kodo - routes - http://localhost:3367 establishes connection (http://localhost:3366/register)\n",
      "INFO - 2024-12-26 10:28:59,624 - uvicorn.error - server - Uvicorn running on http://localhost:3367 (Press CTRL+C to quit)\n",
      "INFO - 2024-12-26 10:28:59,626 - kodo - routes - http://localhost:3366: provider dump to ./registry1.json\n",
      "INFO - 2024-12-26 10:28:59,626 - kodo - routes - http://localhost:3366: client message: registered node http://localhost:3367 (first visit)\n",
      "INFO - 2024-12-26 10:28:59,627 - uvicorn.access - httptools_impl - 127.0.0.1:51148 - \"POST /register HTTP/1.1\" 200\n",
      "INFO - 2024-12-26 10:28:59,627 - httpx - _client - HTTP Request: POST http://localhost:3366/register \"HTTP/1.1 200 OK\"\n",
      "INFO - 2024-12-26 10:28:59,627 - kodo - routes - http://localhost:3367 successfully connected to http://localhost:3366\n",
      "INFO - 2024-12-26 10:28:59,627 - kodo - routes - http://localhost:3367: semaphore -1 to 0\n",
      "INFO - 2024-12-26 10:28:59,627 - kodo - routes - http://localhost:3367 node startup complete\n"
     ]
    }
   ],
   "source": [
    "node1kw = {\n",
    "    \"url\": node1ip, \n",
    "    \"connect\": [registry1ip],\n",
    "    \"organization\": \"node1\",\n",
    "    \"node\": True, \n",
    "    \"registry\": False,\n",
    "    \"provider\": False,\n",
    "    \"reload\": False,\n",
    "    \"loader\": flows.loader1\n",
    "}\n",
    "node1 = Process(target=run_service, kwargs=node1kw)\n",
    "node1.start()"
   ]
  },
  {
   "cell_type": "markdown",
   "id": "b034ba3f-a005-463a-8f66-198bc288f0cb",
   "metadata": {},
   "source": [
    "The node is up-and-running and connected to http://localhost:3366 (registry1)"
   ]
  },
  {
   "cell_type": "code",
   "execution_count": 9,
   "id": "2342fd13-91c7-41be-9884-28c0b11e1124",
   "metadata": {},
   "outputs": [
    {
     "name": "stderr",
     "output_type": "stream",
     "text": [
      "INFO - 2024-12-26 10:29:03,112 - uvicorn.access - httptools_impl - ::1:51149 - \"GET / HTTP/1.1\" 200\n"
     ]
    },
    {
     "data": {
      "text/plain": [
       "{'url': 'http://localhost:3367',\n",
       " 'organization': 'node1',\n",
       " 'connection': {'http://localhost:3366': '2024-12-26T10:28:59.627614'},\n",
       " 'node': True,\n",
       " 'registry': False,\n",
       " 'provider': False,\n",
       " 'started_at': '2024-12-26T10:28:59.609470',\n",
       " 'idle': True,\n",
       " 'now': '2024-12-26T10:29:03.111910',\n",
       " 'message': []}"
      ]
     },
     "execution_count": 9,
     "metadata": {},
     "output_type": "execute_result"
    }
   ],
   "source": [
    "resp = httpx.get(node1ip)\n",
    "resp.json()"
   ]
  },
  {
   "cell_type": "markdown",
   "id": "45e0dd2d-26ff-43df-86ba-02d56bfb1f46",
   "metadata": {},
   "source": [
    "There is no such thing as a node `_cache`."
   ]
  },
  {
   "cell_type": "code",
   "execution_count": 10,
   "id": "b3da0178-4e54-4e2a-a394-214354564a89",
   "metadata": {},
   "outputs": [
    {
     "name": "stderr",
     "output_type": "stream",
     "text": [
      "INFO - 2024-12-26 10:29:04,225 - uvicorn.access - httptools_impl - ::1:51151 - \"GET /_cache HTTP/1.1\" 404\n"
     ]
    }
   ],
   "source": [
    "resp = httpx.get(f\"{node1ip}/_cache\")\n",
    "assert resp.status_code == 404"
   ]
  },
  {
   "cell_type": "markdown",
   "id": "69333478-1d53-4048-b4ae-19a6c9810e01",
   "metadata": {},
   "source": [
    "But a flow has been created!"
   ]
  },
  {
   "cell_type": "code",
   "execution_count": 11,
   "id": "1bd16646-eda8-4329-bb7e-31305bb33ed8",
   "metadata": {},
   "outputs": [
    {
     "name": "stderr",
     "output_type": "stream",
     "text": [
      "INFO - 2024-12-26 10:29:05,683 - uvicorn.access - httptools_impl - ::1:51154 - \"GET /flows HTTP/1.1\" 200\n"
     ]
    },
    {
     "data": {
      "text/plain": [
       "{'total': 1,\n",
       " 'filtered': 1,\n",
       " 'p': 0,\n",
       " 'pp': 10,\n",
       " 'items': [{'registry': 'http://localhost:3367',\n",
       "   'node': 'http://localhost:3367',\n",
       "   'organization': 'node1',\n",
       "   'created': None,\n",
       "   'modified': None,\n",
       "   'heartbeat': None,\n",
       "   'url': '/test/hymn1',\n",
       "   'name': 'Hymn Creator',\n",
       "   'author': 'missing author',\n",
       "   'description': 'missing description',\n",
       "   'tags': []}],\n",
       " 'by': 'name, node, url',\n",
       " 'q': None}"
      ]
     },
     "execution_count": 11,
     "metadata": {},
     "output_type": "execute_result"
    }
   ],
   "source": [
    "resp = httpx.get(f\"{node1ip}/flows\")\n",
    "resp.json()"
   ]
  },
  {
   "cell_type": "markdown",
   "id": "941682d4-d216-48aa-8cf0-847897c3ab37",
   "metadata": {},
   "source": [
    "Please note that the node itself does not report on any timestamps. This feature is reserved to registries and providers."
   ]
  },
  {
   "cell_type": "markdown",
   "id": "111ea4fa-93cb-4eef-b7ad-7f1044215975",
   "metadata": {},
   "source": [
    "The flow is reporting it's `counts`."
   ]
  },
  {
   "cell_type": "code",
   "execution_count": 12,
   "id": "11d2687c-ec3d-4f75-ba0c-6cfef4db2065",
   "metadata": {},
   "outputs": [
    {
     "name": "stderr",
     "output_type": "stream",
     "text": [
      "INFO - 2024-12-26 10:29:07,542 - uvicorn.access - httptools_impl - ::1:51159 - \"GET /counts HTTP/1.1\" 200\n"
     ]
    },
    {
     "data": {
      "text/plain": [
       "{'total': 1,\n",
       " 'node': {'http://localhost:3367': 1},\n",
       " 'organization': {'node1': 1},\n",
       " 'tags': {}}"
      ]
     },
     "execution_count": 12,
     "metadata": {},
     "output_type": "execute_result"
    }
   ],
   "source": [
    "resp = httpx.get(f\"{node1ip}/counts\")\n",
    "resp.json()"
   ]
  },
  {
   "cell_type": "markdown",
   "id": "9dc86944-b67e-4605-9dac-9d3a91f87f8e",
   "metadata": {},
   "source": [
    "# Visit the registry"
   ]
  },
  {
   "cell_type": "markdown",
   "id": "e4d82985-1082-4828-a452-a34732136553",
   "metadata": {},
   "source": [
    "The registry reports timestamps. This is in contrast to the node."
   ]
  },
  {
   "cell_type": "code",
   "execution_count": 13,
   "id": "18d66ec6-191e-4f9a-863c-b6e9d8bef420",
   "metadata": {},
   "outputs": [
    {
     "name": "stderr",
     "output_type": "stream",
     "text": [
      "INFO - 2024-12-26 10:29:10,288 - uvicorn.access - httptools_impl - 127.0.0.1:51167 - \"GET /flows HTTP/1.1\" 200\n"
     ]
    },
    {
     "data": {
      "text/plain": [
       "{'total': 1,\n",
       " 'filtered': 1,\n",
       " 'p': 0,\n",
       " 'pp': 10,\n",
       " 'items': [{'registry': 'http://localhost:3366',\n",
       "   'node': 'http://localhost:3367',\n",
       "   'organization': 'node1',\n",
       "   'created': '2024-12-26T10:28:59.626308',\n",
       "   'modified': '2024-12-26T10:28:59.626308',\n",
       "   'heartbeat': '2024-12-26T10:28:59.626308',\n",
       "   'url': '/test/hymn1',\n",
       "   'name': 'Hymn Creator',\n",
       "   'author': 'missing author',\n",
       "   'description': 'missing description',\n",
       "   'tags': []}],\n",
       " 'by': 'name, node, url',\n",
       " 'q': None}"
      ]
     },
     "execution_count": 13,
     "metadata": {},
     "output_type": "execute_result"
    }
   ],
   "source": [
    "resp = httpx.get(f\"{registry1ip}/flows\")\n",
    "resp.json()"
   ]
  },
  {
   "cell_type": "markdown",
   "id": "fc9f4ded-160e-44e3-b954-992ce8cbeecc",
   "metadata": {},
   "source": [
    "## node1 restart"
   ]
  },
  {
   "cell_type": "markdown",
   "id": "e72407fa-9d7b-41c4-b7da-d759a166de3c",
   "metadata": {},
   "source": [
    "On restart of the node the registry updates the _modified_ timestamp."
   ]
  },
  {
   "cell_type": "code",
   "execution_count": 14,
   "id": "f9136631-c6b9-4212-9d83-20c60ae44f77",
   "metadata": {},
   "outputs": [
    {
     "name": "stderr",
     "output_type": "stream",
     "text": [
      "INFO - 2024-12-26 10:29:14,580 - uvicorn.error - server - Shutting down\n",
      "INFO - 2024-12-26 10:29:14,682 - uvicorn.error - on - Waiting for application shutdown.\n",
      "INFO - 2024-12-26 10:29:14,683 - kodo - routes - http://localhost:3367 shutdown now\n",
      "INFO - 2024-12-26 10:29:14,683 - uvicorn.error - on - Application shutdown complete.\n"
     ]
    }
   ],
   "source": [
    "node1.terminate()"
   ]
  },
  {
   "cell_type": "markdown",
   "id": "fb846e17-91e5-42f6-9064-f713576b6d8c",
   "metadata": {},
   "source": [
    "again on `/register` the node sends: \n",
    "```json\n",
    "{\n",
    "    \"url\": \"http://localhost:3367\",\n",
    "    \"organization\": \"node1\",\n",
    "    \"flows\": {\n",
    "        \"/mytest\": {\n",
    "            \"url\": \"/mytest\",\n",
    "            \"name\": \"mytest\",\n",
    "            \"description\": null,\n",
    "            \"tags\": null,\n",
    "            \"author\": null\n",
    "        }\n",
    "    },\n",
    "    \"created\": null,\n",
    "    \"modified\": null,\n",
    "    \"heartbeat\": null,\n",
    "    \"status\": \"unknown\"\n",
    "}\n",
    "```\n",
    "\n",
    "and the registry returns: \n",
    "```json\n",
    "{\n",
    "    \"url\": \"http://localhost:3366\",\n",
    "    \"organization\": \"registry1\",\n",
    "    \"node\": false,\n",
    "    \"registry\": true,\n",
    "    \"provider\": false,\n",
    "    \"connection\": {},\n",
    "    \"started_at\": \"2024-12-25T18:03:02.245504\",\n",
    "    \"idle\": true,\n",
    "    \"now\": \"2024-12-25T18:05:13.972890\",\n",
    "    \"message\": [\n",
    "        \"registered node http://localhost:3367 (seen previously 2024-12-25 18:03:12.989989)\"\n",
    "    ]\n",
    "}```"
   ]
  },
  {
   "cell_type": "code",
   "execution_count": 15,
   "id": "7689cd48-a93b-4988-b4c8-558aae83e765",
   "metadata": {},
   "outputs": [
    {
     "name": "stderr",
     "output_type": "stream",
     "text": [
      "INFO - 2024-12-26 10:29:20,643 - kodo - node - http://localhost:3367: node startup\n",
      "INFO - 2024-12-26 10:29:20,644 - kodo - node - http://localhost:3367: loaded 1 flows\n",
      "INFO - 2024-12-26 10:29:20,644 - kodo - node - http://localhost:3367: loaded 1 entries\n",
      "INFO - 2024-12-26 10:29:20,644 - kodo - node - http://localhost:3367: successfully started node\n",
      "INFO - 2024-12-26 10:29:20,644 - uvicorn.error - server - Started server process [56195]\n",
      "INFO - 2024-12-26 10:29:20,644 - uvicorn.error - on - Waiting for application startup.\n",
      "INFO - 2024-12-26 10:29:20,646 - kodo - routes - http://localhost:3367: semaphore +1 to 1\n",
      "INFO - 2024-12-26 10:29:20,646 - uvicorn.error - on - Application startup complete.\n",
      "INFO - 2024-12-26 10:29:20,647 - kodo - routes - http://localhost:3367 establishes connection (http://localhost:3366/register)\n",
      "INFO - 2024-12-26 10:29:20,663 - uvicorn.error - server - Uvicorn running on http://localhost:3367 (Press CTRL+C to quit)\n",
      "INFO - 2024-12-26 10:29:20,664 - kodo - routes - http://localhost:3366: provider dump to ./registry1.json\n",
      "INFO - 2024-12-26 10:29:20,664 - kodo - routes - http://localhost:3366: client message: registered node http://localhost:3367 (seen previously 2024-12-26 10:28:59.626308)\n",
      "INFO - 2024-12-26 10:29:20,664 - uvicorn.access - httptools_impl - 127.0.0.1:51172 - \"POST /register HTTP/1.1\" 200\n",
      "INFO - 2024-12-26 10:29:20,665 - httpx - _client - HTTP Request: POST http://localhost:3366/register \"HTTP/1.1 200 OK\"\n",
      "INFO - 2024-12-26 10:29:20,665 - kodo - routes - http://localhost:3367 successfully connected to http://localhost:3366\n",
      "INFO - 2024-12-26 10:29:20,665 - kodo - routes - http://localhost:3367: semaphore -1 to 0\n",
      "INFO - 2024-12-26 10:29:20,665 - kodo - routes - http://localhost:3367 node startup complete\n"
     ]
    }
   ],
   "source": [
    "node1 = Process(target=run_service, kwargs=node1kw)\n",
    "node1.start()"
   ]
  },
  {
   "cell_type": "code",
   "execution_count": 16,
   "id": "58202658-1162-408e-8e7b-23049c51a46b",
   "metadata": {},
   "outputs": [
    {
     "name": "stderr",
     "output_type": "stream",
     "text": [
      "INFO - 2024-12-26 10:29:22,343 - uvicorn.access - httptools_impl - 127.0.0.1:51174 - \"GET /flows HTTP/1.1\" 200\n"
     ]
    },
    {
     "data": {
      "text/plain": [
       "{'total': 1,\n",
       " 'filtered': 1,\n",
       " 'p': 0,\n",
       " 'pp': 10,\n",
       " 'items': [{'registry': 'http://localhost:3366',\n",
       "   'node': 'http://localhost:3367',\n",
       "   'organization': 'node1',\n",
       "   'created': '2024-12-26T10:28:59.626308',\n",
       "   'modified': '2024-12-26T10:29:20.664197',\n",
       "   'heartbeat': '2024-12-26T10:29:20.664197',\n",
       "   'url': '/test/hymn1',\n",
       "   'name': 'Hymn Creator',\n",
       "   'author': 'missing author',\n",
       "   'description': 'missing description',\n",
       "   'tags': []}],\n",
       " 'by': 'name, node, url',\n",
       " 'q': None}"
      ]
     },
     "execution_count": 16,
     "metadata": {},
     "output_type": "execute_result"
    }
   ],
   "source": [
    "resp = httpx.get(f\"{registry1ip}/flows\")\n",
    "resp.json()"
   ]
  },
  {
   "cell_type": "markdown",
   "id": "cb72fd46-66a9-4075-9c76-50d60ca06d21",
   "metadata": {},
   "source": [
    "On registry restart the flow collection is retrieved from cache. Both the _created_ and _modified_ timestamp remain unchanged."
   ]
  },
  {
   "cell_type": "code",
   "execution_count": 17,
   "id": "797c7c50-33c6-45b0-bfff-6c691cca6217",
   "metadata": {},
   "outputs": [
    {
     "name": "stderr",
     "output_type": "stream",
     "text": [
      "INFO - 2024-12-26 10:29:23,889 - uvicorn.error - server - Shutting down\n",
      "INFO - 2024-12-26 10:29:23,991 - uvicorn.error - on - Waiting for application shutdown.\n",
      "INFO - 2024-12-26 10:29:23,992 - kodo - routes - http://localhost:3366 shutdown now\n"
     ]
    }
   ],
   "source": [
    "registry1.terminate()"
   ]
  },
  {
   "cell_type": "code",
   "execution_count": 18,
   "id": "9de2cb06-1f9e-465a-b72a-fb6fd95728fe",
   "metadata": {},
   "outputs": [
    {
     "name": "stderr",
     "output_type": "stream",
     "text": [
      "INFO - 2024-12-26 10:29:26,052 - kodo - node - http://localhost:3366: registry startup\n",
      "INFO - 2024-12-26 10:29:26,052 - kodo - node - http://localhost:3366: loading from cache ./registry1.json\n",
      "INFO - 2024-12-26 10:29:26,052 - kodo - node - http://localhost:3366: loaded 1 own nodes and 0 nodes from 0 providers\n",
      "INFO - 2024-12-26 10:29:26,052 - kodo - node - http://localhost:3366: set organization = 'registry1'\n",
      "INFO - 2024-12-26 10:29:26,052 - kodo - node - http://localhost:3366: successfully started registry\n",
      "INFO - 2024-12-26 10:29:26,052 - uvicorn.error - server - Started server process [56199]\n",
      "INFO - 2024-12-26 10:29:26,053 - uvicorn.error - on - Waiting for application startup.\n",
      "INFO - 2024-12-26 10:29:26,055 - uvicorn.error - on - Application startup complete.\n"
     ]
    }
   ],
   "source": [
    "# enable cache!\n",
    "registry1kw[\"reset\"] = False\n",
    "registry1 = Process(target=run_service, kwargs=registry1kw)\n",
    "registry1.start()"
   ]
  },
  {
   "cell_type": "code",
   "execution_count": 19,
   "id": "01859a38-fb28-4cd6-bdb9-9295d4e67a0f",
   "metadata": {},
   "outputs": [
    {
     "name": "stderr",
     "output_type": "stream",
     "text": [
      "INFO - 2024-12-26 10:29:28,865 - uvicorn.access - httptools_impl - 127.0.0.1:51177 - \"GET /flows HTTP/1.1\" 200\n"
     ]
    },
    {
     "data": {
      "text/plain": [
       "{'total': 1,\n",
       " 'filtered': 1,\n",
       " 'p': 0,\n",
       " 'pp': 10,\n",
       " 'items': [{'registry': 'http://localhost:3366',\n",
       "   'node': 'http://localhost:3367',\n",
       "   'organization': 'node1',\n",
       "   'created': '2024-12-26T10:28:59.626308',\n",
       "   'modified': '2024-12-26T10:29:20.664197',\n",
       "   'heartbeat': '2024-12-26T10:29:20.664197',\n",
       "   'url': '/test/hymn1',\n",
       "   'name': 'Hymn Creator',\n",
       "   'author': 'missing author',\n",
       "   'description': 'missing description',\n",
       "   'tags': []}],\n",
       " 'by': 'name, node, url',\n",
       " 'q': None}"
      ]
     },
     "execution_count": 19,
     "metadata": {},
     "output_type": "execute_result"
    }
   ],
   "source": [
    "resp = httpx.get(f\"{registry1ip}/flows\")\n",
    "resp.json()"
   ]
  },
  {
   "cell_type": "markdown",
   "id": "b48a0531-ab95-47e5-995a-9377892666ae",
   "metadata": {},
   "source": [
    "# REGISTRY2 STARTUP"
   ]
  },
  {
   "cell_type": "markdown",
   "id": "424c0192-9dab-414e-9145-f23f37811fc3",
   "metadata": {},
   "source": [
    "Create `registry2` and connect with `registry1`."
   ]
  },
  {
   "cell_type": "markdown",
   "id": "d2139356-2413-4e46-9c9c-ddff015a87fb",
   "metadata": {},
   "source": [
    "```mermaid\n",
    "stateDiagram\n",
    "    direction LR\n",
    "    /mytest --> node1\n",
    "    node1 --> registry1\n",
    "    registry2 --> registry1\n",
    "```"
   ]
  },
  {
   "cell_type": "markdown",
   "id": "5e847972-8fb0-4eea-9adc-68c2a5492fab",
   "metadata": {},
   "source": [
    "`registry2` at startup connects to `registry1` and POST /connect: \n",
    "```json\n",
    "{\n",
    "    \"url\": \"http://localhost:3368\",\n",
    "    \"organization\": \"registry2\",\n",
    "    \"feed\": true,\n",
    "    \"nodes\": {}\n",
    "}\n",
    "```\n",
    "\n",
    "`registry1` returns\n",
    "```json\n",
    "{\n",
    "    \"providers\": {\n",
    "        \"url\": \"http://localhost:3366\",\n",
    "        \"organization\": \"registry1\",\n",
    "        \"feed\": true,\n",
    "        \"nodes\": {\n",
    "            \"http://localhost:3367\": {\n",
    "                \"url\": \"http://localhost:3367\",\n",
    "                \"organization\": \"node1\",\n",
    "                \"flows\": {\n",
    "                    \"/mytest\": {\n",
    "                        \"url\": \"/mytest\",\n",
    "                        \"name\": \"mytest\",\n",
    "                        \"description\": null,\n",
    "                        \"tags\": null,\n",
    "                        \"author\": null\n",
    "                    }\n",
    "                },\n",
    "                \"created\": \"2024-12-25T18:03:12.989989\",\n",
    "                \"modified\": \"2024-12-25T18:05:13.972356\",\n",
    "                \"heartbeat\": \"2024-12-25T18:05:13.972356\",\n",
    "                \"status\": \"unknown\"\n",
    "            }\n",
    "        }\n",
    "    },\n",
    "    \"message\": [\n",
    "        \"registry http://localhost:3368 connected (first visit)\"\n",
    "    ]\n",
    "}\n",
    "```"
   ]
  },
  {
   "cell_type": "code",
   "execution_count": 20,
   "id": "b268a77d-9fc2-453d-a9dd-85e8217cd872",
   "metadata": {},
   "outputs": [
    {
     "name": "stderr",
     "output_type": "stream",
     "text": [
      "INFO - 2024-12-26 10:29:35,743 - kodo - node - http://localhost:3368: registry startup\n",
      "INFO - 2024-12-26 10:29:35,743 - kodo - node - http://localhost:3368: ignore cache ./registry2.json\n",
      "INFO - 2024-12-26 10:29:35,743 - kodo - node - http://localhost:3368: successfully started registry\n",
      "INFO - 2024-12-26 10:29:35,743 - uvicorn.error - server - Started server process [56208]\n",
      "INFO - 2024-12-26 10:29:35,744 - uvicorn.error - on - Waiting for application startup.\n",
      "INFO - 2024-12-26 10:29:35,746 - kodo - routes - http://localhost:3368: semaphore +1 to 1\n",
      "INFO - 2024-12-26 10:29:35,746 - uvicorn.error - on - Application startup complete.\n",
      "INFO - 2024-12-26 10:29:35,746 - kodo - routes - http://localhost:3368 establishes connection (http://localhost:3366/connect)\n",
      "INFO - 2024-12-26 10:29:35,765 - kodo - routes - http://localhost:3366 on /connect\n",
      "INFO - 2024-12-26 10:29:35,765 - kodo - routes - http://localhost:3366: provider dump to ./registry1.json\n",
      "INFO - 2024-12-26 10:29:35,765 - kodo - routes - http://localhost:3366 has 1 peers: http://localhost:3368\n",
      "INFO - 2024-12-26 10:29:35,765 - uvicorn.access - httptools_impl - 127.0.0.1:51179 - \"POST /connect HTTP/1.1\" 200\n",
      "INFO - 2024-12-26 10:29:35,766 - httpx - _client - HTTP Request: POST http://localhost:3366/connect \"HTTP/1.1 200 OK\"\n",
      "INFO - 2024-12-26 10:29:35,766 - kodo - routes - http://localhost:3368 successfully connected to http://localhost:3366\n",
      "INFO - 2024-12-26 10:29:35,766 - kodo - routes - http://localhost:3368: semaphore -1 to 0\n",
      "INFO - 2024-12-26 10:29:35,766 - kodo - routes - http://localhost:3368: provider dump to ./registry2.json\n",
      "INFO - 2024-12-26 10:29:35,766 - kodo - routes - http://localhost:3368 registry startup complete\n"
     ]
    }
   ],
   "source": [
    "registry2kw = {\n",
    "    \"url\": registry2ip, \n",
    "    \"connect\": [registry1ip],\n",
    "    \"organization\": \"registry2\",\n",
    "    \"node\": False, \n",
    "    \"registry\": True,\n",
    "    # initialise the cache, which we will use later\n",
    "    \"cache\": \"./registry2.json\",\n",
    "    # start from scratch\n",
    "    \"reset\": True\n",
    "}\n",
    "registry2 = Process(target=run_service, kwargs=registry2kw)\n",
    "registry2.start()"
   ]
  },
  {
   "cell_type": "markdown",
   "id": "0844ee89-621c-4c8d-b51f-4a89cd61c1fb",
   "metadata": {},
   "source": [
    "# HANDSHAKE"
   ]
  },
  {
   "cell_type": "markdown",
   "id": "4e620e26-9be7-404b-8ed7-48700bddc5bc",
   "metadata": {},
   "source": [
    "The registry is up-and-running and connected to `registry1`."
   ]
  },
  {
   "cell_type": "code",
   "execution_count": 21,
   "id": "9224de35-b284-4941-9cfe-a58ff3c669d6",
   "metadata": {},
   "outputs": [
    {
     "name": "stderr",
     "output_type": "stream",
     "text": [
      "INFO - 2024-12-26 10:29:40,169 - uvicorn.access - httptools_impl - 127.0.0.1:51181 - \"GET / HTTP/1.1\" 200\n"
     ]
    },
    {
     "data": {
      "text/plain": [
       "{'url': 'http://localhost:3368',\n",
       " 'organization': 'registry2',\n",
       " 'connection': {'http://localhost:3366': '2024-12-26T10:29:35.766423'},\n",
       " 'node': False,\n",
       " 'registry': True,\n",
       " 'provider': False,\n",
       " 'started_at': '2024-12-26T10:29:35.746013',\n",
       " 'idle': True,\n",
       " 'now': '2024-12-26T10:29:40.169506',\n",
       " 'message': []}"
      ]
     },
     "execution_count": 21,
     "metadata": {},
     "output_type": "execute_result"
    }
   ],
   "source": [
    "resp = httpx.get(registry2ip)\n",
    "resp.json()"
   ]
  },
  {
   "cell_type": "markdown",
   "id": "1b0042de-1a29-4e5a-94fb-05dd4b63aacf",
   "metadata": {},
   "source": [
    "Both registries `registry1` and `registry2` are in-sync."
   ]
  },
  {
   "cell_type": "code",
   "execution_count": 22,
   "id": "df248da3-dc15-4b34-bbdc-03a1bf9ae88c",
   "metadata": {},
   "outputs": [
    {
     "name": "stderr",
     "output_type": "stream",
     "text": [
      "INFO - 2024-12-26 10:29:41,476 - uvicorn.access - httptools_impl - 127.0.0.1:51183 - \"GET /flows HTTP/1.1\" 200\n",
      "INFO - 2024-12-26 10:29:41,505 - uvicorn.access - httptools_impl - 127.0.0.1:51185 - \"GET /flows HTTP/1.1\" 200\n"
     ]
    }
   ],
   "source": [
    "resp1 = httpx.get(f\"{registry1ip}/flows\")\n",
    "resp2 = httpx.get(f\"{registry2ip}/flows\")"
   ]
  },
  {
   "cell_type": "code",
   "execution_count": 23,
   "id": "c603c2ef-2211-4a2d-b009-2322b2904e04",
   "metadata": {},
   "outputs": [],
   "source": [
    "item1 = resp1.json()[\"items\"][0]\n",
    "item2 = resp2.json()[\"items\"][0]\n",
    "\n",
    "# remove the registry masquerade\n",
    "item1.pop(\"registry\")\n",
    "item2.pop(\"registry\")\n",
    "\n",
    "assert item1 == item2"
   ]
  },
  {
   "cell_type": "markdown",
   "id": "923749dc-ac73-4219-ab50-015b473a3f02",
   "metadata": {},
   "source": [
    "# Node2 connects to registry2\n",
    "## Node2 joins the mesh"
   ]
  },
  {
   "cell_type": "markdown",
   "id": "93b81836-083d-457c-8980-7f8b58c39806",
   "metadata": {},
   "source": [
    "```mermaid\n",
    "stateDiagram\n",
    "    direction LR\n",
    "    /mytest --> node1\n",
    "    node1 --> registry1\n",
    "    registry2 --> registry1\n",
    "    node2 --> registry2\n",
    "    /mytest2 --> node2\n",
    "```"
   ]
  },
  {
   "cell_type": "markdown",
   "id": "c806cc23-1696-4d2a-b229-8b92a8974599",
   "metadata": {},
   "source": [
    "node2 `POST http://registry2/register` with\n",
    "\n",
    "```json\n",
    "{\n",
    "    \"url\": \"http://localhost:3369\",\n",
    "    \"organization\": \"node2\",\n",
    "    \"flows\": {\n",
    "        \"/mytest2\": {\n",
    "            \"url\": \"/mytest2\",\n",
    "            \"name\": \"mytest2\",\n",
    "            \"description\": null,\n",
    "            \"tags\": null,\n",
    "            \"author\": null\n",
    "        }\n",
    "    },\n",
    "    \"created\": null,\n",
    "    \"modified\": null,\n",
    "    \"heartbeat\": null,\n",
    "    \"status\": \"unknown\"\n",
    "}\n",
    "```\n",
    "\n",
    "registry2 responds with\n",
    "\n",
    "```json\n",
    "{\n",
    "    \"url\": \"http://localhost:3368\",\n",
    "    \"organization\": \"registry2\",\n",
    "    \"node\": false,\n",
    "    \"registry\": true,\n",
    "    \"provider\": false,\n",
    "    \"connection\": {\n",
    "        \"http://localhost:3366\": \"2024-12-25T18:07:39.033999\"\n",
    "    },\n",
    "    \"started_at\": \"2024-12-25T18:07:39.013209\",\n",
    "    \"idle\": false,\n",
    "    \"now\": \"2024-12-25T18:35:36.659965\",\n",
    "    \"message\": [\n",
    "        \"registered node http://localhost:3369 (first visit)\",\n",
    "        \"feed forward node to http://localhost:3366\"\n",
    "    ]\n",
    "}\n",
    "```\n",
    "\n",
    "registry2 feed forwards the node update to registry1 with `POST http://registry1/update/node`\n",
    "\n",
    "```json\n",
    "{\n",
    "    \"url\": \"http://localhost:3368\",\n",
    "    \"organization\": \"registry2\",\n",
    "    \"feed\": false,\n",
    "    \"nodes\": {\n",
    "        \"http://localhost:3369\": {\n",
    "            \"url\": \"http://localhost:3369\",\n",
    "            \"organization\": \"node2\",\n",
    "            \"flows\": {\n",
    "                \"/mytest2\": {\n",
    "                    \"url\": \"/mytest2\",\n",
    "                    \"name\": \"mytest2\",\n",
    "                    \"description\": null,\n",
    "                    \"tags\": null,\n",
    "                    \"author\": null\n",
    "                }\n",
    "            },\n",
    "            \"created\": \"2024-12-25T18:35:36.651614\",\n",
    "            \"modified\": \"2024-12-25T18:35:36.651614\",\n",
    "            \"heartbeat\": \"2024-12-25T18:35:36.651614\",\n",
    "            \"status\": \"unknown\"\n",
    "        }\n",
    "    }\n",
    "}\n",
    "```\n",
    "\n",
    "response of `registry1` is\n",
    "\n",
    "```json\n",
    "{\n",
    "    \"url\": \"http://localhost:3366\",\n",
    "    \"organization\": \"registry1\",\n",
    "    \"node\": false,\n",
    "    \"registry\": true,\n",
    "    \"provider\": false,\n",
    "    \"connection\": {},\n",
    "    \"started_at\": \"2024-12-25T18:07:18.806234\",\n",
    "    \"idle\": true,\n",
    "    \"now\": \"2024-12-25T18:35:36.693275\",\n",
    "    \"message\": [\n",
    "        \"created node http://localhost:3368\"\n",
    "    ]\n",
    "}\n",
    "```"
   ]
  },
  {
   "cell_type": "code",
   "execution_count": 24,
   "id": "79588071-9fd2-4b8a-84f1-8e45988e113a",
   "metadata": {},
   "outputs": [
    {
     "data": {
      "text/plain": [
       "<module 'flows' from '/Users/raum/Project/kodo-core/tests/flows.py'>"
      ]
     },
     "execution_count": 24,
     "metadata": {},
     "output_type": "execute_result"
    }
   ],
   "source": [
    "importlib.reload(flows)"
   ]
  },
  {
   "cell_type": "code",
   "execution_count": 25,
   "id": "5e2ebaf4-806a-4696-907e-a550317c8216",
   "metadata": {},
   "outputs": [
    {
     "name": "stderr",
     "output_type": "stream",
     "text": [
      "INFO - 2024-12-26 10:29:55,079 - kodo - node - http://localhost:3369: node startup\n",
      "INFO - 2024-12-26 10:29:55,079 - kodo - node - http://localhost:3369: loaded 1 flows\n",
      "INFO - 2024-12-26 10:29:55,079 - kodo - node - http://localhost:3369: loaded 1 entries\n",
      "INFO - 2024-12-26 10:29:55,079 - kodo - node - http://localhost:3369: successfully started node\n",
      "INFO - 2024-12-26 10:29:55,079 - uvicorn.error - server - Started server process [56222]\n",
      "INFO - 2024-12-26 10:29:55,079 - uvicorn.error - on - Waiting for application startup.\n",
      "INFO - 2024-12-26 10:29:55,082 - kodo - routes - http://localhost:3369: semaphore +1 to 1\n",
      "INFO - 2024-12-26 10:29:55,082 - uvicorn.error - on - Application startup complete.\n",
      "INFO - 2024-12-26 10:29:55,082 - kodo - routes - http://localhost:3369 establishes connection (http://localhost:3368/register)\n",
      "INFO - 2024-12-26 10:29:55,097 - uvicorn.error - server - Uvicorn running on http://localhost:3369 (Press CTRL+C to quit)\n",
      "INFO - 2024-12-26 10:29:55,099 - kodo - routes - http://localhost:3368 has 1 peers: http://localhost:3366\n",
      "INFO - 2024-12-26 10:29:55,099 - kodo - routes - http://localhost:3368: semaphore +1 to 1\n",
      "INFO - 2024-12-26 10:29:55,099 - kodo - routes - http://localhost:3368: provider dump to ./registry2.json\n",
      "INFO - 2024-12-26 10:29:55,099 - kodo - routes - http://localhost:3368: client message: registered node http://localhost:3369 (first visit)\n",
      "INFO - 2024-12-26 10:29:55,099 - kodo - routes - http://localhost:3368: client message: feed forward node to http://localhost:3366\n",
      "INFO - 2024-12-26 10:29:55,099 - uvicorn.access - httptools_impl - 127.0.0.1:51192 - \"POST /register HTTP/1.1\" 200\n",
      "INFO - 2024-12-26 10:29:55,099 - kodo - routes - http://localhost:3368 establishes connection (http://localhost:3366/update/node)\n",
      "INFO - 2024-12-26 10:29:55,099 - httpx - _client - HTTP Request: POST http://localhost:3368/register \"HTTP/1.1 200 OK\"\n",
      "INFO - 2024-12-26 10:29:55,100 - kodo - routes - http://localhost:3369 successfully connected to http://localhost:3368\n",
      "INFO - 2024-12-26 10:29:55,100 - kodo - routes - http://localhost:3369: semaphore -1 to 0\n",
      "INFO - 2024-12-26 10:29:55,100 - kodo - routes - http://localhost:3369 node startup complete\n",
      "INFO - 2024-12-26 10:29:55,116 - kodo - routes - http://localhost:3366 on /update/node\n",
      "INFO - 2024-12-26 10:29:55,116 - kodo - routes - http://localhost:3366: provider dump to ./registry1.json\n",
      "INFO - 2024-12-26 10:29:55,117 - kodo - routes - http://localhost:3366 has 1 peers: http://localhost:3368\n",
      "INFO - 2024-12-26 10:29:55,117 - kodo - routes - http://localhost:3366: client message: created node http://localhost:3368\n",
      "INFO - 2024-12-26 10:29:55,117 - uvicorn.access - httptools_impl - 127.0.0.1:51194 - \"POST /update/node HTTP/1.1\" 200\n",
      "INFO - 2024-12-26 10:29:55,117 - httpx - _client - HTTP Request: POST http://localhost:3366/update/node \"HTTP/1.1 200 OK\"\n",
      "INFO - 2024-12-26 10:29:55,118 - kodo - routes - http://localhost:3368 successfully connected to http://localhost:3366\n",
      "INFO - 2024-12-26 10:29:55,118 - kodo - routes - http://localhost:3368: semaphore -1 to 0\n",
      "INFO - 2024-12-26 10:29:55,118 - kodo - routes - http://localhost:3368: provider dump to ./registry2.json\n",
      "INFO - 2024-12-26 10:29:55,127 - kodo - routes - http://localhost:3368 update from node http://localhost:3366 completed\n"
     ]
    }
   ],
   "source": [
    "node2kw = {\n",
    "    \"url\": node2ip, \n",
    "    \"connect\": [registry2ip],\n",
    "    \"organization\": \"node2\",\n",
    "    \"node\": True, \n",
    "    \"registry\": False,\n",
    "    \"provider\": False,\n",
    "    \"reload\": False,\n",
    "    \"loader\": flows.loader2\n",
    "}\n",
    "node2 = Process(target=run_service, kwargs=node2kw)\n",
    "node2.start()"
   ]
  },
  {
   "cell_type": "markdown",
   "id": "ed7926d9-fe1c-4232-9cb2-4e53286a94ac",
   "metadata": {},
   "source": [
    "The node is up-and-running and connected to http://localhost:3368 (registry2)"
   ]
  },
  {
   "cell_type": "code",
   "execution_count": 26,
   "id": "524de3de-cdad-481b-b1bc-b138b6ba13d7",
   "metadata": {},
   "outputs": [
    {
     "name": "stderr",
     "output_type": "stream",
     "text": [
      "INFO - 2024-12-26 10:30:00,622 - uvicorn.access - httptools_impl - ::1:51195 - \"GET / HTTP/1.1\" 200\n"
     ]
    },
    {
     "data": {
      "text/plain": [
       "{'url': 'http://localhost:3369',\n",
       " 'organization': 'node2',\n",
       " 'connection': {'http://localhost:3368': '2024-12-26T10:29:55.100121'},\n",
       " 'node': True,\n",
       " 'registry': False,\n",
       " 'provider': False,\n",
       " 'started_at': '2024-12-26T10:29:55.082250',\n",
       " 'idle': True,\n",
       " 'now': '2024-12-26T10:30:00.622118',\n",
       " 'message': []}"
      ]
     },
     "execution_count": 26,
     "metadata": {},
     "output_type": "execute_result"
    }
   ],
   "source": [
    "resp = httpx.get(node2ip)\n",
    "resp.json()"
   ]
  },
  {
   "cell_type": "markdown",
   "id": "c24ebcfb-be2d-4bcb-83a1-21390e3f0871",
   "metadata": {},
   "source": [
    "The flow has been created!"
   ]
  },
  {
   "cell_type": "code",
   "execution_count": 27,
   "id": "d560739b-e81b-4a1d-b3e4-0605bd4e3ae2",
   "metadata": {},
   "outputs": [
    {
     "name": "stderr",
     "output_type": "stream",
     "text": [
      "INFO - 2024-12-26 10:30:04,630 - uvicorn.access - httptools_impl - ::1:51196 - \"GET /flows HTTP/1.1\" 200\n"
     ]
    },
    {
     "data": {
      "text/plain": [
       "{'total': 1,\n",
       " 'filtered': 1,\n",
       " 'p': 0,\n",
       " 'pp': 10,\n",
       " 'items': [{'registry': 'http://localhost:3369',\n",
       "   'node': 'http://localhost:3369',\n",
       "   'organization': 'node2',\n",
       "   'created': None,\n",
       "   'modified': None,\n",
       "   'heartbeat': None,\n",
       "   'url': '/test/hymn1',\n",
       "   'name': 'Hymn Creator',\n",
       "   'author': 'missing author',\n",
       "   'description': 'missing description',\n",
       "   'tags': []}],\n",
       " 'by': 'name, node, url',\n",
       " 'q': None}"
      ]
     },
     "execution_count": 27,
     "metadata": {},
     "output_type": "execute_result"
    }
   ],
   "source": [
    "resp = httpx.get(f\"{node2ip}/flows\")\n",
    "resp.json()"
   ]
  },
  {
   "cell_type": "markdown",
   "id": "72c074c4-52dc-4353-8c46-d723272db667",
   "metadata": {},
   "source": [
    "Again the node does not report on any timestamps."
   ]
  },
  {
   "cell_type": "markdown",
   "id": "d2c7a934-f8ec-4129-a6c1-b539953b967f",
   "metadata": {},
   "source": [
    "# Visit all registries"
   ]
  },
  {
   "cell_type": "code",
   "execution_count": 28,
   "id": "0a64b107-e3ae-4583-86a9-cf0d93dc4d8d",
   "metadata": {},
   "outputs": [
    {
     "name": "stderr",
     "output_type": "stream",
     "text": [
      "INFO - 2024-12-26 10:30:05,972 - uvicorn.access - httptools_impl - 127.0.0.1:51198 - \"GET /flows HTTP/1.1\" 200\n",
      "INFO - 2024-12-26 10:30:05,997 - uvicorn.access - httptools_impl - 127.0.0.1:51200 - \"GET /flows HTTP/1.1\" 200\n"
     ]
    }
   ],
   "source": [
    "resp1 = httpx.get(f\"{registry1ip}/flows\")\n",
    "resp2 = httpx.get(f\"{registry2ip}/flows\")"
   ]
  },
  {
   "cell_type": "code",
   "execution_count": 29,
   "id": "bcb86b09-48c6-4ddc-a590-357da49f7b2a",
   "metadata": {},
   "outputs": [
    {
     "data": {
      "text/plain": [
       "{'total': 2,\n",
       " 'filtered': 2,\n",
       " 'p': 0,\n",
       " 'pp': 10,\n",
       " 'items': [{'registry': 'http://localhost:3366',\n",
       "   'node': 'http://localhost:3367',\n",
       "   'organization': 'node1',\n",
       "   'created': '2024-12-26T10:28:59.626308',\n",
       "   'modified': '2024-12-26T10:29:20.664197',\n",
       "   'heartbeat': '2024-12-26T10:29:20.664197',\n",
       "   'url': '/test/hymn1',\n",
       "   'name': 'Hymn Creator',\n",
       "   'author': 'missing author',\n",
       "   'description': 'missing description',\n",
       "   'tags': []},\n",
       "  {'registry': 'http://localhost:3366',\n",
       "   'node': 'http://localhost:3369',\n",
       "   'organization': 'node2',\n",
       "   'created': '2024-12-26T10:29:55.098981',\n",
       "   'modified': '2024-12-26T10:29:55.098981',\n",
       "   'heartbeat': '2024-12-26T10:29:55.098981',\n",
       "   'url': '/test/hymn1',\n",
       "   'name': 'Hymn Creator',\n",
       "   'author': 'missing author',\n",
       "   'description': 'missing description',\n",
       "   'tags': []}],\n",
       " 'by': 'name, node, url',\n",
       " 'q': None}"
      ]
     },
     "execution_count": 29,
     "metadata": {},
     "output_type": "execute_result"
    }
   ],
   "source": [
    "resp1.json()"
   ]
  },
  {
   "cell_type": "code",
   "execution_count": 30,
   "id": "e114154e-8e75-481f-8d14-04b299926b62",
   "metadata": {},
   "outputs": [
    {
     "data": {
      "text/plain": [
       "{'total': 2,\n",
       " 'filtered': 2,\n",
       " 'p': 0,\n",
       " 'pp': 10,\n",
       " 'items': [{'registry': 'http://localhost:3368',\n",
       "   'node': 'http://localhost:3367',\n",
       "   'organization': 'node1',\n",
       "   'created': '2024-12-26T10:28:59.626308',\n",
       "   'modified': '2024-12-26T10:29:20.664197',\n",
       "   'heartbeat': '2024-12-26T10:29:20.664197',\n",
       "   'url': '/test/hymn1',\n",
       "   'name': 'Hymn Creator',\n",
       "   'author': 'missing author',\n",
       "   'description': 'missing description',\n",
       "   'tags': []},\n",
       "  {'registry': 'http://localhost:3368',\n",
       "   'node': 'http://localhost:3369',\n",
       "   'organization': 'node2',\n",
       "   'created': '2024-12-26T10:29:55.098981',\n",
       "   'modified': '2024-12-26T10:29:55.098981',\n",
       "   'heartbeat': '2024-12-26T10:29:55.098981',\n",
       "   'url': '/test/hymn1',\n",
       "   'name': 'Hymn Creator',\n",
       "   'author': 'missing author',\n",
       "   'description': 'missing description',\n",
       "   'tags': []}],\n",
       " 'by': 'name, node, url',\n",
       " 'q': None}"
      ]
     },
     "execution_count": 30,
     "metadata": {},
     "output_type": "execute_result"
    }
   ],
   "source": [
    "resp2.json()"
   ]
  },
  {
   "cell_type": "code",
   "execution_count": 31,
   "id": "0af02f18-8b01-4295-9931-358e5d06fb97",
   "metadata": {},
   "outputs": [],
   "source": [
    "from IPython.display import display, HTML"
   ]
  },
  {
   "cell_type": "code",
   "execution_count": 32,
   "id": "61ad4b7e-e4be-4a88-8e5d-e93539ba0573",
   "metadata": {},
   "outputs": [
    {
     "name": "stderr",
     "output_type": "stream",
     "text": [
      "INFO - 2024-12-26 10:30:09,669 - uvicorn.access - httptools_impl - 127.0.0.1:51202 - \"GET /flows?format=html HTTP/1.1\" 200\n"
     ]
    },
    {
     "data": {
      "text/html": [
       "<table border=\"1\" class=\"dataframe\">\n",
       "  <thead>\n",
       "    <tr style=\"text-align: right;\">\n",
       "      <th></th>\n",
       "      <th>registry</th>\n",
       "      <th>node</th>\n",
       "      <th>organization</th>\n",
       "      <th>created</th>\n",
       "      <th>modified</th>\n",
       "      <th>heartbeat</th>\n",
       "      <th>url</th>\n",
       "      <th>name</th>\n",
       "      <th>author</th>\n",
       "      <th>description</th>\n",
       "      <th>tags</th>\n",
       "    </tr>\n",
       "  </thead>\n",
       "  <tbody>\n",
       "    <tr>\n",
       "      <th>0</th>\n",
       "      <td>http://localhost:3366</td>\n",
       "      <td>http://localhost:3367</td>\n",
       "      <td>node1</td>\n",
       "      <td>2024-12-26 10:28:59.626308</td>\n",
       "      <td>2024-12-26 10:29:20.664197</td>\n",
       "      <td>2024-12-26 10:29:20.664197</td>\n",
       "      <td>/test/hymn1</td>\n",
       "      <td>Hymn Creator</td>\n",
       "      <td>missing author</td>\n",
       "      <td>missing description</td>\n",
       "      <td>[]</td>\n",
       "    </tr>\n",
       "    <tr>\n",
       "      <th>1</th>\n",
       "      <td>http://localhost:3366</td>\n",
       "      <td>http://localhost:3369</td>\n",
       "      <td>node2</td>\n",
       "      <td>2024-12-26 10:29:55.098981</td>\n",
       "      <td>2024-12-26 10:29:55.098981</td>\n",
       "      <td>2024-12-26 10:29:55.098981</td>\n",
       "      <td>/test/hymn1</td>\n",
       "      <td>Hymn Creator</td>\n",
       "      <td>missing author</td>\n",
       "      <td>missing description</td>\n",
       "      <td>[]</td>\n",
       "    </tr>\n",
       "  </tbody>\n",
       "</table>"
      ],
      "text/plain": [
       "<IPython.core.display.HTML object>"
      ]
     },
     "metadata": {},
     "output_type": "display_data"
    }
   ],
   "source": [
    "resp1 = httpx.get(f\"{registry1ip}/flows?format=html\")\n",
    "display(HTML(resp1.content.decode(\"utf-8\")))"
   ]
  },
  {
   "cell_type": "code",
   "execution_count": 33,
   "id": "1a2cb461-0cd4-4ae2-880a-4137c00992ae",
   "metadata": {},
   "outputs": [
    {
     "name": "stderr",
     "output_type": "stream",
     "text": [
      "INFO - 2024-12-26 10:30:10,518 - uvicorn.access - httptools_impl - 127.0.0.1:51204 - \"GET /flows?format=html HTTP/1.1\" 200\n"
     ]
    },
    {
     "data": {
      "text/html": [
       "<table border=\"1\" class=\"dataframe\">\n",
       "  <thead>\n",
       "    <tr style=\"text-align: right;\">\n",
       "      <th></th>\n",
       "      <th>registry</th>\n",
       "      <th>node</th>\n",
       "      <th>organization</th>\n",
       "      <th>created</th>\n",
       "      <th>modified</th>\n",
       "      <th>heartbeat</th>\n",
       "      <th>url</th>\n",
       "      <th>name</th>\n",
       "      <th>author</th>\n",
       "      <th>description</th>\n",
       "      <th>tags</th>\n",
       "    </tr>\n",
       "  </thead>\n",
       "  <tbody>\n",
       "    <tr>\n",
       "      <th>0</th>\n",
       "      <td>http://localhost:3368</td>\n",
       "      <td>http://localhost:3367</td>\n",
       "      <td>node1</td>\n",
       "      <td>2024-12-26 10:28:59.626308</td>\n",
       "      <td>2024-12-26 10:29:20.664197</td>\n",
       "      <td>2024-12-26 10:29:20.664197</td>\n",
       "      <td>/test/hymn1</td>\n",
       "      <td>Hymn Creator</td>\n",
       "      <td>missing author</td>\n",
       "      <td>missing description</td>\n",
       "      <td>[]</td>\n",
       "    </tr>\n",
       "    <tr>\n",
       "      <th>1</th>\n",
       "      <td>http://localhost:3368</td>\n",
       "      <td>http://localhost:3369</td>\n",
       "      <td>node2</td>\n",
       "      <td>2024-12-26 10:29:55.098981</td>\n",
       "      <td>2024-12-26 10:29:55.098981</td>\n",
       "      <td>2024-12-26 10:29:55.098981</td>\n",
       "      <td>/test/hymn1</td>\n",
       "      <td>Hymn Creator</td>\n",
       "      <td>missing author</td>\n",
       "      <td>missing description</td>\n",
       "      <td>[]</td>\n",
       "    </tr>\n",
       "  </tbody>\n",
       "</table>"
      ],
      "text/plain": [
       "<IPython.core.display.HTML object>"
      ]
     },
     "metadata": {},
     "output_type": "display_data"
    }
   ],
   "source": [
    "resp1 = httpx.get(f\"{registry2ip}/flows?format=html\")\n",
    "display(HTML(resp1.content.decode(\"utf-8\")))"
   ]
  },
  {
   "cell_type": "markdown",
   "id": "89511741-7328-45b4-addf-ae2bb59601ef",
   "metadata": {},
   "source": [
    "# Node updates"
   ]
  },
  {
   "cell_type": "markdown",
   "id": "98dd997d-a3e6-4560-a9e9-7411a1af9528",
   "metadata": {},
   "source": [
    "When a node reconnects, the news is broadcasted from the sourcing registry to all peers."
   ]
  },
  {
   "cell_type": "code",
   "execution_count": 35,
   "id": "28f50dc4-45db-4bf3-b216-ec431a5314ba",
   "metadata": {},
   "outputs": [
    {
     "name": "stderr",
     "output_type": "stream",
     "text": [
      "INFO - 2024-12-26 10:30:18,952 - uvicorn.error - server - Shutting down\n",
      "INFO - 2024-12-26 10:30:19,054 - uvicorn.error - on - Waiting for application shutdown.\n",
      "INFO - 2024-12-26 10:30:19,055 - kodo - routes - http://localhost:3367 shutdown now\n",
      "INFO - 2024-12-26 10:30:19,055 - uvicorn.error - on - Application shutdown complete.\n"
     ]
    }
   ],
   "source": [
    "node1.terminate()"
   ]
  },
  {
   "cell_type": "code",
   "execution_count": 36,
   "id": "5ff6ab2a-b133-4918-87c0-0b66ea1787b9",
   "metadata": {},
   "outputs": [],
   "source": [
    "node1kw = {\n",
    "    \"url\": node1ip, \n",
    "    \"connect\": [registry1ip],\n",
    "    \"organization\": \"node1\",\n",
    "    \"node\": True, \n",
    "    \"registry\": False,\n",
    "    \"provider\": False,\n",
    "    \"reload\": False,\n",
    "    \"loader\": flows.loader3\n",
    "}"
   ]
  },
  {
   "cell_type": "markdown",
   "id": "4af96a4e-90ec-4fb9-8f08-469f48de15ff",
   "metadata": {},
   "source": [
    "node1 connects to registry1\n",
    "```json\n",
    "{\n",
    "    \"url\": \"http://localhost:3367\",\n",
    "    \"organization\": \"node1\",\n",
    "    \"flows\": {\n",
    "        \"/mytest2\": {\n",
    "            \"url\": \"/mytest2\",\n",
    "            \"name\": \"mytest2\",\n",
    "            \"description\": \"This is a testing flow\",\n",
    "            \"tags\": null,\n",
    "            \"author\": \"michi.rau@gmail.com\"\n",
    "        }\n",
    "    },\n",
    "    \"created\": null,\n",
    "    \"modified\": null,\n",
    "    \"heartbeat\": null,\n",
    "    \"status\": \"unknown\"\n",
    "}\n",
    "```\n",
    "\n",
    "registry1 responds with\n",
    "```json\n",
    "{\n",
    "    \"url\": \"http://localhost:3366\",\n",
    "    \"organization\": \"registry1\",\n",
    "    \"node\": false,\n",
    "    \"registry\": true,\n",
    "    \"provider\": false,\n",
    "    \"connection\": {},\n",
    "    \"started_at\": \"2024-12-25T18:07:18.806234\",\n",
    "    \"idle\": false,\n",
    "    \"now\": \"2024-12-25T18:44:02.640826\",\n",
    "    \"message\": [\n",
    "        \"registered node http://localhost:3367 (seen previously 2024-12-25 18:03:12.989989)\",\n",
    "        \"feed forward node to http://localhost:3368\"\n",
    "    ]\n",
    "}\n",
    "```\n",
    "\n",
    "registry1 broadcasts the update of node1 to registry2\n",
    "```json\n",
    "{\n",
    "    \"url\": \"http://localhost:3366\",\n",
    "    \"organization\": \"registry1\",\n",
    "    \"feed\": false,\n",
    "    \"nodes\": {\n",
    "        \"http://localhost:3367\": {\n",
    "            \"url\": \"http://localhost:3367\",\n",
    "            \"organization\": \"node1\",\n",
    "            \"flows\": {\n",
    "                \"/mytest2\": {\n",
    "                    \"url\": \"/mytest2\",\n",
    "                    \"name\": \"mytest2\",\n",
    "                    \"description\": \"This is a testing flow\",\n",
    "                    \"tags\": null,\n",
    "                    \"author\": \"michi.rau@gmail.com\"\n",
    "                }\n",
    "            },\n",
    "            \"created\": \"2024-12-25T18:03:12.989989\",\n",
    "            \"modified\": \"2024-12-25T18:44:02.640011\",\n",
    "            \"heartbeat\": \"2024-12-25T18:44:02.640011\",\n",
    "            \"status\": \"unknown\"\n",
    "        }\n",
    "    }\n",
    "}\n",
    "```\n",
    "\n",
    "registry2 responds with\n",
    "```json\n",
    "{\n",
    "    \"url\": \"http://localhost:3368\",\n",
    "    \"organization\": \"registry2\",\n",
    "    \"node\": false,\n",
    "    \"registry\": true,\n",
    "    \"provider\": false,\n",
    "    \"connection\": {\n",
    "        \"http://localhost:3366\": \"2024-12-25T18:35:36.694219\"\n",
    "    },\n",
    "    \"started_at\": \"2024-12-25T18:07:39.013209\",\n",
    "    \"idle\": true,\n",
    "    \"now\": \"2024-12-25T18:44:02.660559\",\n",
    "    \"message\": [\n",
    "        \"updated node http://localhost:3366\"\n",
    "    ]\n",
    "}\n",
    "```"
   ]
  },
  {
   "cell_type": "code",
   "execution_count": 37,
   "id": "e7036690-5d7a-48dc-a1a4-a81f73c10522",
   "metadata": {},
   "outputs": [
    {
     "name": "stderr",
     "output_type": "stream",
     "text": [
      "INFO - 2024-12-26 10:30:38,432 - kodo - node - http://localhost:3367: node startup\n",
      "INFO - 2024-12-26 10:30:38,432 - kodo - node - http://localhost:3367: loaded 1 flows\n",
      "INFO - 2024-12-26 10:30:38,432 - kodo - node - http://localhost:3367: loaded 1 entries\n",
      "INFO - 2024-12-26 10:30:38,432 - kodo - node - http://localhost:3367: successfully started node\n",
      "INFO - 2024-12-26 10:30:38,432 - uvicorn.error - server - Started server process [56241]\n",
      "INFO - 2024-12-26 10:30:38,432 - uvicorn.error - on - Waiting for application startup.\n",
      "INFO - 2024-12-26 10:30:38,434 - kodo - routes - http://localhost:3367: semaphore +1 to 1\n",
      "INFO - 2024-12-26 10:30:38,434 - uvicorn.error - on - Application startup complete.\n",
      "INFO - 2024-12-26 10:30:38,435 - kodo - routes - http://localhost:3367 establishes connection (http://localhost:3366/register)\n",
      "INFO - 2024-12-26 10:30:38,450 - uvicorn.error - server - Uvicorn running on http://localhost:3367 (Press CTRL+C to quit)\n",
      "INFO - 2024-12-26 10:30:38,451 - kodo - routes - http://localhost:3366 has 1 peers: http://localhost:3368\n",
      "INFO - 2024-12-26 10:30:38,451 - kodo - routes - http://localhost:3366: semaphore +1 to 1\n",
      "INFO - 2024-12-26 10:30:38,451 - kodo - routes - http://localhost:3366: provider dump to ./registry1.json\n",
      "INFO - 2024-12-26 10:30:38,452 - kodo - routes - http://localhost:3366: client message: registered node http://localhost:3367 (seen previously 2024-12-26 10:28:59.626308)\n",
      "INFO - 2024-12-26 10:30:38,452 - kodo - routes - http://localhost:3366: client message: feed forward node to http://localhost:3368\n",
      "INFO - 2024-12-26 10:30:38,452 - uvicorn.access - httptools_impl - 127.0.0.1:51209 - \"POST /register HTTP/1.1\" 200\n",
      "INFO - 2024-12-26 10:30:38,452 - kodo - routes - http://localhost:3366 establishes connection (http://localhost:3368/update/node)\n",
      "INFO - 2024-12-26 10:30:38,452 - httpx - _client - HTTP Request: POST http://localhost:3366/register \"HTTP/1.1 200 OK\"\n",
      "INFO - 2024-12-26 10:30:38,452 - kodo - routes - http://localhost:3367 successfully connected to http://localhost:3366\n",
      "INFO - 2024-12-26 10:30:38,452 - kodo - routes - http://localhost:3367: semaphore -1 to 0\n",
      "INFO - 2024-12-26 10:30:38,452 - kodo - routes - http://localhost:3367 node startup complete\n",
      "INFO - 2024-12-26 10:30:38,470 - kodo - routes - http://localhost:3368 on /update/node\n",
      "INFO - 2024-12-26 10:30:38,470 - kodo - routes - http://localhost:3368: provider dump to ./registry2.json\n",
      "INFO - 2024-12-26 10:30:38,471 - kodo - routes - http://localhost:3368 has 1 peers: http://localhost:3366\n",
      "INFO - 2024-12-26 10:30:38,471 - kodo - routes - http://localhost:3368: client message: updated node http://localhost:3366\n",
      "INFO - 2024-12-26 10:30:38,471 - uvicorn.access - httptools_impl - 127.0.0.1:51211 - \"POST /update/node HTTP/1.1\" 200\n",
      "INFO - 2024-12-26 10:30:38,471 - httpx - _client - HTTP Request: POST http://localhost:3368/update/node \"HTTP/1.1 200 OK\"\n",
      "INFO - 2024-12-26 10:30:38,472 - kodo - routes - http://localhost:3366 successfully connected to http://localhost:3368\n",
      "INFO - 2024-12-26 10:30:38,472 - kodo - routes - http://localhost:3366: semaphore -1 to 0\n",
      "INFO - 2024-12-26 10:30:38,472 - kodo - routes - http://localhost:3366: provider dump to ./registry1.json\n",
      "INFO - 2024-12-26 10:30:38,483 - kodo - routes - http://localhost:3366 update from node http://localhost:3368 completed\n"
     ]
    }
   ],
   "source": [
    "node1 = Process(target=run_service, kwargs=node1kw)\n",
    "node1.start()"
   ]
  },
  {
   "cell_type": "markdown",
   "id": "804e36ef-dec8-40d4-ad3e-8f50a8a293bc",
   "metadata": {},
   "source": [
    "## revisit registries"
   ]
  },
  {
   "cell_type": "code",
   "execution_count": 38,
   "id": "8712d86d-bcaf-462c-b219-1594ac1e2578",
   "metadata": {},
   "outputs": [
    {
     "name": "stderr",
     "output_type": "stream",
     "text": [
      "INFO - 2024-12-26 10:30:44,915 - uvicorn.access - httptools_impl - 127.0.0.1:51213 - \"GET /flows?format=html HTTP/1.1\" 200\n"
     ]
    },
    {
     "data": {
      "text/html": [
       "<table border=\"1\" class=\"dataframe\">\n",
       "  <thead>\n",
       "    <tr style=\"text-align: right;\">\n",
       "      <th></th>\n",
       "      <th>registry</th>\n",
       "      <th>node</th>\n",
       "      <th>organization</th>\n",
       "      <th>created</th>\n",
       "      <th>modified</th>\n",
       "      <th>heartbeat</th>\n",
       "      <th>url</th>\n",
       "      <th>name</th>\n",
       "      <th>author</th>\n",
       "      <th>description</th>\n",
       "      <th>tags</th>\n",
       "    </tr>\n",
       "  </thead>\n",
       "  <tbody>\n",
       "    <tr>\n",
       "      <th>0</th>\n",
       "      <td>http://localhost:3366</td>\n",
       "      <td>http://localhost:3367</td>\n",
       "      <td>node1</td>\n",
       "      <td>2024-12-26 10:28:59.626308</td>\n",
       "      <td>2024-12-26 10:30:38.451698</td>\n",
       "      <td>2024-12-26 10:30:38.451698</td>\n",
       "      <td>/test/hymn1</td>\n",
       "      <td>Hymn Creator</td>\n",
       "      <td>michi.rau@gmail.com</td>\n",
       "      <td>This is a testing flow</td>\n",
       "      <td>[]</td>\n",
       "    </tr>\n",
       "    <tr>\n",
       "      <th>1</th>\n",
       "      <td>http://localhost:3366</td>\n",
       "      <td>http://localhost:3369</td>\n",
       "      <td>node2</td>\n",
       "      <td>2024-12-26 10:29:55.098981</td>\n",
       "      <td>2024-12-26 10:29:55.098981</td>\n",
       "      <td>2024-12-26 10:29:55.098981</td>\n",
       "      <td>/test/hymn1</td>\n",
       "      <td>Hymn Creator</td>\n",
       "      <td>missing author</td>\n",
       "      <td>missing description</td>\n",
       "      <td>[]</td>\n",
       "    </tr>\n",
       "  </tbody>\n",
       "</table>"
      ],
      "text/plain": [
       "<IPython.core.display.HTML object>"
      ]
     },
     "metadata": {},
     "output_type": "display_data"
    }
   ],
   "source": [
    "resp1 = httpx.get(f\"{registry1ip}/flows?format=html\")\n",
    "display(HTML(resp1.content.decode(\"utf-8\")))"
   ]
  },
  {
   "cell_type": "code",
   "execution_count": 39,
   "id": "3aed39b3-f852-4d62-a975-977f7abe76bd",
   "metadata": {},
   "outputs": [
    {
     "name": "stderr",
     "output_type": "stream",
     "text": [
      "INFO - 2024-12-26 10:30:45,624 - uvicorn.access - httptools_impl - 127.0.0.1:51215 - \"GET /flows?format=html HTTP/1.1\" 200\n"
     ]
    },
    {
     "data": {
      "text/html": [
       "<table border=\"1\" class=\"dataframe\">\n",
       "  <thead>\n",
       "    <tr style=\"text-align: right;\">\n",
       "      <th></th>\n",
       "      <th>registry</th>\n",
       "      <th>node</th>\n",
       "      <th>organization</th>\n",
       "      <th>created</th>\n",
       "      <th>modified</th>\n",
       "      <th>heartbeat</th>\n",
       "      <th>url</th>\n",
       "      <th>name</th>\n",
       "      <th>author</th>\n",
       "      <th>description</th>\n",
       "      <th>tags</th>\n",
       "    </tr>\n",
       "  </thead>\n",
       "  <tbody>\n",
       "    <tr>\n",
       "      <th>0</th>\n",
       "      <td>http://localhost:3368</td>\n",
       "      <td>http://localhost:3367</td>\n",
       "      <td>node1</td>\n",
       "      <td>2024-12-26 10:28:59.626308</td>\n",
       "      <td>2024-12-26 10:30:38.451698</td>\n",
       "      <td>2024-12-26 10:30:38.451698</td>\n",
       "      <td>/test/hymn1</td>\n",
       "      <td>Hymn Creator</td>\n",
       "      <td>michi.rau@gmail.com</td>\n",
       "      <td>This is a testing flow</td>\n",
       "      <td>[]</td>\n",
       "    </tr>\n",
       "    <tr>\n",
       "      <th>1</th>\n",
       "      <td>http://localhost:3368</td>\n",
       "      <td>http://localhost:3369</td>\n",
       "      <td>node2</td>\n",
       "      <td>2024-12-26 10:29:55.098981</td>\n",
       "      <td>2024-12-26 10:29:55.098981</td>\n",
       "      <td>2024-12-26 10:29:55.098981</td>\n",
       "      <td>/test/hymn1</td>\n",
       "      <td>Hymn Creator</td>\n",
       "      <td>missing author</td>\n",
       "      <td>missing description</td>\n",
       "      <td>[]</td>\n",
       "    </tr>\n",
       "  </tbody>\n",
       "</table>"
      ],
      "text/plain": [
       "<IPython.core.display.HTML object>"
      ]
     },
     "metadata": {},
     "output_type": "display_data"
    }
   ],
   "source": [
    "resp2 = httpx.get(f\"{registry2ip}/flows?format=html\")\n",
    "display(HTML(resp2.content.decode(\"utf-8\")))"
   ]
  },
  {
   "cell_type": "markdown",
   "id": "99538e58-c518-4b78-bdf3-768bc8197a85",
   "metadata": {},
   "source": [
    "# TERMINATION"
   ]
  },
  {
   "cell_type": "code",
   "execution_count": 50,
   "id": "ec14f1fa-944f-465f-bf22-8d37343dc8b3",
   "metadata": {},
   "outputs": [
    {
     "name": "stderr",
     "output_type": "stream",
     "text": [
      "INFO - 2024-12-26 11:22:04,734 - uvicorn.error - server - Shutting down\n",
      "INFO - 2024-12-26 11:22:04,835 - uvicorn.error - on - Waiting for application shutdown.\n",
      "INFO - 2024-12-26 11:22:04,836 - kodo - routes - http://localhost:3366 shutdown now\n"
     ]
    }
   ],
   "source": [
    "registry1.terminate()"
   ]
  },
  {
   "cell_type": "code",
   "execution_count": 51,
   "id": "76b96e70-f9f9-4e2e-8746-2a2f8fe3dbd9",
   "metadata": {},
   "outputs": [],
   "source": [
    "node1.terminate()"
   ]
  },
  {
   "cell_type": "code",
   "execution_count": 52,
   "id": "437672a7-edfe-47dc-97c7-cbe1ea59d6bf",
   "metadata": {},
   "outputs": [],
   "source": [
    "registry2.terminate()"
   ]
  },
  {
   "cell_type": "code",
   "execution_count": 53,
   "id": "abc3c080-1563-48b0-9d3a-9c43811d1b46",
   "metadata": {},
   "outputs": [],
   "source": [
    "node2.terminate()"
   ]
  },
  {
   "cell_type": "code",
   "execution_count": null,
   "id": "fe0b4249-5497-4418-86d9-61c34c407936",
   "metadata": {},
   "outputs": [],
   "source": []
  }
 ],
 "metadata": {
  "kernelspec": {
   "display_name": "Python 3 (ipykernel)",
   "language": "python",
   "name": "python3"
  },
  "language_info": {
   "codemirror_mode": {
    "name": "ipython",
    "version": 3
   },
   "file_extension": ".py",
   "mimetype": "text/x-python",
   "name": "python",
   "nbconvert_exporter": "python",
   "pygments_lexer": "ipython3",
   "version": "3.12.6"
  }
 },
 "nbformat": 4,
 "nbformat_minor": 5
}
